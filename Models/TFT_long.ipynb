{
 "cells": [
  {
   "cell_type": "markdown",
   "metadata": {},
   "source": [
    "# TFT (Long forecasting)\n",
    "#### Sliding Window Forecasting - 3 years in, 1 year out"
   ]
  },
  {
   "cell_type": "markdown",
   "metadata": {},
   "source": [
    "### Need for runnning colab"
   ]
  },
  {
   "cell_type": "code",
   "execution_count": null,
   "metadata": {},
   "outputs": [],
   "source": [
    "# !pip install torch torchvision torchaudio pandas numpy scikit-learn\n",
    "\n",
    "# from google.colab import files\n",
    "# uploaded = files.upload()\n",
    "\n",
    "# # Mount Google Drive\n",
    "# from google.colab import drive\n",
    "# drive.mount('/content/drive')"
   ]
  },
  {
   "cell_type": "markdown",
   "metadata": {},
   "source": [
    "## Importing Data"
   ]
  },
  {
   "cell_type": "code",
   "execution_count": 1,
   "metadata": {},
   "outputs": [
    {
     "name": "stdout",
     "output_type": "stream",
     "text": [
      "            HourUTC              HourDK  MunicipalityNo Branche  \\\n",
      "0  2021-01-01 00:00 2021-01-01 01:00:00             851  Privat   \n",
      "1  2021-01-01 01:00 2021-01-01 02:00:00             851  Privat   \n",
      "2  2021-01-01 02:00 2021-01-01 03:00:00             851  Privat   \n",
      "3  2021-01-01 03:00 2021-01-01 04:00:00             851  Privat   \n",
      "4  2021-01-01 04:00 2021-01-01 05:00:00             851  Privat   \n",
      "\n",
      "   ConsumptionkWh  \n",
      "0       35086.772  \n",
      "1       31777.762  \n",
      "2       28423.659  \n",
      "3       25675.926  \n",
      "4       24283.909  \n",
      "\n",
      "\n",
      "                HourUTC              HourDK  MunicipalityNo Branche  \\\n",
      "33834  2024-11-10 18:00 2024-11-10 19:00:00             851  Privat   \n",
      "33835  2024-11-10 19:00 2024-11-10 20:00:00             851  Privat   \n",
      "33836  2024-11-10 20:00 2024-11-10 21:00:00             851  Privat   \n",
      "33837  2024-11-10 21:00 2024-11-10 22:00:00             851  Privat   \n",
      "33838  2024-11-10 22:00 2024-11-10 23:00:00             851  Privat   \n",
      "\n",
      "       ConsumptionkWh  \n",
      "33834       48584.696  \n",
      "33835       44105.371  \n",
      "33836       41492.172  \n",
      "33837       37148.073  \n",
      "33838       33307.696  \n",
      "\n",
      "\n",
      "<class 'pandas.core.frame.DataFrame'>\n",
      "RangeIndex: 33839 entries, 0 to 33838\n",
      "Data columns (total 5 columns):\n",
      " #   Column          Non-Null Count  Dtype         \n",
      "---  ------          --------------  -----         \n",
      " 0   HourUTC         33839 non-null  object        \n",
      " 1   HourDK          33839 non-null  datetime64[ns]\n",
      " 2   MunicipalityNo  33839 non-null  int64         \n",
      " 3   Branche         33839 non-null  object        \n",
      " 4   ConsumptionkWh  33839 non-null  float64       \n",
      "dtypes: datetime64[ns](1), float64(1), int64(1), object(2)\n",
      "memory usage: 1.3+ MB\n",
      "None\n",
      "\n",
      "\n"
     ]
    }
   ],
   "source": [
    "import pandas as pd\n",
    "\n",
    "# Correct the file path to the actual location of the CSV file\n",
    "df = pd.read_csv('/Users/casper/Documents/GitHub/p9-energy/Dataset/ConsumptionIndustry.csv', sep=';')\n",
    "\n",
    "# Load the dataset for colab\n",
    "# df = pd.read_csv('ConsumptionIndustry.csv', sep=';')\n",
    "\n",
    "\n",
    "# Convert HourDK to datetime\n",
    "df['HourDK'] = pd.to_datetime(df['HourDK'])\n",
    "\n",
    "# Convert ConsumptionkWh to numeric\n",
    "df['ConsumptionkWh'] = df['ConsumptionkWh'].str.replace(\",\", \".\").astype(float)\n",
    "\n",
    "\n",
    "print(df.head())\n",
    "print('\\n')\n",
    "print(df.tail())\n",
    "print('\\n')\n",
    "print(df.info())\n",
    "print('\\n')"
   ]
  },
  {
   "cell_type": "markdown",
   "metadata": {},
   "source": [
    "## Data preperation + Feature Engineering"
   ]
  },
  {
   "cell_type": "code",
   "execution_count": null,
   "metadata": {},
   "outputs": [
    {
     "name": "stdout",
     "output_type": "stream",
     "text": [
      "              HourUTC              HourDK  MunicipalityNo Branche  \\\n",
      "168  2021-01-08 00:00 2021-01-08 01:00:00             851  Privat   \n",
      "169  2021-01-08 01:00 2021-01-08 02:00:00             851  Privat   \n",
      "170  2021-01-08 02:00 2021-01-08 03:00:00             851  Privat   \n",
      "171  2021-01-08 03:00 2021-01-08 04:00:00             851  Privat   \n",
      "172  2021-01-08 04:00 2021-01-08 05:00:00             851  Privat   \n",
      "\n",
      "     ConsumptionkWh  ConsumptionkWh_lag1  ConsumptionkWh_lag24  \\\n",
      "168       26017.693            28924.472             26466.212   \n",
      "169       24636.978            26017.693             24937.988   \n",
      "170       24047.257            24636.978             24296.799   \n",
      "171       24098.255            24047.257             24204.419   \n",
      "172       25498.785            24098.255             25616.628   \n",
      "\n",
      "     ConsumptionkWh_lag168  ConsumptionkWh_roll24  ConsumptionkWh_roll168  \\\n",
      "168              35086.772           42256.679583            42076.515690   \n",
      "169              31777.762           42244.137500            42034.011024   \n",
      "170              28423.659           42233.739917            42007.961012   \n",
      "171              25675.926           42229.316417            41998.570113   \n",
      "172              24283.909           42224.406292            42005.801518   \n",
      "\n",
      "     is_holiday  day_of_week  is_weekend  hour_sin  hour_cos   day_sin  \\\n",
      "168       False            4           0  0.258819  0.965926 -0.433884   \n",
      "169       False            4           0  0.500000  0.866025 -0.433884   \n",
      "170       False            4           0  0.707107  0.707107 -0.433884   \n",
      "171       False            4           0  0.866025  0.500000 -0.433884   \n",
      "172       False            4           0  0.965926  0.258819 -0.433884   \n",
      "\n",
      "      day_cos  month_sin  month_cos  \n",
      "168 -0.900969        0.5   0.866025  \n",
      "169 -0.900969        0.5   0.866025  \n",
      "170 -0.900969        0.5   0.866025  \n",
      "171 -0.900969        0.5   0.866025  \n",
      "172 -0.900969        0.5   0.866025  \n",
      "<class 'pandas.core.frame.DataFrame'>\n",
      "Index: 33671 entries, 168 to 33838\n",
      "Data columns (total 19 columns):\n",
      " #   Column                  Non-Null Count  Dtype         \n",
      "---  ------                  --------------  -----         \n",
      " 0   HourUTC                 33671 non-null  object        \n",
      " 1   HourDK                  33671 non-null  datetime64[ns]\n",
      " 2   MunicipalityNo          33671 non-null  int64         \n",
      " 3   Branche                 33671 non-null  object        \n",
      " 4   ConsumptionkWh          33671 non-null  float64       \n",
      " 5   ConsumptionkWh_lag1     33671 non-null  float64       \n",
      " 6   ConsumptionkWh_lag24    33671 non-null  float64       \n",
      " 7   ConsumptionkWh_lag168   33671 non-null  float64       \n",
      " 8   ConsumptionkWh_roll24   33671 non-null  float64       \n",
      " 9   ConsumptionkWh_roll168  33671 non-null  float64       \n",
      " 10  is_holiday              33671 non-null  bool          \n",
      " 11  day_of_week             33671 non-null  int32         \n",
      " 12  is_weekend              33671 non-null  int64         \n",
      " 13  hour_sin                33671 non-null  float64       \n",
      " 14  hour_cos                33671 non-null  float64       \n",
      " 15  day_sin                 33671 non-null  float64       \n",
      " 16  day_cos                 33671 non-null  float64       \n",
      " 17  month_sin               33671 non-null  float64       \n",
      " 18  month_cos               33671 non-null  float64       \n",
      "dtypes: bool(1), datetime64[ns](1), float64(12), int32(1), int64(2), object(2)\n",
      "memory usage: 4.8+ MB\n",
      "None\n"
     ]
    }
   ],
   "source": [
    "import numpy as np\n",
    "\n",
    "df['HourDK'] = pd.to_datetime(df['HourDK'])\n",
    "\n",
    "# Lag features\n",
    "df['ConsumptionkWh_lag1'] = df['ConsumptionkWh'].shift(1)\n",
    "df['ConsumptionkWh_lag24'] = df['ConsumptionkWh'].shift(24)\n",
    "df['ConsumptionkWh_lag168'] = df['ConsumptionkWh'].shift(168)\n",
    "\n",
    "\n",
    "# Rolling Average\n",
    "df['ConsumptionkWh_roll24'] = df['ConsumptionkWh'].rolling(window=24).mean()\n",
    "df['ConsumptionkWh_roll168'] = df['ConsumptionkWh'].rolling(window=168).mean()\n",
    "\n",
    "# Holidays in Denmark from 2021 to 2024 (source: https://publicholidays.dk/)\n",
    "holidays = ['2021-01-01', '2021-04-01', '2021-04-02', '2021-04-05', '2021-05-13', '2021-05-21', '2021-06-01', '2021-06-24', '2021-12-24', '2021-12-25', '2021-12-26', '2021-12-31', '2022-01-01', '2022-04-14', '2022-04-15', '2022-04-18', '2022-05-05', '2022-05-13', '2022-05-26', '2022-06-05', '2022-06-24', '2022-12-24', '2022-12-25', '2022-12-26', '2022-12-31', '2023-01-01', '2023-03-24', '2023-03-25', '2023-03-26', '2023-04-07', '2023-05-05', '2023-05-13', '2023-05-26', '2023-06-05', '2023-06-24', '2023-12-24', '2023-12-25', '2023-12-26', '2023-12-31', '2024-01-01', '2024-03-28', '2024-03-29', '2024-03-30', '2024-04-05', '2024-05-05', '2024-05-13', '2024-05-26', '2024-06-05', '2024-06-24']\n",
    "holidays = pd.to_datetime(holidays)\n",
    "df['is_holiday'] = df['HourDK'].dt.date.isin(holidays.date)\n",
    "\n",
    "# Weekday and weekend flag\n",
    "df['day_of_week'] = df['HourDK'].dt.dayofweek\n",
    "df['is_weekend'] = df['day_of_week'].isin([5, 6]).astype(int)\n",
    "\n",
    "\n",
    "# Hour of the Day (0-23) to sine/cosine transformation\n",
    "df['hour_sin'] = np.sin(2 * np.pi * df['HourDK'].dt.hour / 24)\n",
    "df['hour_cos'] = np.cos(2 * np.pi * df['HourDK'].dt.hour / 24)\n",
    "\n",
    "# Day of the Week (0-6) to sine/cosine transformation\n",
    "df['day_sin'] = np.sin(2 * np.pi * df['day_of_week'] / 7)\n",
    "df['day_cos'] = np.cos(2 * np.pi * df['day_of_week'] / 7)\n",
    "\n",
    "# Month of the Year (1-12) to sine/cosine transformation\n",
    "df['month_sin'] = np.sin(2 * np.pi * df['HourDK'].dt.month / 12)\n",
    "df['month_cos'] = np.cos(2 * np.pi * df['HourDK'].dt.month / 12)\n",
    "\n",
    "# drop Nan values\n",
    "df = df.dropna()\n",
    "\n",
    "print(df.head())\n",
    "print(df.info())"
   ]
  }
 ],
 "metadata": {
  "kernelspec": {
   "display_name": "testing_env",
   "language": "python",
   "name": "python3"
  },
  "language_info": {
   "codemirror_mode": {
    "name": "ipython",
    "version": 3
   },
   "file_extension": ".py",
   "mimetype": "text/x-python",
   "name": "python",
   "nbconvert_exporter": "python",
   "pygments_lexer": "ipython3",
   "version": "3.9.20"
  }
 },
 "nbformat": 4,
 "nbformat_minor": 2
}
