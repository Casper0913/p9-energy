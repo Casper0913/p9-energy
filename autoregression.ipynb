{
 "cells": [
  {
   "cell_type": "code",
   "execution_count": 6,
   "metadata": {},
   "outputs": [
    {
     "name": "stdout",
     "output_type": "stream",
     "text": [
      "Requirement already satisfied: numpy in c:\\users\\sebas\\appdata\\local\\programs\\python\\python312\\lib\\site-packages (1.26.2)\n",
      "Requirement already satisfied: pandas in c:\\users\\sebas\\appdata\\local\\programs\\python\\python312\\lib\\site-packages (2.1.3)\n",
      "Requirement already satisfied: pmdarima in c:\\users\\sebas\\appdata\\local\\programs\\python\\python312\\lib\\site-packages (2.0.4)\n",
      "Requirement already satisfied: statsmodels in c:\\users\\sebas\\appdata\\local\\programs\\python\\python312\\lib\\site-packages (0.14.4)\n",
      "Requirement already satisfied: skforecast in c:\\users\\sebas\\appdata\\local\\programs\\python\\python312\\lib\\site-packages (0.13.0)\n",
      "Requirement already satisfied: matplotlib in c:\\users\\sebas\\appdata\\local\\programs\\python\\python312\\lib\\site-packages (3.8.2)\n",
      "Collecting seaborn\n",
      "  Downloading seaborn-0.13.2-py3-none-any.whl.metadata (5.4 kB)\n",
      "Requirement already satisfied: python-dateutil>=2.8.2 in c:\\users\\sebas\\appdata\\local\\programs\\python\\python312\\lib\\site-packages (from pandas) (2.8.2)\n",
      "Requirement already satisfied: pytz>=2020.1 in c:\\users\\sebas\\appdata\\local\\programs\\python\\python312\\lib\\site-packages (from pandas) (2023.3.post1)\n",
      "Requirement already satisfied: tzdata>=2022.1 in c:\\users\\sebas\\appdata\\local\\programs\\python\\python312\\lib\\site-packages (from pandas) (2023.3)\n",
      "Requirement already satisfied: joblib>=0.11 in c:\\users\\sebas\\appdata\\local\\programs\\python\\python312\\lib\\site-packages (from pmdarima) (1.3.2)\n",
      "Requirement already satisfied: Cython!=0.29.18,!=0.29.31,>=0.29 in c:\\users\\sebas\\appdata\\local\\programs\\python\\python312\\lib\\site-packages (from pmdarima) (3.0.11)\n",
      "Requirement already satisfied: scikit-learn>=0.22 in c:\\users\\sebas\\appdata\\local\\programs\\python\\python312\\lib\\site-packages (from pmdarima) (1.3.2)\n",
      "Requirement already satisfied: scipy>=1.3.2 in c:\\users\\sebas\\appdata\\local\\programs\\python\\python312\\lib\\site-packages (from pmdarima) (1.11.4)\n",
      "Requirement already satisfied: urllib3 in c:\\users\\sebas\\appdata\\local\\programs\\python\\python312\\lib\\site-packages (from pmdarima) (2.1.0)\n",
      "Requirement already satisfied: setuptools!=50.0.0,>=38.6.0 in c:\\users\\sebas\\appdata\\local\\programs\\python\\python312\\lib\\site-packages (from pmdarima) (68.2.2)\n",
      "Requirement already satisfied: packaging>=17.1 in c:\\users\\sebas\\appdata\\local\\programs\\python\\python312\\lib\\site-packages (from pmdarima) (23.2)\n",
      "Requirement already satisfied: patsy>=0.5.6 in c:\\users\\sebas\\appdata\\local\\programs\\python\\python312\\lib\\site-packages (from statsmodels) (0.5.6)\n",
      "Requirement already satisfied: tqdm>=4.57 in c:\\users\\sebas\\appdata\\local\\programs\\python\\python312\\lib\\site-packages (from skforecast) (4.66.1)\n",
      "Requirement already satisfied: optuna>=2.10 in c:\\users\\sebas\\appdata\\local\\programs\\python\\python312\\lib\\site-packages (from skforecast) (4.0.0)\n",
      "Requirement already satisfied: contourpy>=1.0.1 in c:\\users\\sebas\\appdata\\local\\programs\\python\\python312\\lib\\site-packages (from matplotlib) (1.2.0)\n",
      "Requirement already satisfied: cycler>=0.10 in c:\\users\\sebas\\appdata\\local\\programs\\python\\python312\\lib\\site-packages (from matplotlib) (0.12.1)\n",
      "Requirement already satisfied: fonttools>=4.22.0 in c:\\users\\sebas\\appdata\\local\\programs\\python\\python312\\lib\\site-packages (from matplotlib) (4.47.0)\n",
      "Requirement already satisfied: kiwisolver>=1.3.1 in c:\\users\\sebas\\appdata\\local\\programs\\python\\python312\\lib\\site-packages (from matplotlib) (1.4.5)\n",
      "Requirement already satisfied: pillow>=8 in c:\\users\\sebas\\appdata\\local\\programs\\python\\python312\\lib\\site-packages (from matplotlib) (10.1.0)\n",
      "Requirement already satisfied: pyparsing>=2.3.1 in c:\\users\\sebas\\appdata\\local\\programs\\python\\python312\\lib\\site-packages (from matplotlib) (3.1.1)\n",
      "Requirement already satisfied: alembic>=1.5.0 in c:\\users\\sebas\\appdata\\local\\programs\\python\\python312\\lib\\site-packages (from optuna>=2.10->skforecast) (1.13.3)\n",
      "Requirement already satisfied: colorlog in c:\\users\\sebas\\appdata\\local\\programs\\python\\python312\\lib\\site-packages (from optuna>=2.10->skforecast) (6.8.2)\n",
      "Requirement already satisfied: sqlalchemy>=1.3.0 in c:\\users\\sebas\\appdata\\local\\programs\\python\\python312\\lib\\site-packages (from optuna>=2.10->skforecast) (2.0.36)\n",
      "Requirement already satisfied: PyYAML in c:\\users\\sebas\\appdata\\local\\programs\\python\\python312\\lib\\site-packages (from optuna>=2.10->skforecast) (6.0.1)\n",
      "Requirement already satisfied: six in c:\\users\\sebas\\appdata\\local\\programs\\python\\python312\\lib\\site-packages (from patsy>=0.5.6->statsmodels) (1.16.0)\n",
      "Requirement already satisfied: threadpoolctl>=2.0.0 in c:\\users\\sebas\\appdata\\local\\programs\\python\\python312\\lib\\site-packages (from scikit-learn>=0.22->pmdarima) (3.2.0)\n",
      "Requirement already satisfied: colorama in c:\\users\\sebas\\appdata\\local\\programs\\python\\python312\\lib\\site-packages (from tqdm>=4.57->skforecast) (0.4.6)\n",
      "Requirement already satisfied: Mako in c:\\users\\sebas\\appdata\\local\\programs\\python\\python312\\lib\\site-packages (from alembic>=1.5.0->optuna>=2.10->skforecast) (1.3.5)\n",
      "Requirement already satisfied: typing-extensions>=4 in c:\\users\\sebas\\appdata\\local\\programs\\python\\python312\\lib\\site-packages (from alembic>=1.5.0->optuna>=2.10->skforecast) (4.10.0)\n",
      "Requirement already satisfied: greenlet!=0.4.17 in c:\\users\\sebas\\appdata\\local\\programs\\python\\python312\\lib\\site-packages (from sqlalchemy>=1.3.0->optuna>=2.10->skforecast) (3.1.1)\n",
      "Requirement already satisfied: MarkupSafe>=0.9.2 in c:\\users\\sebas\\appdata\\local\\programs\\python\\python312\\lib\\site-packages (from Mako->alembic>=1.5.0->optuna>=2.10->skforecast) (2.1.3)\n",
      "Downloading seaborn-0.13.2-py3-none-any.whl (294 kB)\n",
      "   ---------------------------------------- 0.0/294.9 kB ? eta -:--:--\n",
      "   ---------------------------------------- 0.0/294.9 kB ? eta -:--:--\n",
      "   - -------------------------------------- 10.2/294.9 kB ? eta -:--:--\n",
      "   -------- ------------------------------ 61.4/294.9 kB 656.4 kB/s eta 0:00:01\n",
      "   -------------------------------------- - 286.7/294.9 kB 2.2 MB/s eta 0:00:01\n",
      "   ---------------------------------------- 294.9/294.9 kB 2.0 MB/s eta 0:00:00\n",
      "Installing collected packages: seaborn\n",
      "Successfully installed seaborn-0.13.2\n"
     ]
    },
    {
     "name": "stderr",
     "output_type": "stream",
     "text": [
      "\n",
      "[notice] A new release of pip is available: 24.0 -> 24.2\n",
      "[notice] To update, run: python.exe -m pip install --upgrade pip\n"
     ]
    }
   ],
   "source": [
    "#https://cienciadedatos.net/documentos/py51-arima-sarimax-models-python\n",
    "import sys\n",
    "!{sys.executable} -m pip install numpy pandas pmdarima statsmodels skforecast matplotlib seaborn"
   ]
  },
  {
   "cell_type": "code",
   "execution_count": 7,
   "metadata": {},
   "outputs": [
    {
     "name": "stderr",
     "output_type": "stream",
     "text": [
      "c:\\Users\\sebas\\AppData\\Local\\Programs\\Python\\Python312\\Lib\\site-packages\\tqdm\\auto.py:21: TqdmWarning: IProgress not found. Please update jupyter and ipywidgets. See https://ipywidgets.readthedocs.io/en/stable/user_install.html\n",
      "  from .autonotebook import tqdm as notebook_tqdm\n"
     ]
    }
   ],
   "source": [
    "import numpy as np\n",
    "import pandas as pd\n",
    "import matplotlib.pyplot as plt\n",
    "\n",
    "import pmdarima\n",
    "from pmdarima import ARIMA\n",
    "from pmdarima import auto_arima\n",
    "\n",
    "import statsmodels\n",
    "from statsmodels.tsa.statespace.sarimax import SARIMAX\n",
    "from statsmodels.tsa.stattools import adfuller\n",
    "from statsmodels.tsa.stattools import kpss\n",
    "from statsmodels.graphics.tsaplots import plot_acf, plot_pacf\n",
    "from statsmodels.tsa.seasonal import seasonal_decompose\n",
    "\n",
    "import skforecast\n",
    "from skforecast.datasets import fetch_dataset\n",
    "from skforecast.plot import set_dark_theme\n",
    "from skforecast.Sarimax import Sarimax\n",
    "from skforecast.ForecasterSarimax import ForecasterSarimax\n",
    "from skforecast.model_selection_sarimax import backtesting_sarimax\n",
    "from skforecast.model_selection_sarimax import grid_search_sarimax"
   ]
  },
  {
   "cell_type": "code",
   "execution_count": 8,
   "metadata": {},
   "outputs": [
    {
     "name": "stdout",
     "output_type": "stream",
     "text": [
      "fuel_consumption\n",
      "----------------\n",
      "Monthly fuel consumption in Spain from 1969-01-01 to 2022-08-01.\n",
      "Obtained from Corporación de Reservas Estratégicas de Productos Petrolíferos and\n",
      "Corporación de Derecho Público tutelada por el Ministerio para la Transición\n",
      "Ecológica y el Reto Demográfico. https://www.cores.es/es/estadisticas\n",
      "Shape of the dataset: (644, 6)\n"
     ]
    },
    {
     "data": {
      "text/plain": [
       "date\n",
       "1969-01-01    166875.2129\n",
       "1969-02-01    155466.8105\n",
       "1969-03-01    184983.6699\n",
       "1969-04-01    202319.8164\n",
       "Freq: MS, Name: litters, dtype: float64"
      ]
     },
     "metadata": {},
     "output_type": "display_data"
    }
   ],
   "source": [
    "data = fetch_dataset(name='fuel_consumption', raw=True)\n",
    "data = data[['Fecha', 'Gasolinas']]\n",
    "data = data.rename(columns={'Fecha':'date', 'Gasolinas':'litters'})\n",
    "data['date'] = pd.to_datetime(data['date'], format='%Y-%m-%d')\n",
    "data = data.set_index('date')\n",
    "data = data.loc[:'1990-01-01 00:00:00']\n",
    "data = data.asfreq('MS')\n",
    "data = data['litters']\n",
    "display(data.head(4))"
   ]
  },
  {
   "cell_type": "code",
   "execution_count": null,
   "metadata": {},
   "outputs": [],
   "source": [
    "# Train-test dates\n",
    "# ======================================================================================\n",
    "end_train = '1980-01-01 23:59:59'\n",
    "print(\n",
    "    f\"Train dates : {data.index.min()} --- {data.loc[:end_train].index.max()}  \"\n",
    "    f\"(n={len(data.loc[:end_train])})\"\n",
    ")\n",
    "print(\n",
    "    f\"Test dates  : {data.loc[end_train:].index.min()} --- {data.loc[:].index.max()}  \"\n",
    "    f\"(n={len(data.loc[end_train:])})\"\n",
    ")\n",
    "data_train = data.loc[:end_train]\n",
    "data_test  = data.loc[end_train:]\n",
    "\n",
    "# Plot\n",
    "# ======================================================================================\n",
    "fig, ax=plt.subplots(figsize=(7, 3))\n",
    "data_train.plot(ax=ax, label='train')\n",
    "data_test.plot(ax=ax, label='test')\n",
    "ax.set_title('Monthly fuel consumption in Spain')\n",
    "ax.legend();"
   ]
  }
 ],
 "metadata": {
  "kernelspec": {
   "display_name": "Python 3",
   "language": "python",
   "name": "python3"
  },
  "language_info": {
   "codemirror_mode": {
    "name": "ipython",
    "version": 3
   },
   "file_extension": ".py",
   "mimetype": "text/x-python",
   "name": "python",
   "nbconvert_exporter": "python",
   "pygments_lexer": "ipython3",
   "version": "3.12.0"
  }
 },
 "nbformat": 4,
 "nbformat_minor": 2
}
