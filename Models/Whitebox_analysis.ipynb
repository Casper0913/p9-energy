{
 "cells": [
  {
   "cell_type": "code",
   "execution_count": 2,
   "metadata": {},
   "outputs": [],
   "source": [
    "import numpy as np\n",
    "import pandas as pd\n",
    "import matplotlib.pyplot as plt\n",
    "import itertools\n",
    "\n",
    "import statsmodels.api as sm\n",
    "from statsmodels.tsa.stattools import adfuller\n",
    "from statsmodels.tsa.stattools import kpss\n",
    "from statsmodels.graphics.tsaplots import plot_acf, plot_pacf\n",
    "from statsmodels.tsa.seasonal import seasonal_decompose\n",
    "from statsmodels.tsa.holtwinters import SimpleExpSmoothing\n",
    "from statsmodels.tsa.holtwinters import Holt\n",
    "from statsmodels.tsa.holtwinters import ExponentialSmoothing\n",
    "from statsmodels.tsa.statespace.sarimax import SARIMAX\n",
    "from statsmodels.tsa.statespace.dynamic_factor_mq import DynamicFactorMQ\n",
    "from statsmodels.tsa.forecasting.stl import STLForecast\n",
    "from statsmodels.tsa.seasonal import STL\n",
    "from statsmodels.tsa.forecasting.theta import ThetaModel\n",
    "from statsmodels.tools.eval_measures import rmse\n",
    "from statsmodels.tools.eval_measures import mse\n",
    "\n",
    "from sklearn.metrics import mean_squared_error\n",
    "from prophet import Prophet\n",
    "\n",
    "import warnings\n",
    "warnings.filterwarnings('once')"
   ]
  },
  {
   "cell_type": "code",
   "execution_count": 4,
   "metadata": {},
   "outputs": [
    {
     "name": "stdout",
     "output_type": "stream",
     "text": [
      "Training Set: 25512 rows\n",
      "Test Set: 8281 rows\n",
      "HourDK\n",
      "2021-01-01 01:00:00    35086.772\n",
      "2021-01-01 02:00:00    31777.762\n",
      "2021-01-01 03:00:00    28423.659\n",
      "2021-01-01 04:00:00    25675.926\n",
      "2021-01-01 05:00:00    24283.909\n",
      "                         ...    \n",
      "2024-11-10 19:00:00    48584.696\n",
      "2024-11-10 20:00:00    44105.371\n",
      "2024-11-10 21:00:00    41492.172\n",
      "2024-11-10 22:00:00    37148.073\n",
      "2024-11-10 23:00:00    33307.696\n",
      "Name: ConsumptionkWh, Length: 33839, dtype: float64\n"
     ]
    }
   ],
   "source": [
    "# Correct the file path to the actual location of the CSV file\n",
    "df = pd.read_csv('../Dataset/ConsumptionIndustry.csv', sep=';')\n",
    "\n",
    "# Convert HourDK to datetime\n",
    "df['HourDK'] = pd.to_datetime(df['HourDK'])\n",
    "\n",
    "# Convert ConsumptionkWh to numeric\n",
    "df['ConsumptionkWh'] = df['ConsumptionkWh'].str.replace(\",\", \".\").astype(float)\n",
    "\n",
    "train_start = \"2021-01-01\"\n",
    "train_end = \"2023-11-30\"\n",
    "test_start = \"2023-12-01\"\n",
    "test_end = \"2024-11-10\"\n",
    "\n",
    "df.index = df['HourDK']\n",
    "\n",
    "df.drop(columns=['HourUTC', 'HourDK', 'MunicipalityNo', 'Branche'], inplace=True)\n",
    "data_train = df[(df.index >= train_start) & (df.index <= train_end)]\n",
    "data_test = df[(df.index >= test_start) & (df.index <= test_end)]\n",
    "\n",
    "print(f\"Training Set: {data_train.shape[0]} rows\")\n",
    "print(f\"Test Set: {data_test.shape[0]} rows\")\n",
    "\n",
    "df = df['ConsumptionkWh']\n",
    "print(df)\n",
    "plt.figure(figsize=(7, 3))\n",
    "plt.plot(data_train.index, data_train['ConsumptionkWh'], label=f'Train ({train_start} - {train_end})')\n",
    "plt.plot(data_test.index, data_test['ConsumptionkWh'], label=f'Test ({test_start} - {test_end})')\n",
    "plt.title('Consumption in dk private households')\n",
    "plt.xlabel('Measurements')\n",
    "plt.ylabel('Power (kW / charger)')\n",
    "plt.legend()\n",
    "plt.show()"
   ]
  }
 ],
 "metadata": {
  "kernelspec": {
   "display_name": "Python 3",
   "language": "python",
   "name": "python3"
  },
  "language_info": {
   "codemirror_mode": {
    "name": "ipython",
    "version": 3
   },
   "file_extension": ".py",
   "mimetype": "text/x-python",
   "name": "python",
   "nbconvert_exporter": "python",
   "pygments_lexer": "ipython3",
   "version": "3.12.0"
  }
 },
 "nbformat": 4,
 "nbformat_minor": 2
}
