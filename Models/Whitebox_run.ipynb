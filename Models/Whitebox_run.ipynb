{
 "cells": [
  {
   "cell_type": "code",
   "execution_count": null,
   "metadata": {},
   "outputs": [],
   "source": [
    "!pip install numpy pandas statsmodels matplotlib seaborn prophet sklearn "
   ]
  },
  {
   "cell_type": "code",
   "execution_count": 3,
   "metadata": {},
   "outputs": [
    {
     "name": "stderr",
     "output_type": "stream",
     "text": [
      "c:\\Users\\sebas\\AppData\\Local\\Programs\\Python\\Python312\\Lib\\site-packages\\tqdm\\auto.py:21: TqdmWarning: IProgress not found. Please update jupyter and ipywidgets. See https://ipywidgets.readthedocs.io/en/stable/user_install.html\n",
      "  from .autonotebook import tqdm as notebook_tqdm\n",
      "Importing plotly failed. Interactive plots will not work.\n"
     ]
    }
   ],
   "source": [
    "import numpy as np\n",
    "import pandas as pd\n",
    "import matplotlib.pyplot as plt\n",
    "import itertools\n",
    "\n",
    "import statsmodels.api as sm\n",
    "from statsmodels.tsa.stattools import adfuller\n",
    "from statsmodels.tsa.stattools import kpss\n",
    "from statsmodels.graphics.tsaplots import plot_acf, plot_pacf\n",
    "from statsmodels.tsa.seasonal import seasonal_decompose\n",
    "from statsmodels.tsa.holtwinters import SimpleExpSmoothing\n",
    "from statsmodels.tsa.holtwinters import Holt\n",
    "from statsmodels.tsa.holtwinters import ExponentialSmoothing\n",
    "from statsmodels.tsa.statespace.sarimax import SARIMAX\n",
    "from statsmodels.tsa.statespace.dynamic_factor_mq import DynamicFactorMQ\n",
    "from statsmodels.tsa.forecasting.stl import STLForecast\n",
    "from statsmodels.tsa.seasonal import STL\n",
    "from statsmodels.tsa.forecasting.theta import ThetaModel\n",
    "from datetime import datetime, timedelta\n",
    "\n",
    "from sklearn.metrics import mean_squared_error\n",
    "from sklearn.metrics import root_mean_squared_error\n",
    "from prophet import Prophet\n",
    "\n",
    "try:\n",
    "  from google.colab import files\n",
    "  uploaded = files.upload()\n",
    "  IN_COLAB = True\n",
    "except:\n",
    "  IN_COLAB = False\n",
    "\n",
    "import warnings\n",
    "warnings.filterwarnings('once')"
   ]
  },
  {
   "cell_type": "markdown",
   "metadata": {},
   "source": [
    "Functions"
   ]
  },
  {
   "cell_type": "code",
   "execution_count": 4,
   "metadata": {},
   "outputs": [],
   "source": [
    "def sample_data(df, start_date):\n",
    "  start_date = datetime.strptime(start_date, '%Y-%m-%d')\n",
    "  end_date = df.index[-1]\n",
    "  return df[(df.index >= start_date) & (df.index <= end_date)]\n",
    "\n",
    "def sample_data_with_train_window(df, start_date, train_window_size):\n",
    "  start_date = datetime.strptime(start_date, '%Y-%m-%d') - timedelta(hours=train_window_size)\n",
    "  end_date = df.index[-1]\n",
    "  return df[(df.index >= start_date) & (df.index <= end_date)]\n",
    "\n",
    "def get_next_window(data, train_window_size, forecast_horizon):\n",
    "  return data[:train_window_size], data[train_window_size:train_window_size + forecast_horizon]\n",
    "\n",
    "def forecast_whitebox_model(model, forecast_horizon, model_name):\n",
    "  model_res = model.fit()\n",
    "\n",
    "  if \"SARIMA\" in model_name and \"STL\" not in model_name:\n",
    "    return model_res.get_forecast(steps=forecast_horizon).predicted_mean\n",
    "  else:\n",
    "    return model_res.forecast(steps=forecast_horizon)\n",
    "  \n",
    "def plot_data(df):\n",
    "  plt.plot(df)\n",
    "  plt.title('Consumption in dk private households')\n",
    "  plt.xlabel('Measurements')\n",
    "  plt.ylabel('Power (kW / charger)')\n",
    "  plt.show()"
   ]
  },
  {
   "cell_type": "markdown",
   "metadata": {},
   "source": [
    "Initializing time series"
   ]
  },
  {
   "cell_type": "code",
   "execution_count": 7,
   "metadata": {},
   "outputs": [],
   "source": [
    "df = pd.read_csv('../Dataset/ConsumptionIndustry.csv' if not IN_COLAB else 'ConsumptionIndustry.csv', sep=';')\n",
    "df['HourDK'] = pd.to_datetime(df['HourDK'])\n",
    "df['ConsumptionkWh'] = df['ConsumptionkWh'].str.replace(\",\", \".\").astype(float)\n",
    "df.index = df['HourDK']\n",
    "\n",
    "# format data here\n",
    "df.drop(columns=['HourUTC', 'HourDK', 'MunicipalityNo', 'Branche'], inplace=True)"
   ]
  },
  {
   "cell_type": "markdown",
   "metadata": {},
   "source": [
    "Runs a model in Sliding Window forecasting style"
   ]
  },
  {
   "cell_type": "code",
   "execution_count": 126,
   "metadata": {},
   "outputs": [],
   "source": [
    "model_name = 'Thetaasdas'\n",
    "date_start = '2023-11-01'\n",
    "window_train_size = 24*7*2 #hours\n",
    "forecast_horizon = 24 #hours\n",
    "\n",
    "data = sample_data_with_train_window(df, date_start, window_train_size) # start: date_start - window_train_size, end: last date in df\n",
    "# plot_data(data)\n",
    "results = np.array([])\n",
    "iterations = 0\n",
    "\n",
    "warnings.filterwarnings(\"ignore\")\n",
    "\n",
    "while len(data) > window_train_size + forecast_horizon:\n",
    "  data_train, data_test = get_next_window(data, window_train_size, forecast_horizon)\n",
    "  model = ThetaModel(data_train, period=24, method=\"multiplicative\")\n",
    "  predictions = forecast_whitebox_model(model, forecast_horizon, model_name)\n",
    "  \n",
    "  results = np.append(results, predictions.values)\n",
    "  iterations += 1\n",
    "  data = data.iloc[forecast_horizon:] # move window by forecast_horizon\n",
    "\n",
    "warnings.filterwarnings(\"default\")\n",
    "\n",
    "result_table = pd.DataFrame(results)\n",
    "result_table.index = pd.date_range(start=date_start, periods=forecast_horizon*iterations, freq='H')\n",
    "result_table.to_csv(f'../Results/Whitebox/Forecasting/{window_train_size}_{forecast_horizon}_{model_name}.csv', header=False)"
   ]
  },
  {
   "cell_type": "markdown",
   "metadata": {},
   "source": [
    "Models"
   ]
  },
  {
   "cell_type": "code",
   "execution_count": 6,
   "metadata": {},
   "outputs": [],
   "source": [
    "  # model = SARIMAX(endog = data_train, order = (1, 1, 4), seasonal_order = (1, 1, 1, 12), enforce_stationarity=False, enforce_invertibility=False)\n",
    "  # model = STLForecast(data_train, SARIMAX, model_kwargs=dict(order=(1, 1, 1), seasonal_order = (1, 1, 1, 12)), period=24)\n",
    "  # model = ThetaModel(data_train, period=24, method=\"additive\")\n",
    "  # model = ThetaModel(data_train, period=24, method=\"multiplicative\")\n",
    "  # model = DynamicFactorMQ(endog=data_train)"
   ]
  },
  {
   "cell_type": "code",
   "execution_count": 17,
   "metadata": {},
   "outputs": [
    {
     "name": "stdout",
     "output_type": "stream",
     "text": [
      "337    32103.372509\n",
      "338    31696.641222\n",
      "339    31604.982444\n",
      "340    31624.049282\n",
      "341    33595.929530\n",
      "342    38815.717544\n",
      "343    39223.686623\n",
      "344    38308.110136\n",
      "345    37183.063240\n",
      "346    36073.898804\n",
      "347    34108.046141\n",
      "348    32525.791400\n",
      "349    32162.912698\n",
      "350    31755.417987\n",
      "351    31663.580186\n",
      "352    31682.673317\n",
      "353    33658.199378\n",
      "354    38887.651127\n",
      "355    39296.365032\n",
      "356    38379.081096\n",
      "357    37251.939265\n",
      "358    36140.709955\n",
      "359    34171.206660\n",
      "360    32586.012642\n",
      "Name: forecast, dtype: float64\n"
     ]
    },
    {
     "name": "stderr",
     "output_type": "stream",
     "text": [
      "c:\\Users\\sebas\\AppData\\Local\\Programs\\Python\\Python312\\Lib\\site-packages\\statsmodels\\tsa\\forecasting\\theta.py:44: UserWarning: Only PeriodIndexes, DatetimeIndexes with a frequency set, RangesIndexes, and Index with a unit increment support extending. The index is set will contain the position relative to the data length.\n",
      "  return DeterministicTerm._extend_index(index, steps)\n"
     ]
    }
   ],
   "source": [
    "date_start = '2023-11-01'\n",
    "window_train_size = 24*7*2 #hours\n",
    "forecast_horizon = 24 #hours\n",
    "data_train, data_test = get_next_window(data, window_train_size, forecast_horizon)\n",
    "\n",
    "model = ThetaModel(data_train, period=12, method=\"multiplicative\")\n",
    "model_res = model.fit()\n",
    "forecast = model_res.forecast(steps=forecast_horizon)\n",
    "print(forecast)"
   ]
  },
  {
   "cell_type": "markdown",
   "metadata": {},
   "source": [
    "Plot of forecasts"
   ]
  },
  {
   "cell_type": "code",
   "execution_count": 11,
   "metadata": {},
   "outputs": [
    {
     "ename": "KeyError",
     "evalue": "'Prediction'",
     "output_type": "error",
     "traceback": [
      "\u001b[1;31m---------------------------------------------------------------------------\u001b[0m",
      "\u001b[1;31mKeyError\u001b[0m                                  Traceback (most recent call last)",
      "File \u001b[1;32mc:\\Users\\sebas\\AppData\\Local\\Programs\\Python\\Python312\\Lib\\site-packages\\pandas\\core\\indexes\\base.py:3790\u001b[0m, in \u001b[0;36mIndex.get_loc\u001b[1;34m(self, key)\u001b[0m\n\u001b[0;32m   3789\u001b[0m \u001b[38;5;28;01mtry\u001b[39;00m:\n\u001b[1;32m-> 3790\u001b[0m     \u001b[38;5;28;01mreturn\u001b[39;00m \u001b[38;5;28;43mself\u001b[39;49m\u001b[38;5;241;43m.\u001b[39;49m\u001b[43m_engine\u001b[49m\u001b[38;5;241;43m.\u001b[39;49m\u001b[43mget_loc\u001b[49m\u001b[43m(\u001b[49m\u001b[43mcasted_key\u001b[49m\u001b[43m)\u001b[49m\n\u001b[0;32m   3791\u001b[0m \u001b[38;5;28;01mexcept\u001b[39;00m \u001b[38;5;167;01mKeyError\u001b[39;00m \u001b[38;5;28;01mas\u001b[39;00m err:\n",
      "File \u001b[1;32mindex.pyx:152\u001b[0m, in \u001b[0;36mpandas._libs.index.IndexEngine.get_loc\u001b[1;34m()\u001b[0m\n",
      "File \u001b[1;32mindex.pyx:181\u001b[0m, in \u001b[0;36mpandas._libs.index.IndexEngine.get_loc\u001b[1;34m()\u001b[0m\n",
      "File \u001b[1;32mpandas\\_libs\\hashtable_class_helper.pxi:7080\u001b[0m, in \u001b[0;36mpandas._libs.hashtable.PyObjectHashTable.get_item\u001b[1;34m()\u001b[0m\n",
      "File \u001b[1;32mpandas\\_libs\\hashtable_class_helper.pxi:7088\u001b[0m, in \u001b[0;36mpandas._libs.hashtable.PyObjectHashTable.get_item\u001b[1;34m()\u001b[0m\n",
      "\u001b[1;31mKeyError\u001b[0m: 'Prediction'",
      "\nThe above exception was the direct cause of the following exception:\n",
      "\u001b[1;31mKeyError\u001b[0m                                  Traceback (most recent call last)",
      "Cell \u001b[1;32mIn[11], line 16\u001b[0m\n\u001b[0;32m     14\u001b[0m fig, ax \u001b[38;5;241m=\u001b[39m plt\u001b[38;5;241m.\u001b[39msubplots(figsize\u001b[38;5;241m=\u001b[39m(\u001b[38;5;241m8\u001b[39m, \u001b[38;5;241m3\u001b[39m))\n\u001b[0;32m     15\u001b[0m data[\u001b[38;5;124m'\u001b[39m\u001b[38;5;124mConsumptionkWh\u001b[39m\u001b[38;5;124m'\u001b[39m]\u001b[38;5;241m.\u001b[39mplot(ax\u001b[38;5;241m=\u001b[39max, label\u001b[38;5;241m=\u001b[39m\u001b[38;5;124m'\u001b[39m\u001b[38;5;124mTrue\u001b[39m\u001b[38;5;124m'\u001b[39m)\n\u001b[1;32m---> 16\u001b[0m \u001b[43mprediction_STL_SARIMAX_enforce_false\u001b[49m\u001b[43m[\u001b[49m\u001b[38;5;124;43m'\u001b[39;49m\u001b[38;5;124;43mPrediction\u001b[39;49m\u001b[38;5;124;43m'\u001b[39;49m\u001b[43m]\u001b[49m\u001b[38;5;241m.\u001b[39mplot(ax\u001b[38;5;241m=\u001b[39max, label\u001b[38;5;241m=\u001b[39m\u001b[38;5;124m'\u001b[39m\u001b[38;5;124mSTL_SARIMAX_enforce_false\u001b[39m\u001b[38;5;124m'\u001b[39m)\n\u001b[0;32m     17\u001b[0m \u001b[38;5;66;03m# prediction_Theta_additive['Prediction'].plot(ax=ax, label='Theta_additive')\u001b[39;00m\n\u001b[0;32m     18\u001b[0m \u001b[38;5;66;03m# prediction_Theta_multiplicative['Prediction'].plot(ax=ax, label='Theta_multiplicative')\u001b[39;00m\n\u001b[0;32m     19\u001b[0m \u001b[38;5;66;03m# prediction_DynamicFactorMQ['Prediction'].plot(ax=ax, label='DynamicFactorMQ')\u001b[39;00m\n\u001b[0;32m     20\u001b[0m ax\u001b[38;5;241m.\u001b[39mset_title(\u001b[38;5;124m'\u001b[39m\u001b[38;5;124mPredictions\u001b[39m\u001b[38;5;124m'\u001b[39m)\n",
      "File \u001b[1;32mc:\\Users\\sebas\\AppData\\Local\\Programs\\Python\\Python312\\Lib\\site-packages\\pandas\\core\\frame.py:3893\u001b[0m, in \u001b[0;36mDataFrame.__getitem__\u001b[1;34m(self, key)\u001b[0m\n\u001b[0;32m   3891\u001b[0m \u001b[38;5;28;01mif\u001b[39;00m \u001b[38;5;28mself\u001b[39m\u001b[38;5;241m.\u001b[39mcolumns\u001b[38;5;241m.\u001b[39mnlevels \u001b[38;5;241m>\u001b[39m \u001b[38;5;241m1\u001b[39m:\n\u001b[0;32m   3892\u001b[0m     \u001b[38;5;28;01mreturn\u001b[39;00m \u001b[38;5;28mself\u001b[39m\u001b[38;5;241m.\u001b[39m_getitem_multilevel(key)\n\u001b[1;32m-> 3893\u001b[0m indexer \u001b[38;5;241m=\u001b[39m \u001b[38;5;28;43mself\u001b[39;49m\u001b[38;5;241;43m.\u001b[39;49m\u001b[43mcolumns\u001b[49m\u001b[38;5;241;43m.\u001b[39;49m\u001b[43mget_loc\u001b[49m\u001b[43m(\u001b[49m\u001b[43mkey\u001b[49m\u001b[43m)\u001b[49m\n\u001b[0;32m   3894\u001b[0m \u001b[38;5;28;01mif\u001b[39;00m is_integer(indexer):\n\u001b[0;32m   3895\u001b[0m     indexer \u001b[38;5;241m=\u001b[39m [indexer]\n",
      "File \u001b[1;32mc:\\Users\\sebas\\AppData\\Local\\Programs\\Python\\Python312\\Lib\\site-packages\\pandas\\core\\indexes\\base.py:3797\u001b[0m, in \u001b[0;36mIndex.get_loc\u001b[1;34m(self, key)\u001b[0m\n\u001b[0;32m   3792\u001b[0m     \u001b[38;5;28;01mif\u001b[39;00m \u001b[38;5;28misinstance\u001b[39m(casted_key, \u001b[38;5;28mslice\u001b[39m) \u001b[38;5;129;01mor\u001b[39;00m (\n\u001b[0;32m   3793\u001b[0m         \u001b[38;5;28misinstance\u001b[39m(casted_key, abc\u001b[38;5;241m.\u001b[39mIterable)\n\u001b[0;32m   3794\u001b[0m         \u001b[38;5;129;01mand\u001b[39;00m \u001b[38;5;28many\u001b[39m(\u001b[38;5;28misinstance\u001b[39m(x, \u001b[38;5;28mslice\u001b[39m) \u001b[38;5;28;01mfor\u001b[39;00m x \u001b[38;5;129;01min\u001b[39;00m casted_key)\n\u001b[0;32m   3795\u001b[0m     ):\n\u001b[0;32m   3796\u001b[0m         \u001b[38;5;28;01mraise\u001b[39;00m InvalidIndexError(key)\n\u001b[1;32m-> 3797\u001b[0m     \u001b[38;5;28;01mraise\u001b[39;00m \u001b[38;5;167;01mKeyError\u001b[39;00m(key) \u001b[38;5;28;01mfrom\u001b[39;00m \u001b[38;5;21;01merr\u001b[39;00m\n\u001b[0;32m   3798\u001b[0m \u001b[38;5;28;01mexcept\u001b[39;00m \u001b[38;5;167;01mTypeError\u001b[39;00m:\n\u001b[0;32m   3799\u001b[0m     \u001b[38;5;66;03m# If we have a listlike key, _check_indexing_error will raise\u001b[39;00m\n\u001b[0;32m   3800\u001b[0m     \u001b[38;5;66;03m#  InvalidIndexError. Otherwise we fall through and re-raise\u001b[39;00m\n\u001b[0;32m   3801\u001b[0m     \u001b[38;5;66;03m#  the TypeError.\u001b[39;00m\n\u001b[0;32m   3802\u001b[0m     \u001b[38;5;28mself\u001b[39m\u001b[38;5;241m.\u001b[39m_check_indexing_error(key)\n",
      "\u001b[1;31mKeyError\u001b[0m: 'Prediction'"
     ]
    },
    {
     "data": {
      "image/png": "[encoded data removed]",
      "text/plain": [
       "<Figure size 800x300 with 1 Axes>"
      ]
     },
     "metadata": {},
     "output_type": "display_data"
    }
   ],
   "source": [
    "date_start = '2023-11-01'\n",
    "data = sample_data(df, date_start) \n",
    "# prediction_Theta_additive = pd.read_csv('../Results/Whitebox/Forecasting/336_24_ThetaModel_additive.csv', header=None, index_col=0, names=['Prediction'])\n",
    "# prediction_Theta_additive.index = pd.to_datetime(prediction_Theta_additive.index)\n",
    "# prediction_Theta_multiplicative = pd.read_csv('../Results/Whitebox/Forecasting/336_24_ThetaModel_multiplicative.csv', header=None, index_col=0, names=['Prediction'])\n",
    "# prediction_Theta_multiplicative.index = pd.to_datetime(prediction_Theta_multiplicative.index)\n",
    "# prediction_DynamicFactorMQ = pd.read_csv('../Results/Whitebox/Forecasting/336_24_DynamicFactorMQ.csv', header=None, index_col=0, names=['Prediction'])\n",
    "# prediction_DynamicFactorMQ.index = pd.to_datetime(prediction_DynamicFactorMQ.index)\n",
    "\n",
    "fig, ax = plt.subplots(figsize=(8, 3))\n",
    "data['ConsumptionkWh'].plot(ax=ax, label='True')\n",
    "# prediction_Theta_additive['Prediction'].plot(ax=ax, label='Theta_additive')\n",
    "# prediction_Theta_multiplicative['Prediction'].plot(ax=ax, label='Theta_multiplicative')\n",
    "# prediction_DynamicFactorMQ['Prediction'].plot(ax=ax, label='DynamicFactorMQ')\n",
    "ax.set_title('Predictions')\n",
    "ax.legend()"
   ]
  },
  {
   "cell_type": "markdown",
   "metadata": {},
   "source": [
    "Evaluate algorithm performance"
   ]
  },
  {
   "cell_type": "code",
   "execution_count": 127,
   "metadata": {},
   "outputs": [
    {
     "name": "stdout",
     "output_type": "stream",
     "text": [
      "-- Theta_additive --\n",
      "mse: 95222466.90650392\n",
      "rmse: 9758.199982912009\n",
      "-- Theta_multiplicative --\n",
      "mse: 95911480.46870957\n",
      "rmse: 9793.440685923899\n",
      "-- DynamicFactorMQ --\n",
      "mse: 129933503.2759868\n",
      "rmse: 11398.837803740644\n"
     ]
    }
   ],
   "source": [
    "# def evaluate(prediction, name):\n",
    "#     print(f\"-- {name} --\")\n",
    "#     print(f\"mse: {mean_squared_error(data, prediction)}\") #penalizes larger errors more\n",
    "#     print(f\"rmse: {root_mean_squared_error(data, prediction)}\")\n",
    "\n",
    "# data = sample_data(df, date_start) \n",
    "\n",
    "# evaluate(prediction_Theta_additive['Prediction'], 'Theta_additive')\n",
    "# evaluate(prediction_Theta_multiplicative['Prediction'], 'Theta_multiplicative')\n",
    "# evaluate(prediction_DynamicFactorMQ['Prediction'], 'DynamicFactorMQ')\n"
   ]
  }
 ],
 "metadata": {
  "kernelspec": {
   "display_name": "Python 3",
   "language": "python",
   "name": "python3"
  },
  "language_info": {
   "codemirror_mode": {
    "name": "ipython",
    "version": 3
   },
   "file_extension": ".py",
   "mimetype": "text/x-python",
   "name": "python",
   "nbconvert_exporter": "python",
   "pygments_lexer": "ipython3",
   "version": "3.12.0"
  }
 },
 "nbformat": 4,
 "nbformat_minor": 2
}
