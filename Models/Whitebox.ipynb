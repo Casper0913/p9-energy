{
 "cells": [
  {
   "cell_type": "code",
   "execution_count": null,
   "metadata": {},
   "outputs": [],
   "source": [
    "!pip install numpy pandas statsmodels matplotlib seaborn prophet sklearn "
   ]
  },
  {
   "cell_type": "code",
   "execution_count": 60,
   "metadata": {},
   "outputs": [],
   "source": [
    "import numpy as np\n",
    "import pandas as pd\n",
    "import matplotlib.pyplot as plt\n",
    "import itertools\n",
    "\n",
    "import statsmodels.api as sm\n",
    "from statsmodels.tsa.stattools import adfuller\n",
    "from statsmodels.tsa.stattools import kpss\n",
    "from statsmodels.graphics.tsaplots import plot_acf, plot_pacf\n",
    "from statsmodels.tsa.seasonal import seasonal_decompose\n",
    "from statsmodels.tsa.holtwinters import SimpleExpSmoothing\n",
    "from statsmodels.tsa.holtwinters import Holt\n",
    "from statsmodels.tsa.holtwinters import ExponentialSmoothing\n",
    "from statsmodels.tsa.statespace.sarimax import SARIMAX\n",
    "from statsmodels.tsa.statespace.dynamic_factor_mq import DynamicFactorMQ\n",
    "from statsmodels.tsa.forecasting.stl import STLForecast\n",
    "from statsmodels.tsa.seasonal import STL\n",
    "from statsmodels.tsa.forecasting.theta import ThetaModel\n",
    "from statsmodels.tools.eval_measures import rmse\n",
    "from statsmodels.tools.eval_measures import mse\n",
    "from datetime import datetime, timedelta\n",
    "\n",
    "from sklearn.metrics import mean_squared_error\n",
    "from prophet import Prophet\n",
    "\n",
    "# from google.colab import files # type: ignore\n",
    "\n",
    "# # Upload files to Google Colab\n",
    "# uploaded = files.upload()\n",
    "\n",
    "import warnings\n",
    "warnings.filterwarnings('once')"
   ]
  },
  {
   "cell_type": "markdown",
   "metadata": {},
   "source": [
    "Initializing time series"
   ]
  },
  {
   "cell_type": "code",
   "execution_count": 85,
   "metadata": {},
   "outputs": [
    {
     "name": "stderr",
     "output_type": "stream",
     "text": [
      "c:\\Users\\sebas\\AppData\\Local\\Programs\\Python\\Python312\\Lib\\site-packages\\statsmodels\\tsa\\base\\tsa_model.py:473: ValueWarning: A date index has been provided, but it has no associated frequency information and so will be ignored when e.g. forecasting.\n",
      "  self._init_dates(dates, freq)\n",
      "c:\\Users\\sebas\\AppData\\Local\\Programs\\Python\\Python312\\Lib\\site-packages\\statsmodels\\tsa\\statespace\\sarimax.py:966: UserWarning: Non-stationary starting autoregressive parameters found. Using zeros as starting parameters.\n",
      "  warn('Non-stationary starting autoregressive parameters'\n",
      "c:\\Users\\sebas\\AppData\\Local\\Programs\\Python\\Python312\\Lib\\site-packages\\statsmodels\\tsa\\statespace\\sarimax.py:978: UserWarning: Non-invertible starting MA parameters found. Using zeros as starting parameters.\n",
      "  warn('Non-invertible starting MA parameters found.'\n",
      "c:\\Users\\sebas\\AppData\\Local\\Programs\\Python\\Python312\\Lib\\site-packages\\statsmodels\\base\\model.py:607: ConvergenceWarning: Maximum Likelihood optimization failed to converge. Check mle_retvals\n",
      "  warnings.warn(\"Maximum Likelihood optimization failed to \"\n",
      "c:\\Users\\sebas\\AppData\\Local\\Programs\\Python\\Python312\\Lib\\site-packages\\statsmodels\\tsa\\base\\tsa_model.py:837: ValueWarning: No supported index is available. Prediction results will be given with an integer index beginning at `start`.\n",
      "  return get_prediction_index(\n",
      "c:\\Users\\sebas\\AppData\\Local\\Programs\\Python\\Python312\\Lib\\site-packages\\statsmodels\\tsa\\base\\tsa_model.py:837: FutureWarning: No supported index is available. In the next version, calling this method in a model without a supported index will result in an exception.\n",
      "  return get_prediction_index(\n"
     ]
    },
    {
     "name": "stdout",
     "output_type": "stream",
     "text": [
      "2023-10-18 00:00:00\n",
      "336    29580.580934\n",
      "337    27656.584572\n",
      "338    26708.467430\n",
      "339    26348.222565\n",
      "340    26395.721958\n",
      "341    24562.114739\n",
      "342    23975.294788\n",
      "343    28567.619304\n",
      "344    31556.801365\n",
      "345    30629.755987\n",
      "346    30547.485134\n",
      "347    29781.010808\n",
      "348    29850.174302\n",
      "349    30477.204012\n",
      "350    30819.874664\n",
      "351    31635.086560\n",
      "352    34249.108786\n",
      "353    43480.031815\n",
      "354    57271.968120\n",
      "355    54864.491897\n",
      "356    48215.294188\n",
      "357    44332.208966\n",
      "358    40926.566029\n",
      "359    36005.020045\n",
      "Name: predicted_mean, dtype: float64\n"
     ]
    },
    {
     "name": "stderr",
     "output_type": "stream",
     "text": [
      "c:\\Users\\sebas\\AppData\\Local\\Programs\\Python\\Python312\\Lib\\site-packages\\statsmodels\\tsa\\base\\tsa_model.py:473: ValueWarning: A date index has been provided, but it has no associated frequency information and so will be ignored when e.g. forecasting.\n",
      "  self._init_dates(dates, freq)\n",
      "c:\\Users\\sebas\\AppData\\Local\\Programs\\Python\\Python312\\Lib\\site-packages\\statsmodels\\tsa\\statespace\\sarimax.py:966: UserWarning: Non-stationary starting autoregressive parameters found. Using zeros as starting parameters.\n",
      "  warn('Non-stationary starting autoregressive parameters'\n",
      "c:\\Users\\sebas\\AppData\\Local\\Programs\\Python\\Python312\\Lib\\site-packages\\statsmodels\\tsa\\statespace\\sarimax.py:978: UserWarning: Non-invertible starting MA parameters found. Using zeros as starting parameters.\n",
      "  warn('Non-invertible starting MA parameters found.'\n"
     ]
    },
    {
     "name": "stdout",
     "output_type": "stream",
     "text": [
      "2023-10-19 00:00:00\n",
      "336    32411.030538\n",
      "337    33163.143637\n",
      "338    30721.370292\n",
      "339    30810.398821\n",
      "340    30343.911376\n",
      "341    29405.162593\n",
      "342    30590.963468\n",
      "343    34975.249989\n",
      "344    36876.604567\n",
      "345    34978.328802\n",
      "346    33925.359117\n",
      "347    32650.762527\n",
      "348    32521.442214\n",
      "349    33207.178016\n",
      "350    32541.619615\n",
      "351    33448.833613\n",
      "352    36633.577567\n",
      "353    45393.248171\n",
      "354    57996.134452\n",
      "355    55537.021307\n",
      "356    49105.674771\n",
      "357    44515.239549\n",
      "358    41319.262235\n",
      "359    37519.010088\n",
      "Name: predicted_mean, dtype: float64\n"
     ]
    },
    {
     "name": "stderr",
     "output_type": "stream",
     "text": [
      "c:\\Users\\sebas\\AppData\\Local\\Programs\\Python\\Python312\\Lib\\site-packages\\statsmodels\\tsa\\base\\tsa_model.py:837: ValueWarning: No supported index is available. Prediction results will be given with an integer index beginning at `start`.\n",
      "  return get_prediction_index(\n",
      "c:\\Users\\sebas\\AppData\\Local\\Programs\\Python\\Python312\\Lib\\site-packages\\statsmodels\\tsa\\base\\tsa_model.py:837: FutureWarning: No supported index is available. In the next version, calling this method in a model without a supported index will result in an exception.\n",
      "  return get_prediction_index(\n"
     ]
    }
   ],
   "source": [
    "df = pd.read_csv('../Dataset/ConsumptionIndustry.csv', sep=';')\n",
    "df['HourDK'] = pd.to_datetime(df['HourDK'])\n",
    "df['ConsumptionkWh'] = df['ConsumptionkWh'].str.replace(\",\", \".\").astype(float)\n",
    "df.index = df['HourDK']\n",
    "df.drop(columns=['HourUTC', 'HourDK', 'MunicipalityNo', 'Branche'], inplace=True) # white-box model formatting\n",
    "\n",
    "def sample_data(df, start_date, train_window_size):\n",
    "  start_date = datetime.strptime(start_date, '%Y-%m-%d') - timedelta(hours=train_window_size)\n",
    "  end_date = df.index[-1]\n",
    "  return df[(df.index >= start_date) & (df.index <= end_date)]\n",
    "\n",
    "def get_next_window(data, train_window_size, forecast_horizon):\n",
    "  return data[:train_window_size], data[train_window_size:train_window_size + forecast_horizon]\n",
    "\n",
    "date_start = '2023-11-01'\n",
    "window_train_size = 24*7*2 #hours\n",
    "forecast_horizon = 24 #hours\n",
    "\n",
    "data = sample_data(df, date_start, window_train_size) # gets sufficient data for train set before set start date\n",
    "\n",
    "for i in range(2):\n",
    "  data_train, data_test = get_next_window(data, window_train_size, forecast_horizon)\n",
    "\n",
    "  # insert model here\n",
    "  model = SARIMAX(endog = data_train, order = (1, 1, 4), seasonal_order = (1, 1, 1, 12))\n",
    "  model_res = model.fit(disp=0)\n",
    "  predictions_statsmodels = model_res.get_forecast(steps=len(data_test)).predicted_mean\n",
    "\n",
    "  print(data.index[0])\n",
    "  print(predictions_statsmodels)\n",
    "  data = data.iloc[forecast_horizon:] # remove the n first elements from the data\n",
    "\n"
   ]
  },
  {
   "cell_type": "code",
   "execution_count": 4,
   "metadata": {},
   "outputs": [
    {
     "name": "stdout",
     "output_type": "stream",
     "text": [
      "Training Set: 25512 rows\n",
      "Test Set: 8281 rows\n",
      "HourDK\n",
      "2021-01-01 01:00:00    35086.772\n",
      "2021-01-01 02:00:00    31777.762\n",
      "2021-01-01 03:00:00    28423.659\n",
      "2021-01-01 04:00:00    25675.926\n",
      "2021-01-01 05:00:00    24283.909\n",
      "                         ...    \n",
      "2024-11-10 19:00:00    48584.696\n",
      "2024-11-10 20:00:00    44105.371\n",
      "2024-11-10 21:00:00    41492.172\n",
      "2024-11-10 22:00:00    37148.073\n",
      "2024-11-10 23:00:00    33307.696\n",
      "Name: ConsumptionkWh, Length: 33839, dtype: float64\n"
     ]
    },
    {
     "data": {
      "image/png": "[encoded data removed]",
      "text/plain": [
       "<Figure size 700x300 with 1 Axes>"
      ]
     },
     "metadata": {},
     "output_type": "display_data"
    }
   ],
   "source": [
    "# Correct the file path to the actual location of the CSV file\n",
    "df = pd.read_csv('../Dataset/ConsumptionIndustry.csv', sep=';')\n",
    "# df = pd.read_csv('ConsumptionIndustry.csv', sep=';')\n",
    "\n",
    "# Convert HourDK to datetime\n",
    "df['HourDK'] = pd.to_datetime(df['HourDK'])\n",
    "\n",
    "# Convert ConsumptionkWh to numeric\n",
    "df['ConsumptionkWh'] = df['ConsumptionkWh'].str.replace(\",\", \".\").astype(float)\n",
    "\n",
    "train_start = \"2021-01-01\"\n",
    "train_end = \"2023-11-30\"\n",
    "test_start = \"2023-12-01\"\n",
    "test_end = \"2024-11-10\"\n",
    "\n",
    "df.index = df['HourDK']\n",
    "\n",
    "df.drop(columns=['HourUTC', 'HourDK', 'MunicipalityNo', 'Branche'], inplace=True)\n",
    "data_train = df[(df.index >= train_start) & (df.index <= train_end)]\n",
    "data_test = df[(df.index >= test_start) & (df.index <= test_end)]\n",
    "\n",
    "print(f\"Training Set: {data_train.shape[0]} rows\")\n",
    "print(f\"Test Set: {data_test.shape[0]} rows\")\n",
    "\n",
    "df = df['ConsumptionkWh']\n",
    "print(df)\n",
    "# print(data_train)\n",
    "# print(data_test)\n",
    "plt.figure(figsize=(7, 3))\n",
    "plt.plot(data_train.index, data_train['ConsumptionkWh'], label=f'Train ({train_start} - {train_end})')\n",
    "plt.plot(data_test.index, data_test['ConsumptionkWh'], label=f'Test ({test_start} - {test_end})')\n",
    "plt.title('Consumption in dk private households')\n",
    "plt.xlabel('Measurements')\n",
    "plt.ylabel('Power (kW / charger)')\n",
    "plt.legend()\n",
    "plt.show()"
   ]
  },
  {
   "cell_type": "markdown",
   "metadata": {},
   "source": [
    "Models and predictions"
   ]
  },
  {
   "cell_type": "code",
   "execution_count": 5,
   "metadata": {},
   "outputs": [],
   "source": [
    "# model = SARIMAX(endog = data_train, order = (1, 1, 4), seasonal_order = (1, 1, 1, 12))\n",
    "# model_res = model.fit(disp=0)\n",
    "\n",
    "# predictions_statsmodels = model_res.get_forecast(steps=len(data_test)).predicted_mean\n",
    "# predictions_statsmodels.name = 'predictions_statsmodels(1,1,1)'\n",
    "# # display(predictions_statsmodels.head(4))"
   ]
  },
  {
   "cell_type": "code",
   "execution_count": 6,
   "metadata": {},
   "outputs": [],
   "source": [
    "# model = SARIMAX(endog = data_train, order = (1, 1, 4), seasonal_order = (1, 1, 1, 12))\n",
    "# model_res = model.fit(disp=0)\n",
    "\n",
    "# predictions_statsmodels2 = model_res.get_forecast(steps=len(data_test)).predicted_mean\n",
    "# predictions_statsmodels2.name = 'predictions_statsmodels(1,1,4)'"
   ]
  },
  {
   "cell_type": "code",
   "execution_count": 7,
   "metadata": {},
   "outputs": [],
   "source": [
    "# stlf = STLForecast(data_train, SARIMAX, model_kwargs=dict(order=(1, 1, 1), seasonal_order = (1, 1, 1, 12)), period=24)\n",
    "# model_res = stlf.fit()\n",
    "# predictions_stlf = model_res.forecast(len(data_test))"
   ]
  },
  {
   "cell_type": "code",
   "execution_count": 8,
   "metadata": {},
   "outputs": [],
   "source": [
    "# model = ThetaModel(data_train, period=24, method=\"additive\")\n",
    "# model_res = model.fit()\n",
    "# predictions_theta = model_res.forecast(len(data_test))\n",
    "# predictions_theta.index = data_test.index\n",
    "\n",
    "# model2 = ThetaModel(data_train, period=24, method=\"multiplicative\")\n",
    "# model2_res = model2.fit()\n",
    "# predictions_theta2 = model2_res.forecast(len(data_test))\n",
    "# predictions_theta2.index = data_test.index"
   ]
  },
  {
   "cell_type": "code",
   "execution_count": 9,
   "metadata": {},
   "outputs": [],
   "source": [
    "# model = DynamicFactorMQ(endog=data_train)\n",
    "# model_res = model.fit()\n",
    "# predictions_dynamicFactorMQ = model_res.forecast(len(data_test))"
   ]
  },
  {
   "cell_type": "markdown",
   "metadata": {},
   "source": [
    "Plot of forecasts"
   ]
  },
  {
   "cell_type": "code",
   "execution_count": 10,
   "metadata": {},
   "outputs": [],
   "source": [
    "# predictions_statsmodels.index = data_test.index\n",
    "# predictions_statsmodels2.index = data_test.index\n",
    "# predictions_stlf.index = data_test.index\n",
    "# predictions_theta.index = data_test.index\n",
    "# predictions_theta2.index = data_test.index\n",
    "# predictions_dynamicFactorMQ.index = data_test.index"
   ]
  },
  {
   "cell_type": "code",
   "execution_count": 11,
   "metadata": {},
   "outputs": [],
   "source": [
    "# fig, ax = plt.subplots(figsize=(8, 3))\n",
    "# data_train.plot(ax=ax, label='train')\n",
    "# data_test.plot(ax=ax, label='test')\n",
    "# predictions_statsmodels.plot(ax=ax, label='arima_statsmodels(1,1,6)x(1,1,1)_12')\n",
    "# # predictions_statsmodels2.plot(ax=ax, label='arima_statsmodels(1,1,4)x(1,1,1)_12')\n",
    "# # predictions_dynamicFactorMQ.plot(ax=ax, label='dynamicFactorMQ')\n",
    "# # predictions_stlf.plot(ax=ax, label='stlf')\n",
    "# # predictions_theta.plot(ax=ax, label='theta')\n",
    "# # predictions_theta2.plot(ax=ax, label='theta2')\n",
    "# ax.set_title('Predictions')\n",
    "# ax.legend()"
   ]
  },
  {
   "cell_type": "markdown",
   "metadata": {},
   "source": [
    "Evaluate algorithm performance"
   ]
  },
  {
   "cell_type": "code",
   "execution_count": 13,
   "metadata": {},
   "outputs": [],
   "source": [
    "# def evaluate(prediction, name):\n",
    "#     print(f\"-- {name} --\")\n",
    "#     print(f\"mse: {mean_squared_error(data_test, prediction)}\") #penalizes larger errors more\n",
    "#     print(f\"rmse: {mean_squared_error(data_test, prediction, squared=False)}\")\n",
    "\n",
    "# evaluate(predictions_statsmodels, \"statsmodels(1,1,6)x(1,1,1)_12\")\n",
    "# evaluate(predictions_statsmodels2, \"statsmodels(1,1,4)x(1,1,1)_12\")\n",
    "# evaluate(predictions_stlf, \"stlf\")\n",
    "# evaluate(predictions_theta, \"theta\")\n",
    "# evaluate(predictions_theta2, \"theta2\")\n",
    "# evaluate(predictions_dynamicFactorMQ, \"dynamicFactorMQ\")"
   ]
  },
  {
   "cell_type": "markdown",
   "metadata": {},
   "source": [
    "Automating finding best parameters"
   ]
  },
  {
   "cell_type": "code",
   "execution_count": 24,
   "metadata": {},
   "outputs": [
    {
     "name": "stderr",
     "output_type": "stream",
     "text": [
      "c:\\Users\\sebas\\AppData\\Local\\Programs\\Python\\Python312\\Lib\\site-packages\\statsmodels\\tsa\\base\\tsa_model.py:473: ValueWarning: A date index has been provided, but it has no associated frequency information and so will be ignored when e.g. forecasting.\n",
      "  self._init_dates(dates, freq)\n"
     ]
    },
    {
     "data": {
      "text/html": [
       "<div>\n",
       "<style scoped>\n",
       "    .dataframe tbody tr th:only-of-type {\n",
       "        vertical-align: middle;\n",
       "    }\n",
       "\n",
       "    .dataframe tbody tr th {\n",
       "        vertical-align: top;\n",
       "    }\n",
       "\n",
       "    .dataframe thead th {\n",
       "        text-align: right;\n",
       "    }\n",
       "</style>\n",
       "<table border=\"1\" class=\"dataframe\">\n",
       "  <thead>\n",
       "    <tr style=\"text-align: right;\">\n",
       "      <th></th>\n",
       "      <th>parameters</th>\n",
       "      <th>aic</th>\n",
       "      <th>rmse</th>\n",
       "    </tr>\n",
       "  </thead>\n",
       "  <tbody>\n",
       "    <tr>\n",
       "      <th>0</th>\n",
       "      <td>(0, 0, 0)x(0, 0, 0, 12)</td>\n",
       "      <td>604782.730778</td>\n",
       "      <td>34009.501736</td>\n",
       "    </tr>\n",
       "  </tbody>\n",
       "</table>\n",
       "</div>"
      ],
      "text/plain": [
       "                parameters            aic          rmse\n",
       "0  (0, 0, 0)x(0, 0, 0, 12)  604782.730778  34009.501736"
      ]
     },
     "execution_count": 24,
     "metadata": {},
     "output_type": "execute_result"
    }
   ],
   "source": [
    "def optimize_SARIMAX(endog):\n",
    "  results = []\n",
    "  p = d = q = range(0, 1)\n",
    "  seasonal_pdq = [(x[0], x[1], x[2], 12) for x in list(itertools.product(p, d, q))]\n",
    "\n",
    "  for param in itertools.product(p, d, q):\n",
    "    for seasonal_param in seasonal_pdq:\n",
    "      try:\n",
    "          model = SARIMAX(endog, order=param, seasonal_order=seasonal_param, enforce_stationarity=False, enforce_invertibility=False).fit(maxiter=200, disp=0) #disp=0 to reduce output verbosity\n",
    "      except:\n",
    "          continue\n",
    "\n",
    "      aic = model.aic\n",
    "      rmse = mean_squared_error(endog, model.fittedvalues, squared=False)\n",
    "      results.append([f\"{param}x{seasonal_param}\", aic, rmse])\n",
    "\n",
    "  result_table = pd.DataFrame(results)\n",
    "  result_table.columns = ['parameters', 'aic', 'rmse']\n",
    "  result_table = result_table.sort_values(by='rmse', ascending=True).reset_index(drop=True)\n",
    "\n",
    "  return result_table\n",
    "\n",
    "optimize_SARIMAX(data_train)"
   ]
  }
 ],
 "metadata": {
  "kernelspec": {
   "display_name": "Python 3",
   "language": "python",
   "name": "python3"
  },
  "language_info": {
   "codemirror_mode": {
    "name": "ipython",
    "version": 3
   },
   "file_extension": ".py",
   "mimetype": "text/x-python",
   "name": "python",
   "nbconvert_exporter": "python",
   "pygments_lexer": "ipython3",
   "version": "3.12.0"
  }
 },
 "nbformat": 4,
 "nbformat_minor": 2
}
