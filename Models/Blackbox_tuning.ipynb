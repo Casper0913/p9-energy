{
 "cells": [
  {
   "cell_type": "code",
   "execution_count": 85,
   "metadata": {},
   "outputs": [],
   "source": [
    "import numpy as np\n",
    "import pandas as pd\n",
    "import matplotlib.pyplot as plt\n",
    "import itertools\n",
    "import optuna\n",
    "\n",
    "from neuralforecast import NeuralForecast\n",
    "from neuralforecast.models import LSTM, Informer, NHITS, DLinear\n",
    "from neuralforecast.losses.pytorch import RMSE\n",
    "from neuralforecast.losses.pytorch import DistributionLoss\n",
    "from pytorch_forecasting import MAE\n",
    "\n",
    "from datetime import datetime, timedelta\n",
    "\n",
    "from sklearn.metrics import root_mean_squared_error\n",
    "from sklearn.preprocessing import MinMaxScaler\n",
    "\n",
    "import warnings\n",
    "warnings.filterwarnings('once')\n",
    "\n",
    "import os\n",
    "os.environ['NIXTLA_ID_AS_COL'] = '1'"
   ]
  },
  {
   "cell_type": "code",
   "execution_count": 86,
   "metadata": {},
   "outputs": [],
   "source": [
    "def loaddataset():\n",
    "    # consumption = pd.read_csv('ConsumptionIndustry.csv', sep=';')\n",
    "    # spot_prices = pd.read_csv('/content/ELSpotPrices.csv', sep=';')\n",
    "    consumption = pd.read_csv('../Dataset/ConsumptionIndustry.csv', sep=';')\n",
    "    spot_prices = pd.read_csv('../Dataset/ELSpotPrices.csv', sep=';')\n",
    "\n",
    "    # Convert comma decimal format to float\n",
    "    consumption['ConsumptionkWh'] = consumption['ConsumptionkWh'].str.replace(\n",
    "        ',', '.').astype(float)\n",
    "    spot_prices['SpotPriceDKK'] = spot_prices['SpotPriceDKK'].str.replace(\n",
    "        ',', '.').astype(float)\n",
    "\n",
    "    # Remove first row, since the measurement at that time is not present in other dataset\n",
    "    spot_prices = spot_prices.iloc[1:]\n",
    "\n",
    "    # Merge datasets on HourDK\n",
    "    combined_data = pd.merge(consumption, spot_prices,\n",
    "                             on='HourDK', how='inner')\n",
    "\n",
    "    # Drop unnecessary columns\n",
    "    combined_data = combined_data.drop(\n",
    "        ['HourUTC_x', 'HourUTC_y', 'SpotPriceEUR', 'MunicipalityNo', 'Branche', 'PriceArea'], axis=1)\n",
    "\n",
    "    # Set HourDK as index\n",
    "    combined_data.index = pd.to_datetime(\n",
    "        combined_data['HourDK'])  # Ensure index is datetime\n",
    "\n",
    "    combined_data['HourDK'] = pd.to_datetime(combined_data['HourDK'])\n",
    "    combined_data['Hour'] = combined_data['HourDK'].dt.hour\n",
    "    combined_data['DayOfWeek'] = combined_data['HourDK'].dt.dayofweek\n",
    "    combined_data['IsWeekend'] = combined_data['DayOfWeek'].isin([\n",
    "                                                                 5, 6]).astype(int)\n",
    "\n",
    "    return combined_data\n",
    "\n",
    "def prepare_neuralforecast_data(combined_data):\n",
    "    # Reset index while avoiding duplicates\n",
    "    combined_data = combined_data.reset_index(drop=True)\n",
    "\n",
    "    # Rename columns to fit neuralforecast conventions\n",
    "    combined_data = combined_data.rename(\n",
    "        columns={'HourDK': 'ds', 'ConsumptionkWh': 'y'})\n",
    "\n",
    "    # Add unique_id for a single time series\n",
    "    # Single series; use unique values if there are multiple series\n",
    "    combined_data['unique_id'] = 1\n",
    "\n",
    "    combined_data.index = pd.to_datetime(combined_data['ds'])\n",
    "\n",
    "    return combined_data[['unique_id', 'ds', 'y'] + [col for col in combined_data.columns if col not in ['unique_id', 'ds', 'y']]]"
   ]
  },
  {
   "cell_type": "code",
   "execution_count": 87,
   "metadata": {},
   "outputs": [],
   "source": [
    "def sample_data_with_train_window(df, start_date, end_date, train_window_size):\n",
    "    if not pd.api.types.is_datetime64_any_dtype(df.index):\n",
    "        df.index = pd.to_datetime(df['ds'])\n",
    "\n",
    "    start_date = datetime.strptime(start_date, '%Y-%m-%d') - timedelta(hours=train_window_size) + timedelta(hours=24)\n",
    "    end_date = datetime.strptime(end_date, '%Y-%m-%d') + timedelta(hours=24)\n",
    "\n",
    "    return df[(df.index >= start_date) & (df.index <= end_date)]\n",
    "\n",
    "def get_next_window(data, train_window_size, forecast_horizon):\n",
    "  return data[:train_window_size], data[train_window_size:train_window_size + forecast_horizon]"
   ]
  },
  {
   "cell_type": "code",
   "execution_count": 90,
   "metadata": {},
   "outputs": [],
   "source": [
    "def objective_LSTM(trial, data_train, data_test, forecast_horizon):\n",
    "    nf = NeuralForecast(\n",
    "        models=[LSTM(h=forecast_horizon, input_size=-1, loss=RMSE(),\n",
    "                    encoder_n_layers=trial.suggest_categorical('encoder_n_layers', [1, 2, 5, 10]),\n",
    "                    encoder_hidden_size=trial.suggest_categorical('encoder_hidden_size', [100, 200, 300, 400]),\n",
    "                    context_size=trial.suggest_categorical('context_size', [5, 10, 15, 20]),\n",
    "                    decoder_hidden_size=trial.suggest_categorical('decoder_hidden_size', [100, 200, 300, 400]),\n",
    "                    decoder_layers=trial.suggest_categorical('decoder_layers', [1, 2, 5, 10]),\n",
    "                    max_steps=trial.suggest_categorical('max_steps', [200, 500, 1000, 3000]),\n",
    "                    val_check_steps=trial.suggest_categorical('val_check_steps', [10, 20, 50, 100, 250, 500]),\n",
    "                    batch_size=trial.suggest_categorical('batch_size', [16, 32, 64, 128]),\n",
    "                    scaler_type=trial.suggest_categorical('scaler_type', ['standard', 'minmax', 'robust']),\n",
    "                    )\n",
    "        ],\n",
    "        freq='H'\n",
    "    )\n",
    "    nf.fit(data_train)\n",
    "    predictions = nf.predict(data_test)\n",
    "    return root_mean_squared_error(data_test['y'], predictions['LSTM'])\n",
    "\n",
    "def objective_Informer(trial, data_train, data_test, forecast_horizon):\n",
    "    nf = NeuralForecast(\n",
    "        models=[Informer(h=forecast_horizon, input_size=-1, loss=RMSE(),\n",
    "                    exclude_insample_y=trial.suggest_categorical('exclude_insample_y', [True, False]),\n",
    "                    hidden_size=trial.suggest_categorical('hidden_size', [76, 76*2, 76*3, 76*4, 76*5]),\n",
    "                    n_head=trial.suggest_categorical('n_head', [1, 2, 3, 4, 5, 6, 7, 8, 9, 10]),\n",
    "                    factor=trial.suggest_categorical('factor', [1, 2, 3, 4, 5]),\n",
    "                    conv_hidden_size=trial.suggest_categorical('conv_hidden_size', [16, 32, 64, 128, 256]),\n",
    "                    encoder_layers=trial.suggest_categorical('encoder_layers', [1, 2, 3, 4, 5]),\n",
    "                    decoder_layers=trial.suggest_categorical('decoder_layers', [1, 2, 3, 4, 5]),\n",
    "                    max_steps=trial.suggest_categorical('max_steps', [200, 500, 1000, 3000]),\n",
    "                    val_check_steps=trial.suggest_categorical('val_check_steps', [10, 20, 50, 100, 250, 500]),\n",
    "                    batch_size=trial.suggest_categorical('batch_size', [None, 16, 32, 64, 128]),\n",
    "                    scaler_type=trial.suggest_categorical('scaler_type', ['standard', 'minmax', 'robust']),\n",
    "                    )\n",
    "        ],\n",
    "        freq='H'\n",
    "    )\n",
    "    nf.fit(data_train)\n",
    "    predictions = nf.predict(data_test)\n",
    "    return root_mean_squared_error(data_test['y'], predictions['Informer'])\n",
    "\n"
   ]
  },
  {
   "cell_type": "code",
   "execution_count": 91,
   "metadata": {},
   "outputs": [
    {
     "name": "stderr",
     "output_type": "stream",
     "text": [
      "[I 2025-01-02 22:14:59,336] A new study created in memory with name: no-name-efc69495-1825-4cd5-a356-70d915fcb303\n",
      "Seed set to 1\n",
      "[I 2025-01-02 22:14:59,552] Trial 0 finished with value: inf and parameters: {'exclude_insample_y': True, 'decoder_input_size_multiplier': 0.7, 'hidden_size': 228, 'n_head': 6, 'factor': 2, 'conv_hidden_size': 64, 'encoder_layers': 5, 'decoder_layers': 2, 'max_steps': 200, 'val_check_steps': 250, 'batch_size': 16, 'scaler_type': 'robust'}. Best is trial 0 with value: inf.\n",
      "Seed set to 1\n",
      "[I 2025-01-02 22:14:59,577] Trial 1 finished with value: inf and parameters: {'exclude_insample_y': False, 'decoder_input_size_multiplier': 0.5, 'hidden_size': 380, 'n_head': 5, 'factor': 3, 'conv_hidden_size': 64, 'encoder_layers': 5, 'decoder_layers': 4, 'max_steps': 1000, 'val_check_steps': 500, 'batch_size': 64, 'scaler_type': 'standard'}. Best is trial 0 with value: inf.\n",
      "Seed set to 1\n",
      "[I 2025-01-02 22:14:59,588] Trial 2 finished with value: inf and parameters: {'exclude_insample_y': False, 'decoder_input_size_multiplier': 0.4, 'hidden_size': 228, 'n_head': 7, 'factor': 3, 'conv_hidden_size': 16, 'encoder_layers': 3, 'decoder_layers': 5, 'max_steps': 500, 'val_check_steps': 250, 'batch_size': 32, 'scaler_type': 'minmax'}. Best is trial 0 with value: inf.\n",
      "Seed set to 1\n",
      "[I 2025-01-02 22:14:59,603] Trial 3 finished with value: inf and parameters: {'exclude_insample_y': True, 'decoder_input_size_multiplier': 0.7, 'hidden_size': 76, 'n_head': 2, 'factor': 2, 'conv_hidden_size': 128, 'encoder_layers': 2, 'decoder_layers': 3, 'max_steps': 200, 'val_check_steps': 250, 'batch_size': 32, 'scaler_type': 'standard'}. Best is trial 0 with value: inf.\n",
      "Seed set to 1\n",
      "[I 2025-01-02 22:14:59,615] Trial 4 finished with value: inf and parameters: {'exclude_insample_y': True, 'decoder_input_size_multiplier': 0.4, 'hidden_size': 76, 'n_head': 5, 'factor': 5, 'conv_hidden_size': 128, 'encoder_layers': 5, 'decoder_layers': 4, 'max_steps': 500, 'val_check_steps': 500, 'batch_size': 32, 'scaler_type': 'robust'}. Best is trial 0 with value: inf.\n",
      "Seed set to 1\n",
      "[I 2025-01-02 22:14:59,627] Trial 5 finished with value: inf and parameters: {'exclude_insample_y': True, 'decoder_input_size_multiplier': 0.7, 'hidden_size': 304, 'n_head': 8, 'factor': 5, 'conv_hidden_size': 64, 'encoder_layers': 3, 'decoder_layers': 5, 'max_steps': 1000, 'val_check_steps': 500, 'batch_size': 64, 'scaler_type': 'robust'}. Best is trial 0 with value: inf.\n",
      "Seed set to 1\n",
      "[I 2025-01-02 22:14:59,639] Trial 6 finished with value: inf and parameters: {'exclude_insample_y': True, 'decoder_input_size_multiplier': 0.4, 'hidden_size': 380, 'n_head': 2, 'factor': 1, 'conv_hidden_size': 256, 'encoder_layers': 5, 'decoder_layers': 2, 'max_steps': 200, 'val_check_steps': 50, 'batch_size': 128, 'scaler_type': 'robust'}. Best is trial 0 with value: inf.\n",
      "Seed set to 1\n",
      "[I 2025-01-02 22:14:59,645] Trial 7 finished with value: inf and parameters: {'exclude_insample_y': False, 'decoder_input_size_multiplier': 0.3, 'hidden_size': 380, 'n_head': 5, 'factor': 1, 'conv_hidden_size': 64, 'encoder_layers': 5, 'decoder_layers': 5, 'max_steps': 500, 'val_check_steps': 20, 'batch_size': 16, 'scaler_type': 'minmax'}. Best is trial 0 with value: inf.\n",
      "Seed set to 1\n",
      "[I 2025-01-02 22:14:59,661] Trial 8 finished with value: inf and parameters: {'exclude_insample_y': True, 'decoder_input_size_multiplier': 0.3, 'hidden_size': 228, 'n_head': 10, 'factor': 4, 'conv_hidden_size': 256, 'encoder_layers': 3, 'decoder_layers': 5, 'max_steps': 500, 'val_check_steps': 250, 'batch_size': 32, 'scaler_type': 'standard'}. Best is trial 0 with value: inf.\n",
      "Seed set to 1\n",
      "[I 2025-01-02 22:14:59,672] Trial 9 finished with value: inf and parameters: {'exclude_insample_y': True, 'decoder_input_size_multiplier': 0.3, 'hidden_size': 228, 'n_head': 6, 'factor': 5, 'conv_hidden_size': 256, 'encoder_layers': 4, 'decoder_layers': 3, 'max_steps': 200, 'val_check_steps': 250, 'batch_size': 128, 'scaler_type': 'minmax'}. Best is trial 0 with value: inf.\n",
      "Seed set to 1\n",
      "[I 2025-01-02 22:14:59,708] Trial 10 finished with value: inf and parameters: {'exclude_insample_y': False, 'decoder_input_size_multiplier': 0.6, 'hidden_size': 152, 'n_head': 3, 'factor': 2, 'conv_hidden_size': 32, 'encoder_layers': 1, 'decoder_layers': 2, 'max_steps': 3000, 'val_check_steps': 10, 'batch_size': 16, 'scaler_type': 'robust'}. Best is trial 0 with value: inf.\n",
      "Seed set to 1\n"
     ]
    },
    {
     "name": "stdout",
     "output_type": "stream",
     "text": [
      "Failed trial: Check decoder_input_size_multiplier=0.7, range (0,1). Skipped this trial.\n",
      "Failed trial: Check decoder_input_size_multiplier=0.5, range (0,1). Skipped this trial.\n",
      "Failed trial: Check decoder_input_size_multiplier=0.4, range (0,1). Skipped this trial.\n",
      "Failed trial: Check decoder_input_size_multiplier=0.7, range (0,1). Skipped this trial.\n",
      "Failed trial: Check decoder_input_size_multiplier=0.4, range (0,1). Skipped this trial.\n",
      "Failed trial: Check decoder_input_size_multiplier=0.7, range (0,1). Skipped this trial.\n",
      "Failed trial: Check decoder_input_size_multiplier=0.4, range (0,1). Skipped this trial.\n",
      "Failed trial: Check decoder_input_size_multiplier=0.3, range (0,1). Skipped this trial.\n",
      "Failed trial: Check decoder_input_size_multiplier=0.3, range (0,1). Skipped this trial.\n",
      "Failed trial: Check decoder_input_size_multiplier=0.3, range (0,1). Skipped this trial.\n",
      "Failed trial: Check decoder_input_size_multiplier=0.6, range (0,1). Skipped this trial.\n",
      "Failed trial: Check decoder_input_size_multiplier=0.5, range (0,1). Skipped this trial.\n"
     ]
    },
    {
     "name": "stderr",
     "output_type": "stream",
     "text": [
      "[I 2025-01-02 22:14:59,736] Trial 11 finished with value: inf and parameters: {'exclude_insample_y': False, 'decoder_input_size_multiplier': 0.5, 'hidden_size': 380, 'n_head': 4, 'factor': 3, 'conv_hidden_size': 64, 'encoder_layers': 5, 'decoder_layers': 1, 'max_steps': 1000, 'val_check_steps': 100, 'batch_size': None, 'scaler_type': 'standard'}. Best is trial 0 with value: inf.\n",
      "Seed set to 1\n",
      "[I 2025-01-02 22:14:59,763] Trial 12 finished with value: inf and parameters: {'exclude_insample_y': False, 'decoder_input_size_multiplier': 0.5, 'hidden_size': 152, 'n_head': 9, 'factor': 3, 'conv_hidden_size': 64, 'encoder_layers': 5, 'decoder_layers': 4, 'max_steps': 1000, 'val_check_steps': 500, 'batch_size': 64, 'scaler_type': 'standard'}. Best is trial 0 with value: inf.\n",
      "Seed set to 1\n",
      "[I 2025-01-02 22:14:59,788] Trial 13 finished with value: inf and parameters: {'exclude_insample_y': False, 'decoder_input_size_multiplier': 0.5, 'hidden_size': 304, 'n_head': 6, 'factor': 2, 'conv_hidden_size': 64, 'encoder_layers': 1, 'decoder_layers': 4, 'max_steps': 3000, 'val_check_steps': 100, 'batch_size': 64, 'scaler_type': 'robust'}. Best is trial 0 with value: inf.\n",
      "Seed set to 1\n",
      "[I 2025-01-02 22:14:59,821] Trial 14 finished with value: inf and parameters: {'exclude_insample_y': True, 'decoder_input_size_multiplier': 0.7, 'hidden_size': 228, 'n_head': 1, 'factor': 4, 'conv_hidden_size': 16, 'encoder_layers': 2, 'decoder_layers': 2, 'max_steps': 200, 'val_check_steps': 50, 'batch_size': 16, 'scaler_type': 'standard'}. Best is trial 0 with value: inf.\n",
      "Seed set to 1\n",
      "[I 2025-01-02 22:14:59,856] Trial 15 finished with value: inf and parameters: {'exclude_insample_y': False, 'decoder_input_size_multiplier': 0.6, 'hidden_size': 380, 'n_head': 5, 'factor': 3, 'conv_hidden_size': 32, 'encoder_layers': 4, 'decoder_layers': 1, 'max_steps': 1000, 'val_check_steps': 10, 'batch_size': None, 'scaler_type': 'robust'}. Best is trial 0 with value: inf.\n",
      "Seed set to 1\n",
      "[I 2025-01-02 22:14:59,884] Trial 16 finished with value: inf and parameters: {'exclude_insample_y': False, 'decoder_input_size_multiplier': 0.5, 'hidden_size': 228, 'n_head': 6, 'factor': 2, 'conv_hidden_size': 64, 'encoder_layers': 5, 'decoder_layers': 4, 'max_steps': 200, 'val_check_steps': 20, 'batch_size': 64, 'scaler_type': 'standard'}. Best is trial 0 with value: inf.\n",
      "Seed set to 1\n",
      "[I 2025-01-02 22:14:59,915] Trial 17 finished with value: inf and parameters: {'exclude_insample_y': True, 'decoder_input_size_multiplier': 0.7, 'hidden_size': 380, 'n_head': 3, 'factor': 3, 'conv_hidden_size': 64, 'encoder_layers': 5, 'decoder_layers': 2, 'max_steps': 1000, 'val_check_steps': 500, 'batch_size': 16, 'scaler_type': 'standard'}. Best is trial 0 with value: inf.\n",
      "Seed set to 1\n",
      "[I 2025-01-02 22:14:59,941] Trial 18 finished with value: inf and parameters: {'exclude_insample_y': True, 'decoder_input_size_multiplier': 0.5, 'hidden_size': 76, 'n_head': 8, 'factor': 2, 'conv_hidden_size': 64, 'encoder_layers': 5, 'decoder_layers': 4, 'max_steps': 3000, 'val_check_steps': 250, 'batch_size': 64, 'scaler_type': 'robust'}. Best is trial 0 with value: inf.\n"
     ]
    },
    {
     "name": "stdout",
     "output_type": "stream",
     "text": [
      "Failed trial: Check decoder_input_size_multiplier=0.5, range (0,1). Skipped this trial.\n",
      "Failed trial: Check decoder_input_size_multiplier=0.5, range (0,1). Skipped this trial.\n",
      "Failed trial: Check decoder_input_size_multiplier=0.7, range (0,1). Skipped this trial.\n",
      "Failed trial: Check decoder_input_size_multiplier=0.6, range (0,1). Skipped this trial.\n",
      "Failed trial: Check decoder_input_size_multiplier=0.5, range (0,1). Skipped this trial.\n",
      "Failed trial: Check decoder_input_size_multiplier=0.7, range (0,1). Skipped this trial.\n",
      "Failed trial: Check decoder_input_size_multiplier=0.5, range (0,1). Skipped this trial.\n"
     ]
    },
    {
     "name": "stderr",
     "output_type": "stream",
     "text": [
      "Seed set to 1\n",
      "[I 2025-01-02 22:14:59,968] Trial 19 finished with value: inf and parameters: {'exclude_insample_y': False, 'decoder_input_size_multiplier': 0.7, 'hidden_size': 152, 'n_head': 9, 'factor': 1, 'conv_hidden_size': 128, 'encoder_layers': 2, 'decoder_layers': 2, 'max_steps': 1000, 'val_check_steps': 500, 'batch_size': 16, 'scaler_type': 'minmax'}. Best is trial 0 with value: inf.\n",
      "Seed set to 1\n",
      "[I 2025-01-02 22:14:59,997] Trial 20 finished with value: inf and parameters: {'exclude_insample_y': False, 'decoder_input_size_multiplier': 0.6, 'hidden_size': 304, 'n_head': 4, 'factor': 4, 'conv_hidden_size': 32, 'encoder_layers': 4, 'decoder_layers': 1, 'max_steps': 200, 'val_check_steps': 100, 'batch_size': 128, 'scaler_type': 'robust'}. Best is trial 0 with value: inf.\n",
      "Seed set to 1\n",
      "[I 2025-01-02 22:15:00,023] Trial 21 finished with value: inf and parameters: {'exclude_insample_y': False, 'decoder_input_size_multiplier': 0.4, 'hidden_size': 228, 'n_head': 7, 'factor': 3, 'conv_hidden_size': 16, 'encoder_layers': 3, 'decoder_layers': 5, 'max_steps': 500, 'val_check_steps': 250, 'batch_size': 32, 'scaler_type': 'minmax'}. Best is trial 0 with value: inf.\n",
      "Seed set to 1\n",
      "[I 2025-01-02 22:15:00,050] Trial 22 finished with value: inf and parameters: {'exclude_insample_y': False, 'decoder_input_size_multiplier': 0.4, 'hidden_size': 228, 'n_head': 7, 'factor': 3, 'conv_hidden_size': 16, 'encoder_layers': 3, 'decoder_layers': 5, 'max_steps': 500, 'val_check_steps': 250, 'batch_size': 32, 'scaler_type': 'minmax'}. Best is trial 0 with value: inf.\n",
      "Seed set to 1\n",
      "[I 2025-01-02 22:15:00,076] Trial 23 finished with value: inf and parameters: {'exclude_insample_y': False, 'decoder_input_size_multiplier': 0.4, 'hidden_size': 228, 'n_head': 7, 'factor': 3, 'conv_hidden_size': 16, 'encoder_layers': 3, 'decoder_layers': 3, 'max_steps': 500, 'val_check_steps': 250, 'batch_size': None, 'scaler_type': 'minmax'}. Best is trial 0 with value: inf.\n",
      "Seed set to 1\n",
      "[I 2025-01-02 22:15:00,105] Trial 24 finished with value: inf and parameters: {'exclude_insample_y': False, 'decoder_input_size_multiplier': 0.4, 'hidden_size': 228, 'n_head': 1, 'factor': 3, 'conv_hidden_size': 16, 'encoder_layers': 1, 'decoder_layers': 4, 'max_steps': 500, 'val_check_steps': 250, 'batch_size': 64, 'scaler_type': 'minmax'}. Best is trial 0 with value: inf.\n",
      "Seed set to 1\n",
      "[I 2025-01-02 22:15:00,133] Trial 25 finished with value: inf and parameters: {'exclude_insample_y': False, 'decoder_input_size_multiplier': 0.7, 'hidden_size': 380, 'n_head': 10, 'factor': 2, 'conv_hidden_size': 16, 'encoder_layers': 3, 'decoder_layers': 5, 'max_steps': 200, 'val_check_steps': 10, 'batch_size': 32, 'scaler_type': 'minmax'}. Best is trial 0 with value: inf.\n",
      "Seed set to 1\n"
     ]
    },
    {
     "name": "stdout",
     "output_type": "stream",
     "text": [
      "Failed trial: Check decoder_input_size_multiplier=0.7, range (0,1). Skipped this trial.\n",
      "Failed trial: Check decoder_input_size_multiplier=0.6, range (0,1). Skipped this trial.\n",
      "Failed trial: Check decoder_input_size_multiplier=0.4, range (0,1). Skipped this trial.\n",
      "Failed trial: Check decoder_input_size_multiplier=0.4, range (0,1). Skipped this trial.\n",
      "Failed trial: Check decoder_input_size_multiplier=0.4, range (0,1). Skipped this trial.\n",
      "Failed trial: Check decoder_input_size_multiplier=0.4, range (0,1). Skipped this trial.\n",
      "Failed trial: Check decoder_input_size_multiplier=0.7, range (0,1). Skipped this trial.\n"
     ]
    },
    {
     "name": "stderr",
     "output_type": "stream",
     "text": [
      "[I 2025-01-02 22:15:00,154] Trial 26 finished with value: inf and parameters: {'exclude_insample_y': True, 'decoder_input_size_multiplier': 0.5, 'hidden_size': 228, 'n_head': 5, 'factor': 3, 'conv_hidden_size': 64, 'encoder_layers': 5, 'decoder_layers': 2, 'max_steps': 1000, 'val_check_steps': 50, 'batch_size': 16, 'scaler_type': 'standard'}. Best is trial 0 with value: inf.\n",
      "Seed set to 1\n",
      "[I 2025-01-02 22:15:00,183] Trial 27 finished with value: inf and parameters: {'exclude_insample_y': False, 'decoder_input_size_multiplier': 0.4, 'hidden_size': 228, 'n_head': 7, 'factor': 3, 'conv_hidden_size': 64, 'encoder_layers': 5, 'decoder_layers': 4, 'max_steps': 3000, 'val_check_steps': 20, 'batch_size': 64, 'scaler_type': 'minmax'}. Best is trial 0 with value: inf.\n",
      "Seed set to 1\n",
      "[I 2025-01-02 22:15:00,211] Trial 28 finished with value: inf and parameters: {'exclude_insample_y': True, 'decoder_input_size_multiplier': 0.7, 'hidden_size': 380, 'n_head': 6, 'factor': 2, 'conv_hidden_size': 16, 'encoder_layers': 3, 'decoder_layers': 2, 'max_steps': 500, 'val_check_steps': 500, 'batch_size': 16, 'scaler_type': 'robust'}. Best is trial 0 with value: inf.\n",
      "Seed set to 1\n",
      "[I 2025-01-02 22:15:00,240] Trial 29 finished with value: inf and parameters: {'exclude_insample_y': True, 'decoder_input_size_multiplier': 0.5, 'hidden_size': 76, 'n_head': 2, 'factor': 2, 'conv_hidden_size': 128, 'encoder_layers': 2, 'decoder_layers': 3, 'max_steps': 200, 'val_check_steps': 250, 'batch_size': 32, 'scaler_type': 'standard'}. Best is trial 0 with value: inf.\n",
      "Seed set to 1\n",
      "[I 2025-01-02 22:15:00,265] Trial 30 finished with value: inf and parameters: {'exclude_insample_y': False, 'decoder_input_size_multiplier': 0.7, 'hidden_size': 152, 'n_head': 5, 'factor': 4, 'conv_hidden_size': 32, 'encoder_layers': 1, 'decoder_layers': 5, 'max_steps': 1000, 'val_check_steps': 250, 'batch_size': 32, 'scaler_type': 'standard'}. Best is trial 0 with value: inf.\n",
      "Seed set to 1\n",
      "[I 2025-01-02 22:15:00,293] Trial 31 finished with value: inf and parameters: {'exclude_insample_y': True, 'decoder_input_size_multiplier': 0.7, 'hidden_size': 76, 'n_head': 2, 'factor': 2, 'conv_hidden_size': 128, 'encoder_layers': 2, 'decoder_layers': 3, 'max_steps': 200, 'val_check_steps': 250, 'batch_size': 32, 'scaler_type': 'standard'}. Best is trial 0 with value: inf.\n",
      "Seed set to 1\n",
      "[I 2025-01-02 22:15:00,321] Trial 32 finished with value: inf and parameters: {'exclude_insample_y': True, 'decoder_input_size_multiplier': 0.7, 'hidden_size': 76, 'n_head': 2, 'factor': 2, 'conv_hidden_size': 128, 'encoder_layers': 2, 'decoder_layers': 3, 'max_steps': 200, 'val_check_steps': 500, 'batch_size': 32, 'scaler_type': 'standard'}. Best is trial 0 with value: inf.\n",
      "Seed set to 1\n"
     ]
    },
    {
     "name": "stdout",
     "output_type": "stream",
     "text": [
      "Failed trial: Check decoder_input_size_multiplier=0.5, range (0,1). Skipped this trial.\n",
      "Failed trial: Check decoder_input_size_multiplier=0.4, range (0,1). Skipped this trial.\n",
      "Failed trial: Check decoder_input_size_multiplier=0.7, range (0,1). Skipped this trial.\n",
      "Failed trial: Check decoder_input_size_multiplier=0.5, range (0,1). Skipped this trial.\n",
      "Failed trial: Check decoder_input_size_multiplier=0.7, range (0,1). Skipped this trial.\n",
      "Failed trial: Check decoder_input_size_multiplier=0.7, range (0,1). Skipped this trial.\n",
      "Failed trial: Check decoder_input_size_multiplier=0.7, range (0,1). Skipped this trial.\n"
     ]
    },
    {
     "name": "stderr",
     "output_type": "stream",
     "text": [
      "[I 2025-01-02 22:15:00,348] Trial 33 finished with value: inf and parameters: {'exclude_insample_y': True, 'decoder_input_size_multiplier': 0.7, 'hidden_size': 76, 'n_head': 8, 'factor': 5, 'conv_hidden_size': 128, 'encoder_layers': 2, 'decoder_layers': 3, 'max_steps': 200, 'val_check_steps': 250, 'batch_size': 32, 'scaler_type': 'robust'}. Best is trial 0 with value: inf.\n",
      "Seed set to 1\n",
      "[I 2025-01-02 22:15:00,375] Trial 34 finished with value: inf and parameters: {'exclude_insample_y': True, 'decoder_input_size_multiplier': 0.4, 'hidden_size': 76, 'n_head': 2, 'factor': 1, 'conv_hidden_size': 128, 'encoder_layers': 5, 'decoder_layers': 3, 'max_steps': 200, 'val_check_steps': 250, 'batch_size': 128, 'scaler_type': 'standard'}. Best is trial 0 with value: inf.\n",
      "Seed set to 1\n",
      "[I 2025-01-02 22:15:00,400] Trial 35 finished with value: inf and parameters: {'exclude_insample_y': True, 'decoder_input_size_multiplier': 0.3, 'hidden_size': 304, 'n_head': 5, 'factor': 5, 'conv_hidden_size': 256, 'encoder_layers': 5, 'decoder_layers': 5, 'max_steps': 500, 'val_check_steps': 500, 'batch_size': 32, 'scaler_type': 'robust'}. Best is trial 0 with value: inf.\n",
      "Seed set to 1\n",
      "[I 2025-01-02 22:15:00,425] Trial 36 finished with value: inf and parameters: {'exclude_insample_y': True, 'decoder_input_size_multiplier': 0.7, 'hidden_size': 380, 'n_head': 6, 'factor': 2, 'conv_hidden_size': 64, 'encoder_layers': 3, 'decoder_layers': 4, 'max_steps': 200, 'val_check_steps': 50, 'batch_size': 64, 'scaler_type': 'standard'}. Best is trial 0 with value: inf.\n",
      "Seed set to 1\n",
      "[I 2025-01-02 22:15:00,450] Trial 37 finished with value: inf and parameters: {'exclude_insample_y': True, 'decoder_input_size_multiplier': 0.3, 'hidden_size': 76, 'n_head': 10, 'factor': 1, 'conv_hidden_size': 256, 'encoder_layers': 4, 'decoder_layers': 2, 'max_steps': 500, 'val_check_steps': 250, 'batch_size': 32, 'scaler_type': 'minmax'}. Best is trial 0 with value: inf.\n",
      "Seed set to 1\n",
      "[I 2025-01-02 22:15:00,484] Trial 38 finished with value: inf and parameters: {'exclude_insample_y': True, 'decoder_input_size_multiplier': 0.4, 'hidden_size': 228, 'n_head': 7, 'factor': 5, 'conv_hidden_size': 128, 'encoder_layers': 2, 'decoder_layers': 5, 'max_steps': 1000, 'val_check_steps': 20, 'batch_size': 16, 'scaler_type': 'robust'}. Best is trial 0 with value: inf.\n",
      "Seed set to 1\n",
      "[I 2025-01-02 22:15:00,509] Trial 39 finished with value: inf and parameters: {'exclude_insample_y': False, 'decoder_input_size_multiplier': 0.6, 'hidden_size': 380, 'n_head': 3, 'factor': 3, 'conv_hidden_size': 64, 'encoder_layers': 5, 'decoder_layers': 1, 'max_steps': 200, 'val_check_steps': 250, 'batch_size': None, 'scaler_type': 'standard'}. Best is trial 0 with value: inf.\n",
      "Seed set to 1\n"
     ]
    },
    {
     "name": "stdout",
     "output_type": "stream",
     "text": [
      "Failed trial: Check decoder_input_size_multiplier=0.7, range (0,1). Skipped this trial.\n",
      "Failed trial: Check decoder_input_size_multiplier=0.4, range (0,1). Skipped this trial.\n",
      "Failed trial: Check decoder_input_size_multiplier=0.3, range (0,1). Skipped this trial.\n",
      "Failed trial: Check decoder_input_size_multiplier=0.7, range (0,1). Skipped this trial.\n",
      "Failed trial: Check decoder_input_size_multiplier=0.3, range (0,1). Skipped this trial.\n",
      "Failed trial: Check decoder_input_size_multiplier=0.4, range (0,1). Skipped this trial.\n",
      "Failed trial: Check decoder_input_size_multiplier=0.6, range (0,1). Skipped this trial.\n"
     ]
    },
    {
     "name": "stderr",
     "output_type": "stream",
     "text": [
      "[I 2025-01-02 22:15:00,541] Trial 40 finished with value: inf and parameters: {'exclude_insample_y': True, 'decoder_input_size_multiplier': 0.5, 'hidden_size': 304, 'n_head': 2, 'factor': 2, 'conv_hidden_size': 64, 'encoder_layers': 3, 'decoder_layers': 3, 'max_steps': 3000, 'val_check_steps': 100, 'batch_size': 128, 'scaler_type': 'standard'}. Best is trial 0 with value: inf.\n",
      "Seed set to 1\n",
      "[I 2025-01-02 22:15:00,574] Trial 41 finished with value: inf and parameters: {'exclude_insample_y': True, 'decoder_input_size_multiplier': 0.4, 'hidden_size': 76, 'n_head': 5, 'factor': 5, 'conv_hidden_size': 128, 'encoder_layers': 5, 'decoder_layers': 4, 'max_steps': 500, 'val_check_steps': 500, 'batch_size': 32, 'scaler_type': 'robust'}. Best is trial 0 with value: inf.\n",
      "Seed set to 1\n",
      "[I 2025-01-02 22:15:00,608] Trial 42 finished with value: inf and parameters: {'exclude_insample_y': True, 'decoder_input_size_multiplier': 0.4, 'hidden_size': 76, 'n_head': 5, 'factor': 5, 'conv_hidden_size': 128, 'encoder_layers': 5, 'decoder_layers': 4, 'max_steps': 500, 'val_check_steps': 500, 'batch_size': 32, 'scaler_type': 'robust'}. Best is trial 0 with value: inf.\n",
      "Seed set to 1\n",
      "[I 2025-01-02 22:15:00,647] Trial 43 finished with value: inf and parameters: {'exclude_insample_y': True, 'decoder_input_size_multiplier': 0.4, 'hidden_size': 76, 'n_head': 4, 'factor': 5, 'conv_hidden_size': 128, 'encoder_layers': 5, 'decoder_layers': 4, 'max_steps': 500, 'val_check_steps': 500, 'batch_size': 32, 'scaler_type': 'robust'}. Best is trial 0 with value: inf.\n",
      "Seed set to 1\n",
      "[I 2025-01-02 22:15:00,674] Trial 44 finished with value: inf and parameters: {'exclude_insample_y': False, 'decoder_input_size_multiplier': 0.3, 'hidden_size': 228, 'n_head': 5, 'factor': 4, 'conv_hidden_size': 256, 'encoder_layers': 5, 'decoder_layers': 4, 'max_steps': 1000, 'val_check_steps': 10, 'batch_size': 64, 'scaler_type': 'robust'}. Best is trial 0 with value: inf.\n",
      "Seed set to 1\n",
      "[I 2025-01-02 22:15:00,704] Trial 45 finished with value: inf and parameters: {'exclude_insample_y': True, 'decoder_input_size_multiplier': 0.7, 'hidden_size': 152, 'n_head': 6, 'factor': 3, 'conv_hidden_size': 64, 'encoder_layers': 5, 'decoder_layers': 2, 'max_steps': 500, 'val_check_steps': 500, 'batch_size': 16, 'scaler_type': 'robust'}. Best is trial 0 with value: inf.\n",
      "Seed set to 1\n"
     ]
    },
    {
     "name": "stdout",
     "output_type": "stream",
     "text": [
      "Failed trial: Check decoder_input_size_multiplier=0.5, range (0,1). Skipped this trial.\n",
      "Failed trial: Check decoder_input_size_multiplier=0.4, range (0,1). Skipped this trial.\n",
      "Failed trial: Check decoder_input_size_multiplier=0.4, range (0,1). Skipped this trial.\n",
      "Failed trial: Check decoder_input_size_multiplier=0.4, range (0,1). Skipped this trial.\n",
      "Failed trial: Check decoder_input_size_multiplier=0.3, range (0,1). Skipped this trial.\n",
      "Failed trial: Check decoder_input_size_multiplier=0.7, range (0,1). Skipped this trial.\n",
      "Failed trial: Check decoder_input_size_multiplier=0.5, range (0,1). Skipped this trial.\n"
     ]
    },
    {
     "name": "stderr",
     "output_type": "stream",
     "text": [
      "[I 2025-01-02 22:15:00,730] Trial 46 finished with value: inf and parameters: {'exclude_insample_y': False, 'decoder_input_size_multiplier': 0.5, 'hidden_size': 380, 'n_head': 9, 'factor': 2, 'conv_hidden_size': 32, 'encoder_layers': 1, 'decoder_layers': 4, 'max_steps': 200, 'val_check_steps': 50, 'batch_size': 32, 'scaler_type': 'standard'}. Best is trial 0 with value: inf.\n",
      "Seed set to 1\n",
      "[I 2025-01-02 22:15:00,757] Trial 47 finished with value: inf and parameters: {'exclude_insample_y': True, 'decoder_input_size_multiplier': 0.6, 'hidden_size': 228, 'n_head': 1, 'factor': 5, 'conv_hidden_size': 64, 'encoder_layers': 4, 'decoder_layers': 1, 'max_steps': 1000, 'val_check_steps': 250, 'batch_size': 64, 'scaler_type': 'minmax'}. Best is trial 0 with value: inf.\n",
      "Seed set to 1\n",
      "[I 2025-01-02 22:15:00,786] Trial 48 finished with value: inf and parameters: {'exclude_insample_y': False, 'decoder_input_size_multiplier': 0.4, 'hidden_size': 76, 'n_head': 8, 'factor': 1, 'conv_hidden_size': 128, 'encoder_layers': 2, 'decoder_layers': 5, 'max_steps': 3000, 'val_check_steps': 500, 'batch_size': None, 'scaler_type': 'robust'}. Best is trial 0 with value: inf.\n",
      "Seed set to 1\n",
      "[I 2025-01-02 22:15:00,815] Trial 49 finished with value: inf and parameters: {'exclude_insample_y': True, 'decoder_input_size_multiplier': 0.5, 'hidden_size': 380, 'n_head': 5, 'factor': 3, 'conv_hidden_size': 16, 'encoder_layers': 5, 'decoder_layers': 2, 'max_steps': 500, 'val_check_steps': 100, 'batch_size': 16, 'scaler_type': 'standard'}. Best is trial 0 with value: inf.\n",
      "Seed set to 1\n",
      "[I 2025-01-02 22:15:00,843] Trial 50 finished with value: inf and parameters: {'exclude_insample_y': False, 'decoder_input_size_multiplier': 0.7, 'hidden_size': 228, 'n_head': 6, 'factor': 2, 'conv_hidden_size': 64, 'encoder_layers': 5, 'decoder_layers': 4, 'max_steps': 200, 'val_check_steps': 20, 'batch_size': 128, 'scaler_type': 'robust'}. Best is trial 0 with value: inf.\n",
      "Seed set to 1\n",
      "[I 2025-01-02 22:15:00,867] Trial 51 finished with value: inf and parameters: {'exclude_insample_y': True, 'decoder_input_size_multiplier': 0.7, 'hidden_size': 304, 'n_head': 8, 'factor': 5, 'conv_hidden_size': 64, 'encoder_layers': 3, 'decoder_layers': 5, 'max_steps': 1000, 'val_check_steps': 500, 'batch_size': 64, 'scaler_type': 'robust'}. Best is trial 0 with value: inf.\n",
      "Seed set to 1\n",
      "[I 2025-01-02 22:15:00,896] Trial 52 finished with value: inf and parameters: {'exclude_insample_y': True, 'decoder_input_size_multiplier': 0.7, 'hidden_size': 304, 'n_head': 8, 'factor': 5, 'conv_hidden_size': 64, 'encoder_layers': 3, 'decoder_layers': 5, 'max_steps': 1000, 'val_check_steps': 500, 'batch_size': 64, 'scaler_type': 'robust'}. Best is trial 0 with value: inf.\n",
      "Seed set to 1\n",
      "[I 2025-01-02 22:15:00,925] Trial 53 finished with value: inf and parameters: {'exclude_insample_y': True, 'decoder_input_size_multiplier': 0.7, 'hidden_size': 304, 'n_head': 3, 'factor': 5, 'conv_hidden_size': 64, 'encoder_layers': 3, 'decoder_layers': 5, 'max_steps': 1000, 'val_check_steps': 500, 'batch_size': 64, 'scaler_type': 'robust'}. Best is trial 0 with value: inf.\n",
      "Seed set to 1\n"
     ]
    },
    {
     "name": "stdout",
     "output_type": "stream",
     "text": [
      "Failed trial: Check decoder_input_size_multiplier=0.6, range (0,1). Skipped this trial.\n",
      "Failed trial: Check decoder_input_size_multiplier=0.4, range (0,1). Skipped this trial.\n",
      "Failed trial: Check decoder_input_size_multiplier=0.5, range (0,1). Skipped this trial.\n",
      "Failed trial: Check decoder_input_size_multiplier=0.7, range (0,1). Skipped this trial.\n",
      "Failed trial: Check decoder_input_size_multiplier=0.7, range (0,1). Skipped this trial.\n",
      "Failed trial: Check decoder_input_size_multiplier=0.7, range (0,1). Skipped this trial.\n",
      "Failed trial: Check decoder_input_size_multiplier=0.7, range (0,1). Skipped this trial.\n"
     ]
    },
    {
     "name": "stderr",
     "output_type": "stream",
     "text": [
      "[I 2025-01-02 22:15:00,953] Trial 54 finished with value: inf and parameters: {'exclude_insample_y': True, 'decoder_input_size_multiplier': 0.7, 'hidden_size': 304, 'n_head': 7, 'factor': 3, 'conv_hidden_size': 16, 'encoder_layers': 3, 'decoder_layers': 5, 'max_steps': 1000, 'val_check_steps': 10, 'batch_size': 64, 'scaler_type': 'minmax'}. Best is trial 0 with value: inf.\n",
      "Seed set to 1\n",
      "[I 2025-01-02 22:15:00,982] Trial 55 finished with value: inf and parameters: {'exclude_insample_y': False, 'decoder_input_size_multiplier': 0.4, 'hidden_size': 152, 'n_head': 4, 'factor': 4, 'conv_hidden_size': 64, 'encoder_layers': 4, 'decoder_layers': 2, 'max_steps': 1000, 'val_check_steps': 250, 'batch_size': 32, 'scaler_type': 'robust'}. Best is trial 0 with value: inf.\n",
      "Seed set to 1\n",
      "[I 2025-01-02 22:15:01,008] Trial 56 finished with value: inf and parameters: {'exclude_insample_y': True, 'decoder_input_size_multiplier': 0.5, 'hidden_size': 228, 'n_head': 9, 'factor': 3, 'conv_hidden_size': 32, 'encoder_layers': 3, 'decoder_layers': 4, 'max_steps': 500, 'val_check_steps': 500, 'batch_size': 16, 'scaler_type': 'minmax'}. Best is trial 0 with value: inf.\n",
      "Seed set to 1\n",
      "[I 2025-01-02 22:15:01,039] Trial 57 finished with value: inf and parameters: {'exclude_insample_y': False, 'decoder_input_size_multiplier': 0.6, 'hidden_size': 380, 'n_head': 10, 'factor': 2, 'conv_hidden_size': 16, 'encoder_layers': 1, 'decoder_layers': 1, 'max_steps': 200, 'val_check_steps': 250, 'batch_size': 64, 'scaler_type': 'standard'}. Best is trial 0 with value: inf.\n",
      "Seed set to 1\n",
      "[I 2025-01-02 22:15:01,066] Trial 58 finished with value: inf and parameters: {'exclude_insample_y': True, 'decoder_input_size_multiplier': 0.7, 'hidden_size': 228, 'n_head': 8, 'factor': 5, 'conv_hidden_size': 64, 'encoder_layers': 5, 'decoder_layers': 5, 'max_steps': 3000, 'val_check_steps': 250, 'batch_size': None, 'scaler_type': 'robust'}. Best is trial 0 with value: inf.\n",
      "Seed set to 1\n",
      "[I 2025-01-02 22:15:01,094] Trial 59 finished with value: inf and parameters: {'exclude_insample_y': False, 'decoder_input_size_multiplier': 0.4, 'hidden_size': 76, 'n_head': 5, 'factor': 3, 'conv_hidden_size': 256, 'encoder_layers': 2, 'decoder_layers': 3, 'max_steps': 1000, 'val_check_steps': 500, 'batch_size': 32, 'scaler_type': 'minmax'}. Best is trial 0 with value: inf.\n",
      "Seed set to 1\n",
      "[I 2025-01-02 22:15:01,120] Trial 60 finished with value: inf and parameters: {'exclude_insample_y': True, 'decoder_input_size_multiplier': 0.3, 'hidden_size': 304, 'n_head': 1, 'factor': 2, 'conv_hidden_size': 128, 'encoder_layers': 3, 'decoder_layers': 2, 'max_steps': 500, 'val_check_steps': 100, 'batch_size': 16, 'scaler_type': 'standard'}. Best is trial 0 with value: inf.\n",
      "Seed set to 1\n"
     ]
    },
    {
     "name": "stdout",
     "output_type": "stream",
     "text": [
      "Failed trial: Check decoder_input_size_multiplier=0.7, range (0,1). Skipped this trial.\n",
      "Failed trial: Check decoder_input_size_multiplier=0.4, range (0,1). Skipped this trial.\n",
      "Failed trial: Check decoder_input_size_multiplier=0.5, range (0,1). Skipped this trial.\n",
      "Failed trial: Check decoder_input_size_multiplier=0.6, range (0,1). Skipped this trial.\n",
      "Failed trial: Check decoder_input_size_multiplier=0.7, range (0,1). Skipped this trial.\n",
      "Failed trial: Check decoder_input_size_multiplier=0.4, range (0,1). Skipped this trial.\n",
      "Failed trial: Check decoder_input_size_multiplier=0.3, range (0,1). Skipped this trial.\n"
     ]
    },
    {
     "name": "stderr",
     "output_type": "stream",
     "text": [
      "[I 2025-01-02 22:15:01,151] Trial 61 finished with value: inf and parameters: {'exclude_insample_y': True, 'decoder_input_size_multiplier': 0.4, 'hidden_size': 380, 'n_head': 2, 'factor': 1, 'conv_hidden_size': 256, 'encoder_layers': 5, 'decoder_layers': 2, 'max_steps': 200, 'val_check_steps': 50, 'batch_size': 128, 'scaler_type': 'robust'}. Best is trial 0 with value: inf.\n",
      "Seed set to 1\n",
      "[I 2025-01-02 22:15:01,181] Trial 62 finished with value: inf and parameters: {'exclude_insample_y': True, 'decoder_input_size_multiplier': 0.4, 'hidden_size': 380, 'n_head': 2, 'factor': 1, 'conv_hidden_size': 256, 'encoder_layers': 5, 'decoder_layers': 2, 'max_steps': 200, 'val_check_steps': 50, 'batch_size': 128, 'scaler_type': 'robust'}. Best is trial 0 with value: inf.\n",
      "Seed set to 1\n",
      "[I 2025-01-02 22:15:01,212] Trial 63 finished with value: inf and parameters: {'exclude_insample_y': True, 'decoder_input_size_multiplier': 0.4, 'hidden_size': 380, 'n_head': 2, 'factor': 1, 'conv_hidden_size': 256, 'encoder_layers': 5, 'decoder_layers': 2, 'max_steps': 200, 'val_check_steps': 50, 'batch_size': 128, 'scaler_type': 'robust'}. Best is trial 0 with value: inf.\n",
      "Seed set to 1\n",
      "[I 2025-01-02 22:15:01,240] Trial 64 finished with value: inf and parameters: {'exclude_insample_y': True, 'decoder_input_size_multiplier': 0.5, 'hidden_size': 380, 'n_head': 7, 'factor': 1, 'conv_hidden_size': 16, 'encoder_layers': 5, 'decoder_layers': 3, 'max_steps': 200, 'val_check_steps': 250, 'batch_size': 128, 'scaler_type': 'robust'}. Best is trial 0 with value: inf.\n",
      "Seed set to 1\n",
      "[I 2025-01-02 22:15:01,272] Trial 65 finished with value: inf and parameters: {'exclude_insample_y': False, 'decoder_input_size_multiplier': 0.7, 'hidden_size': 228, 'n_head': 6, 'factor': 3, 'conv_hidden_size': 64, 'encoder_layers': 2, 'decoder_layers': 4, 'max_steps': 200, 'val_check_steps': 50, 'batch_size': 32, 'scaler_type': 'standard'}. Best is trial 0 with value: inf.\n",
      "Seed set to 1\n",
      "[I 2025-01-02 22:15:01,299] Trial 66 finished with value: inf and parameters: {'exclude_insample_y': True, 'decoder_input_size_multiplier': 0.4, 'hidden_size': 76, 'n_head': 2, 'factor': 2, 'conv_hidden_size': 128, 'encoder_layers': 5, 'decoder_layers': 5, 'max_steps': 200, 'val_check_steps': 20, 'batch_size': 64, 'scaler_type': 'robust'}. Best is trial 0 with value: inf.\n",
      "Seed set to 1\n",
      "[I 2025-01-02 22:15:01,329] Trial 67 finished with value: inf and parameters: {'exclude_insample_y': False, 'decoder_input_size_multiplier': 0.7, 'hidden_size': 152, 'n_head': 5, 'factor': 4, 'conv_hidden_size': 256, 'encoder_layers': 3, 'decoder_layers': 2, 'max_steps': 500, 'val_check_steps': 10, 'batch_size': 32, 'scaler_type': 'minmax'}. Best is trial 0 with value: inf.\n",
      "Seed set to 1\n"
     ]
    },
    {
     "name": "stdout",
     "output_type": "stream",
     "text": [
      "Failed trial: Check decoder_input_size_multiplier=0.4, range (0,1). Skipped this trial.\n",
      "Failed trial: Check decoder_input_size_multiplier=0.4, range (0,1). Skipped this trial.\n",
      "Failed trial: Check decoder_input_size_multiplier=0.4, range (0,1). Skipped this trial.\n",
      "Failed trial: Check decoder_input_size_multiplier=0.5, range (0,1). Skipped this trial.\n",
      "Failed trial: Check decoder_input_size_multiplier=0.7, range (0,1). Skipped this trial.\n",
      "Failed trial: Check decoder_input_size_multiplier=0.4, range (0,1). Skipped this trial.\n",
      "Failed trial: Check decoder_input_size_multiplier=0.7, range (0,1). Skipped this trial.\n"
     ]
    },
    {
     "name": "stderr",
     "output_type": "stream",
     "text": [
      "[I 2025-01-02 22:15:01,362] Trial 68 finished with value: inf and parameters: {'exclude_insample_y': True, 'decoder_input_size_multiplier': 0.4, 'hidden_size': 228, 'n_head': 7, 'factor': 5, 'conv_hidden_size': 32, 'encoder_layers': 5, 'decoder_layers': 3, 'max_steps': 1000, 'val_check_steps': 250, 'batch_size': 16, 'scaler_type': 'standard'}. Best is trial 0 with value: inf.\n",
      "Seed set to 1\n",
      "[I 2025-01-02 22:15:01,394] Trial 69 finished with value: inf and parameters: {'exclude_insample_y': True, 'decoder_input_size_multiplier': 0.5, 'hidden_size': 380, 'n_head': 6, 'factor': 1, 'conv_hidden_size': 64, 'encoder_layers': 1, 'decoder_layers': 5, 'max_steps': 200, 'val_check_steps': 500, 'batch_size': 32, 'scaler_type': 'robust'}. Best is trial 0 with value: inf.\n",
      "Seed set to 1\n",
      "[I 2025-01-02 22:15:01,471] Trial 70 finished with value: inf and parameters: {'exclude_insample_y': False, 'decoder_input_size_multiplier': 0.7, 'hidden_size': 76, 'n_head': 2, 'factor': 3, 'conv_hidden_size': 128, 'encoder_layers': 2, 'decoder_layers': 4, 'max_steps': 500, 'val_check_steps': 250, 'batch_size': 128, 'scaler_type': 'minmax'}. Best is trial 0 with value: inf.\n",
      "Seed set to 1\n",
      "[I 2025-01-02 22:15:01,508] Trial 71 finished with value: inf and parameters: {'exclude_insample_y': False, 'decoder_input_size_multiplier': 0.3, 'hidden_size': 380, 'n_head': 5, 'factor': 1, 'conv_hidden_size': 64, 'encoder_layers': 5, 'decoder_layers': 5, 'max_steps': 500, 'val_check_steps': 20, 'batch_size': 16, 'scaler_type': 'minmax'}. Best is trial 0 with value: inf.\n",
      "Seed set to 1\n",
      "[I 2025-01-02 22:15:01,534] Trial 72 finished with value: inf and parameters: {'exclude_insample_y': False, 'decoder_input_size_multiplier': 0.3, 'hidden_size': 380, 'n_head': 5, 'factor': 1, 'conv_hidden_size': 64, 'encoder_layers': 5, 'decoder_layers': 5, 'max_steps': 500, 'val_check_steps': 20, 'batch_size': 16, 'scaler_type': 'minmax'}. Best is trial 0 with value: inf.\n",
      "Seed set to 1\n"
     ]
    },
    {
     "name": "stdout",
     "output_type": "stream",
     "text": [
      "Failed trial: Check decoder_input_size_multiplier=0.4, range (0,1). Skipped this trial.\n",
      "Failed trial: Check decoder_input_size_multiplier=0.5, range (0,1). Skipped this trial.\n",
      "Failed trial: Check decoder_input_size_multiplier=0.7, range (0,1). Skipped this trial.\n",
      "Failed trial: Check decoder_input_size_multiplier=0.3, range (0,1). Skipped this trial.\n",
      "Failed trial: Check decoder_input_size_multiplier=0.3, range (0,1). Skipped this trial.\n"
     ]
    },
    {
     "name": "stderr",
     "output_type": "stream",
     "text": [
      "[I 2025-01-02 22:15:01,568] Trial 73 finished with value: inf and parameters: {'exclude_insample_y': False, 'decoder_input_size_multiplier': 0.3, 'hidden_size': 380, 'n_head': 5, 'factor': 1, 'conv_hidden_size': 64, 'encoder_layers': 5, 'decoder_layers': 5, 'max_steps': 500, 'val_check_steps': 20, 'batch_size': 16, 'scaler_type': 'minmax'}. Best is trial 0 with value: inf.\n",
      "Seed set to 1\n",
      "[I 2025-01-02 22:15:01,598] Trial 74 finished with value: inf and parameters: {'exclude_insample_y': False, 'decoder_input_size_multiplier': 0.3, 'hidden_size': 380, 'n_head': 3, 'factor': 2, 'conv_hidden_size': 16, 'encoder_layers': 5, 'decoder_layers': 2, 'max_steps': 500, 'val_check_steps': 50, 'batch_size': 64, 'scaler_type': 'minmax'}. Best is trial 0 with value: inf.\n",
      "Seed set to 1\n",
      "[I 2025-01-02 22:15:01,628] Trial 75 finished with value: inf and parameters: {'exclude_insample_y': True, 'decoder_input_size_multiplier': 0.6, 'hidden_size': 228, 'n_head': 8, 'factor': 5, 'conv_hidden_size': 64, 'encoder_layers': 3, 'decoder_layers': 1, 'max_steps': 3000, 'val_check_steps': 500, 'batch_size': 32, 'scaler_type': 'standard'}. Best is trial 0 with value: inf.\n",
      "Seed set to 1\n",
      "[I 2025-01-02 22:15:01,651] Trial 76 finished with value: inf and parameters: {'exclude_insample_y': False, 'decoder_input_size_multiplier': 0.4, 'hidden_size': 76, 'n_head': 10, 'factor': 3, 'conv_hidden_size': 128, 'encoder_layers': 5, 'decoder_layers': 5, 'max_steps': 1000, 'val_check_steps': 250, 'batch_size': 16, 'scaler_type': 'robust'}. Best is trial 0 with value: inf.\n",
      "Seed set to 1\n",
      "[I 2025-01-02 22:15:01,684] Trial 77 finished with value: inf and parameters: {'exclude_insample_y': True, 'decoder_input_size_multiplier': 0.7, 'hidden_size': 304, 'n_head': 5, 'factor': 2, 'conv_hidden_size': 64, 'encoder_layers': 4, 'decoder_layers': 4, 'max_steps': 200, 'val_check_steps': 20, 'batch_size': None, 'scaler_type': 'standard'}. Best is trial 0 with value: inf.\n",
      "Seed set to 1\n",
      "[I 2025-01-02 22:15:01,715] Trial 78 finished with value: inf and parameters: {'exclude_insample_y': False, 'decoder_input_size_multiplier': 0.4, 'hidden_size': 380, 'n_head': 4, 'factor': 1, 'conv_hidden_size': 256, 'encoder_layers': 5, 'decoder_layers': 3, 'max_steps': 500, 'val_check_steps': 500, 'batch_size': 32, 'scaler_type': 'robust'}. Best is trial 0 with value: inf.\n",
      "Seed set to 1\n",
      "[I 2025-01-02 22:15:01,742] Trial 79 finished with value: inf and parameters: {'exclude_insample_y': True, 'decoder_input_size_multiplier': 0.5, 'hidden_size': 76, 'n_head': 9, 'factor': 5, 'conv_hidden_size': 128, 'encoder_layers': 2, 'decoder_layers': 2, 'max_steps': 200, 'val_check_steps': 100, 'batch_size': 64, 'scaler_type': 'minmax'}. Best is trial 0 with value: inf.\n"
     ]
    },
    {
     "name": "stdout",
     "output_type": "stream",
     "text": [
      "Failed trial: Check decoder_input_size_multiplier=0.3, range (0,1). Skipped this trial.\n",
      "Failed trial: Check decoder_input_size_multiplier=0.3, range (0,1). Skipped this trial.\n",
      "Failed trial: Check decoder_input_size_multiplier=0.6, range (0,1). Skipped this trial.\n",
      "Failed trial: Check decoder_input_size_multiplier=0.4, range (0,1). Skipped this trial.\n",
      "Failed trial: Check decoder_input_size_multiplier=0.7, range (0,1). Skipped this trial.\n",
      "Failed trial: Check decoder_input_size_multiplier=0.4, range (0,1). Skipped this trial.\n",
      "Failed trial: Check decoder_input_size_multiplier=0.5, range (0,1). Skipped this trial.\n"
     ]
    },
    {
     "name": "stderr",
     "output_type": "stream",
     "text": [
      "Seed set to 1\n",
      "[I 2025-01-02 22:15:01,773] Trial 80 finished with value: inf and parameters: {'exclude_insample_y': True, 'decoder_input_size_multiplier': 0.3, 'hidden_size': 228, 'n_head': 2, 'factor': 2, 'conv_hidden_size': 16, 'encoder_layers': 3, 'decoder_layers': 4, 'max_steps': 1000, 'val_check_steps': 250, 'batch_size': 16, 'scaler_type': 'robust'}. Best is trial 0 with value: inf.\n",
      "Seed set to 1\n",
      "[I 2025-01-02 22:15:01,809] Trial 81 finished with value: inf and parameters: {'exclude_insample_y': True, 'decoder_input_size_multiplier': 0.3, 'hidden_size': 228, 'n_head': 10, 'factor': 4, 'conv_hidden_size': 256, 'encoder_layers': 3, 'decoder_layers': 5, 'max_steps': 500, 'val_check_steps': 250, 'batch_size': 32, 'scaler_type': 'standard'}. Best is trial 0 with value: inf.\n",
      "Seed set to 1\n",
      "[I 2025-01-02 22:15:01,841] Trial 82 finished with value: inf and parameters: {'exclude_insample_y': True, 'decoder_input_size_multiplier': 0.3, 'hidden_size': 228, 'n_head': 10, 'factor': 4, 'conv_hidden_size': 256, 'encoder_layers': 3, 'decoder_layers': 5, 'max_steps': 500, 'val_check_steps': 250, 'batch_size': 32, 'scaler_type': 'standard'}. Best is trial 0 with value: inf.\n",
      "Seed set to 1\n",
      "[I 2025-01-02 22:15:01,871] Trial 83 finished with value: inf and parameters: {'exclude_insample_y': True, 'decoder_input_size_multiplier': 0.3, 'hidden_size': 228, 'n_head': 7, 'factor': 4, 'conv_hidden_size': 256, 'encoder_layers': 3, 'decoder_layers': 5, 'max_steps': 500, 'val_check_steps': 250, 'batch_size': 32, 'scaler_type': 'standard'}. Best is trial 0 with value: inf.\n",
      "Seed set to 1\n",
      "[I 2025-01-02 22:15:01,899] Trial 84 finished with value: inf and parameters: {'exclude_insample_y': True, 'decoder_input_size_multiplier': 0.7, 'hidden_size': 228, 'n_head': 10, 'factor': 4, 'conv_hidden_size': 64, 'encoder_layers': 5, 'decoder_layers': 5, 'max_steps': 500, 'val_check_steps': 500, 'batch_size': 32, 'scaler_type': 'standard'}. Best is trial 0 with value: inf.\n",
      "Seed set to 1\n",
      "[I 2025-01-02 22:15:01,929] Trial 85 finished with value: inf and parameters: {'exclude_insample_y': False, 'decoder_input_size_multiplier': 0.4, 'hidden_size': 152, 'n_head': 6, 'factor': 3, 'conv_hidden_size': 64, 'encoder_layers': 3, 'decoder_layers': 5, 'max_steps': 500, 'val_check_steps': 250, 'batch_size': 32, 'scaler_type': 'standard'}. Best is trial 0 with value: inf.\n",
      "Seed set to 1\n"
     ]
    },
    {
     "name": "stdout",
     "output_type": "stream",
     "text": [
      "Failed trial: Check decoder_input_size_multiplier=0.3, range (0,1). Skipped this trial.\n",
      "Failed trial: Check decoder_input_size_multiplier=0.3, range (0,1). Skipped this trial.\n",
      "Failed trial: Check decoder_input_size_multiplier=0.3, range (0,1). Skipped this trial.\n",
      "Failed trial: Check decoder_input_size_multiplier=0.3, range (0,1). Skipped this trial.\n",
      "Failed trial: Check decoder_input_size_multiplier=0.7, range (0,1). Skipped this trial.\n",
      "Failed trial: Check decoder_input_size_multiplier=0.4, range (0,1). Skipped this trial.\n"
     ]
    },
    {
     "name": "stderr",
     "output_type": "stream",
     "text": [
      "[I 2025-01-02 22:15:01,955] Trial 86 finished with value: inf and parameters: {'exclude_insample_y': True, 'decoder_input_size_multiplier': 0.7, 'hidden_size': 304, 'n_head': 5, 'factor': 5, 'conv_hidden_size': 32, 'encoder_layers': 1, 'decoder_layers': 4, 'max_steps': 1000, 'val_check_steps': 10, 'batch_size': 64, 'scaler_type': 'robust'}. Best is trial 0 with value: inf.\n",
      "Seed set to 1\n",
      "[I 2025-01-02 22:15:01,990] Trial 87 finished with value: inf and parameters: {'exclude_insample_y': True, 'decoder_input_size_multiplier': 0.3, 'hidden_size': 76, 'n_head': 1, 'factor': 2, 'conv_hidden_size': 128, 'encoder_layers': 5, 'decoder_layers': 3, 'max_steps': 200, 'val_check_steps': 500, 'batch_size': 128, 'scaler_type': 'standard'}. Best is trial 0 with value: inf.\n",
      "Seed set to 1\n",
      "[I 2025-01-02 22:15:02,019] Trial 88 finished with value: inf and parameters: {'exclude_insample_y': False, 'decoder_input_size_multiplier': 0.5, 'hidden_size': 380, 'n_head': 8, 'factor': 3, 'conv_hidden_size': 256, 'encoder_layers': 4, 'decoder_layers': 5, 'max_steps': 3000, 'val_check_steps': 250, 'batch_size': 32, 'scaler_type': 'minmax'}. Best is trial 0 with value: inf.\n",
      "Seed set to 1\n",
      "[I 2025-01-02 22:15:02,057] Trial 89 finished with value: inf and parameters: {'exclude_insample_y': True, 'decoder_input_size_multiplier': 0.4, 'hidden_size': 228, 'n_head': 5, 'factor': 1, 'conv_hidden_size': 64, 'encoder_layers': 2, 'decoder_layers': 2, 'max_steps': 500, 'val_check_steps': 50, 'batch_size': 16, 'scaler_type': 'robust'}. Best is trial 0 with value: inf.\n",
      "Seed set to 1\n",
      "[I 2025-01-02 22:15:02,093] Trial 90 finished with value: inf and parameters: {'exclude_insample_y': True, 'decoder_input_size_multiplier': 0.6, 'hidden_size': 304, 'n_head': 2, 'factor': 4, 'conv_hidden_size': 16, 'encoder_layers': 3, 'decoder_layers': 4, 'max_steps': 1000, 'val_check_steps': 20, 'batch_size': 64, 'scaler_type': 'robust'}. Best is trial 0 with value: inf.\n",
      "Seed set to 1\n",
      "[I 2025-01-02 22:15:02,128] Trial 91 finished with value: inf and parameters: {'exclude_insample_y': True, 'decoder_input_size_multiplier': 0.3, 'hidden_size': 228, 'n_head': 6, 'factor': 5, 'conv_hidden_size': 256, 'encoder_layers': 4, 'decoder_layers': 3, 'max_steps': 200, 'val_check_steps': 250, 'batch_size': 128, 'scaler_type': 'minmax'}. Best is trial 0 with value: inf.\n"
     ]
    },
    {
     "name": "stdout",
     "output_type": "stream",
     "text": [
      "Failed trial: Check decoder_input_size_multiplier=0.7, range (0,1). Skipped this trial.\n",
      "Failed trial: Check decoder_input_size_multiplier=0.3, range (0,1). Skipped this trial.\n",
      "Failed trial: Check decoder_input_size_multiplier=0.5, range (0,1). Skipped this trial.\n",
      "Failed trial: Check decoder_input_size_multiplier=0.4, range (0,1). Skipped this trial.\n",
      "Failed trial: Check decoder_input_size_multiplier=0.6, range (0,1). Skipped this trial.\n",
      "Failed trial: Check decoder_input_size_multiplier=0.3, range (0,1). Skipped this trial.\n"
     ]
    },
    {
     "name": "stderr",
     "output_type": "stream",
     "text": [
      "Seed set to 1\n",
      "[I 2025-01-02 22:15:02,163] Trial 92 finished with value: inf and parameters: {'exclude_insample_y': True, 'decoder_input_size_multiplier': 0.3, 'hidden_size': 228, 'n_head': 6, 'factor': 5, 'conv_hidden_size': 256, 'encoder_layers': 4, 'decoder_layers': 3, 'max_steps': 200, 'val_check_steps': 250, 'batch_size': 128, 'scaler_type': 'minmax'}. Best is trial 0 with value: inf.\n",
      "Seed set to 1\n",
      "[I 2025-01-02 22:15:02,200] Trial 93 finished with value: inf and parameters: {'exclude_insample_y': True, 'decoder_input_size_multiplier': 0.3, 'hidden_size': 228, 'n_head': 6, 'factor': 5, 'conv_hidden_size': 256, 'encoder_layers': 4, 'decoder_layers': 3, 'max_steps': 200, 'val_check_steps': 250, 'batch_size': 128, 'scaler_type': 'minmax'}. Best is trial 0 with value: inf.\n",
      "Seed set to 1\n",
      "[I 2025-01-02 22:15:02,223] Trial 94 finished with value: inf and parameters: {'exclude_insample_y': True, 'decoder_input_size_multiplier': 0.7, 'hidden_size': 228, 'n_head': 7, 'factor': 5, 'conv_hidden_size': 256, 'encoder_layers': 5, 'decoder_layers': 1, 'max_steps': 200, 'val_check_steps': 250, 'batch_size': 128, 'scaler_type': 'minmax'}. Best is trial 0 with value: inf.\n",
      "Seed set to 1\n",
      "[I 2025-01-02 22:15:02,263] Trial 95 finished with value: inf and parameters: {'exclude_insample_y': True, 'decoder_input_size_multiplier': 0.3, 'hidden_size': 76, 'n_head': 3, 'factor': 3, 'conv_hidden_size': 128, 'encoder_layers': 4, 'decoder_layers': 3, 'max_steps': 200, 'val_check_steps': 500, 'batch_size': None, 'scaler_type': 'standard'}. Best is trial 0 with value: inf.\n",
      "Seed set to 1\n",
      "[I 2025-01-02 22:15:02,335] Trial 96 finished with value: inf and parameters: {'exclude_insample_y': False, 'decoder_input_size_multiplier': 0.4, 'hidden_size': 380, 'n_head': 6, 'factor': 2, 'conv_hidden_size': 64, 'encoder_layers': 5, 'decoder_layers': 2, 'max_steps': 500, 'val_check_steps': 250, 'batch_size': 32, 'scaler_type': 'minmax'}. Best is trial 0 with value: inf.\n"
     ]
    },
    {
     "name": "stdout",
     "output_type": "stream",
     "text": [
      "Failed trial: Check decoder_input_size_multiplier=0.3, range (0,1). Skipped this trial.\n",
      "Failed trial: Check decoder_input_size_multiplier=0.3, range (0,1). Skipped this trial.\n",
      "Failed trial: Check decoder_input_size_multiplier=0.7, range (0,1). Skipped this trial.\n",
      "Failed trial: Check decoder_input_size_multiplier=0.3, range (0,1). Skipped this trial.\n",
      "Failed trial: Check decoder_input_size_multiplier=0.4, range (0,1). Skipped this trial.\n"
     ]
    },
    {
     "name": "stderr",
     "output_type": "stream",
     "text": [
      "Seed set to 1\n",
      "[I 2025-01-02 22:15:02,376] Trial 97 finished with value: inf and parameters: {'exclude_insample_y': True, 'decoder_input_size_multiplier': 0.7, 'hidden_size': 228, 'n_head': 8, 'factor': 5, 'conv_hidden_size': 256, 'encoder_layers': 3, 'decoder_layers': 5, 'max_steps': 200, 'val_check_steps': 100, 'batch_size': 64, 'scaler_type': 'robust'}. Best is trial 0 with value: inf.\n",
      "Seed set to 1\n",
      "[I 2025-01-02 22:15:02,404] Trial 98 finished with value: inf and parameters: {'exclude_insample_y': False, 'decoder_input_size_multiplier': 0.5, 'hidden_size': 76, 'n_head': 5, 'factor': 1, 'conv_hidden_size': 64, 'encoder_layers': 5, 'decoder_layers': 3, 'max_steps': 1000, 'val_check_steps': 500, 'batch_size': 16, 'scaler_type': 'standard'}. Best is trial 0 with value: inf.\n",
      "Seed set to 1\n",
      "[I 2025-01-02 22:15:02,435] Trial 99 finished with value: inf and parameters: {'exclude_insample_y': True, 'decoder_input_size_multiplier': 0.4, 'hidden_size': 152, 'n_head': 2, 'factor': 5, 'conv_hidden_size': 16, 'encoder_layers': 2, 'decoder_layers': 4, 'max_steps': 500, 'val_check_steps': 50, 'batch_size': 128, 'scaler_type': 'robust'}. Best is trial 0 with value: inf.\n"
     ]
    },
    {
     "name": "stdout",
     "output_type": "stream",
     "text": [
      "Failed trial: Check decoder_input_size_multiplier=0.7, range (0,1). Skipped this trial.\n",
      "Failed trial: Check decoder_input_size_multiplier=0.5, range (0,1). Skipped this trial.\n",
      "Failed trial: Check decoder_input_size_multiplier=0.4, range (0,1). Skipped this trial.\n",
      "Accuracy: inf\n",
      "best params for LSTM_336_24: {'exclude_insample_y': True, 'decoder_input_size_multiplier': 0.7, 'hidden_size': 228, 'n_head': 6, 'factor': 2, 'conv_hidden_size': 64, 'encoder_layers': 5, 'decoder_layers': 2, 'max_steps': 200, 'val_check_steps': 250, 'batch_size': 16, 'scaler_type': 'robust'}\n"
     ]
    }
   ],
   "source": [
    "date_start = '2023-11-01'\n",
    "date_end = '2024-11-01'\n",
    "window_train_size = 336 #hours\n",
    "forecast_horizon = 24 #hours\n",
    "# 336_24, 1440_336, 17520_8760\n",
    "trials = 100\n",
    "model_name = f'LSTM_{window_train_size}_{forecast_horizon}'\n",
    "\n",
    "combined_data = loaddataset()\n",
    "neuralforecast_data = prepare_neuralforecast_data(combined_data)\n",
    "data = sample_data_with_train_window(neuralforecast_data, date_start, date_end, window_train_size)\n",
    "data_train, data_test = get_next_window(data, window_train_size, forecast_horizon)\n",
    "\n",
    "def safe_objective(trial):\n",
    "  try:\n",
    "    return objective_Informer(trial, data_train, data_test, forecast_horizon)\n",
    "  except Exception as e:\n",
    "    print(f\"Failed trial: {e}. Skipped this trial.\")\n",
    "    return float('inf')\n",
    "  \n",
    "warnings.filterwarnings(\"ignore\")\n",
    "study1 = optuna.create_study(direction='minimize')\n",
    "study1.optimize(safe_objective, n_trials=trials)\n",
    "\n",
    "trial=study1.best_trial\n",
    "print(f\"Accuracy: {trial.value}\")\n",
    "print(f\"best params for {model_name}: {trial.params}\")\n",
    "warnings.filterwarnings(\"default\")\n",
    "\n",
    "# Save the results in CSV\n",
    "if trial.value != float('inf'):\n",
    "  try:\n",
    "    df_tuning = pd.read_csv('../Results/blackbox_tuning.csv')\n",
    "  except:\n",
    "    df_tuning = pd.DataFrame(columns=['model', 'accuracy', 'params'])\n",
    "\n",
    "  new_row = {'model': model_name, 'accuracy': trial.value, 'params': str(trial.params)}\n",
    "  new_row_df = pd.DataFrame([new_row]).dropna(axis=1, how='all')\n",
    "  df_tuning = pd.concat([df_tuning, new_row_df], ignore_index=True)\n",
    "  df_tuning = df_tuning.sort_values(by=['model', 'accuracy', 'params'], ascending=True).reset_index(drop=True)\n",
    "  df_tuning.to_csv('../Results/blackbox_tuning.csv', index=False)"
   ]
  }
 ],
 "metadata": {
  "kernelspec": {
   "display_name": "Python 3",
   "language": "python",
   "name": "python3"
  },
  "language_info": {
   "codemirror_mode": {
    "name": "ipython",
    "version": 3
   },
   "file_extension": ".py",
   "mimetype": "text/x-python",
   "name": "python",
   "nbconvert_exporter": "python",
   "pygments_lexer": "ipython3",
   "version": "3.12.0"
  }
 },
 "nbformat": 4,
 "nbformat_minor": 2
}
