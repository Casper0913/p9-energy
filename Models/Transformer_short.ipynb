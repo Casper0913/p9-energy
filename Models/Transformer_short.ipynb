{
 "cells": [
  {
   "cell_type": "markdown",
   "metadata": {},
   "source": [
    "# Transformer (Short forecasting)\n",
    "#### Rolling window - 2 week in, 1 day out"
   ]
  },
  {
   "cell_type": "markdown",
   "metadata": {},
   "source": [
    "### Need to run in Google CoLab"
   ]
  },
  {
   "cell_type": "code",
   "execution_count": null,
   "metadata": {},
   "outputs": [],
   "source": [
    "#!pip install torch torchvision torchaudio pandas numpy scikit-learn\n",
    "\n",
    "from google.colab import drive# type: ignore\n",
    "from google.colab import files # type: ignore\n",
    "\n",
    "# Upload files to Google Colab\n",
    "uploaded = files.upload()\n",
    "\n",
    "# Mount Google Drive\n",
    "drive.mount('/content/drive')"
   ]
  },
  {
   "cell_type": "markdown",
   "metadata": {},
   "source": [
    "## Importing data"
   ]
  },
  {
   "cell_type": "code",
   "execution_count": 1,
   "metadata": {},
   "outputs": [
    {
     "name": "stdout",
     "output_type": "stream",
     "text": [
      "            HourUTC              HourDK  MunicipalityNo Branche  \\\n",
      "0  2021-01-01 00:00 2021-01-01 01:00:00             851  Privat   \n",
      "1  2021-01-01 01:00 2021-01-01 02:00:00             851  Privat   \n",
      "2  2021-01-01 02:00 2021-01-01 03:00:00             851  Privat   \n",
      "3  2021-01-01 03:00 2021-01-01 04:00:00             851  Privat   \n",
      "4  2021-01-01 04:00 2021-01-01 05:00:00             851  Privat   \n",
      "\n",
      "   ConsumptionkWh  \n",
      "0       35086.772  \n",
      "1       31777.762  \n",
      "2       28423.659  \n",
      "3       25675.926  \n",
      "4       24283.909  \n",
      "\n",
      "\n",
      "                HourUTC              HourDK  MunicipalityNo Branche  \\\n",
      "33834  2024-11-10 18:00 2024-11-10 19:00:00             851  Privat   \n",
      "33835  2024-11-10 19:00 2024-11-10 20:00:00             851  Privat   \n",
      "33836  2024-11-10 20:00 2024-11-10 21:00:00             851  Privat   \n",
      "33837  2024-11-10 21:00 2024-11-10 22:00:00             851  Privat   \n",
      "33838  2024-11-10 22:00 2024-11-10 23:00:00             851  Privat   \n",
      "\n",
      "       ConsumptionkWh  \n",
      "33834       48584.696  \n",
      "33835       44105.371  \n",
      "33836       41492.172  \n",
      "33837       37148.073  \n",
      "33838       33307.696  \n",
      "\n",
      "\n",
      "<class 'pandas.core.frame.DataFrame'>\n",
      "RangeIndex: 33839 entries, 0 to 33838\n",
      "Data columns (total 5 columns):\n",
      " #   Column          Non-Null Count  Dtype         \n",
      "---  ------          --------------  -----         \n",
      " 0   HourUTC         33839 non-null  object        \n",
      " 1   HourDK          33839 non-null  datetime64[ns]\n",
      " 2   MunicipalityNo  33839 non-null  int64         \n",
      " 3   Branche         33839 non-null  object        \n",
      " 4   ConsumptionkWh  33839 non-null  float64       \n",
      "dtypes: datetime64[ns](1), float64(1), int64(1), object(2)\n",
      "memory usage: 1.3+ MB\n",
      "None\n",
      "\n",
      "\n"
     ]
    }
   ],
   "source": [
    "import pandas as pd\n",
    "\n",
    "# Correct the file path to the actual location of the CSV file\n",
    "df = pd.read_csv('/Users/casper/Documents/GitHub/p9-energy/Dataset/ConsumptionIndustry.csv', sep=';')\n",
    "\n",
    "# Load the dataset for colab\n",
    "#df = pd.read_csv('ConsumptionIndustry.csv', sep=';')\n",
    "\n",
    "\n",
    "# Convert HourDK to datetime\n",
    "df['HourDK'] = pd.to_datetime(df['HourDK'])\n",
    "\n",
    "# Convert ConsumptionkWh to numeric\n",
    "df['ConsumptionkWh'] = df['ConsumptionkWh'].str.replace(\",\", \".\").astype(float)\n",
    "\n",
    "\n",
    "print(df.head())\n",
    "print('\\n')\n",
    "print(df.tail())\n",
    "print('\\n')\n",
    "print(df.info())\n",
    "print('\\n')"
   ]
  }
 ],
 "metadata": {
  "kernelspec": {
   "display_name": "testing_env",
   "language": "python",
   "name": "python3"
  },
  "language_info": {
   "codemirror_mode": {
    "name": "ipython",
    "version": 3
   },
   "file_extension": ".py",
   "mimetype": "text/x-python",
   "name": "python",
   "nbconvert_exporter": "python",
   "pygments_lexer": "ipython3",
   "version": "3.9.20"
  }
 },
 "nbformat": 4,
 "nbformat_minor": 2
}
