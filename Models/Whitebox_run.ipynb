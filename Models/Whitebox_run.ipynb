{
 "cells": [
  {
   "cell_type": "code",
   "execution_count": null,
   "metadata": {},
   "outputs": [],
   "source": [
    "!pip install numpy pandas statsmodels matplotlib seaborn prophet sklearn "
   ]
  },
  {
   "cell_type": "code",
   "execution_count": 3,
   "metadata": {},
   "outputs": [
    {
     "name": "stderr",
     "output_type": "stream",
     "text": [
      "c:\\Users\\sebas\\AppData\\Local\\Programs\\Python\\Python312\\Lib\\site-packages\\tqdm\\auto.py:21: TqdmWarning: IProgress not found. Please update jupyter and ipywidgets. See https://ipywidgets.readthedocs.io/en/stable/user_install.html\n",
      "  from .autonotebook import tqdm as notebook_tqdm\n",
      "Importing plotly failed. Interactive plots will not work.\n"
     ]
    }
   ],
   "source": [
    "import numpy as np\n",
    "import pandas as pd\n",
    "import matplotlib.pyplot as plt\n",
    "import itertools\n",
    "\n",
    "import statsmodels.api as sm\n",
    "from statsmodels.tsa.stattools import adfuller\n",
    "from statsmodels.tsa.stattools import kpss\n",
    "from statsmodels.graphics.tsaplots import plot_acf, plot_pacf\n",
    "from statsmodels.tsa.seasonal import seasonal_decompose\n",
    "from statsmodels.tsa.holtwinters import SimpleExpSmoothing\n",
    "from statsmodels.tsa.holtwinters import Holt\n",
    "from statsmodels.tsa.holtwinters import ExponentialSmoothing\n",
    "from statsmodels.tsa.statespace.sarimax import SARIMAX\n",
    "from statsmodels.tsa.statespace.dynamic_factor_mq import DynamicFactorMQ\n",
    "from statsmodels.tsa.forecasting.stl import STLForecast\n",
    "from statsmodels.tsa.seasonal import STL\n",
    "from statsmodels.tsa.forecasting.theta import ThetaModel\n",
    "from datetime import datetime, timedelta\n",
    "\n",
    "from sklearn.metrics import mean_squared_error\n",
    "from sklearn.metrics import root_mean_squared_error\n",
    "from prophet import Prophet\n",
    "\n",
    "try:\n",
    "  from google.colab import files\n",
    "  uploaded = files.upload()\n",
    "  IN_COLAB = True\n",
    "except:\n",
    "  IN_COLAB = False\n",
    "\n",
    "import warnings\n",
    "warnings.filterwarnings('once')"
   ]
  },
  {
   "cell_type": "markdown",
   "metadata": {},
   "source": [
    "Initializing time series"
   ]
  },
  {
   "cell_type": "code",
   "execution_count": 4,
   "metadata": {},
   "outputs": [],
   "source": [
    "df = pd.read_csv('../Dataset/ConsumptionIndustry.csv' if not IN_COLAB else 'ConsumptionIndustry.csv', sep=';')\n",
    "df['HourDK'] = pd.to_datetime(df['HourDK'])\n",
    "df['ConsumptionkWh'] = df['ConsumptionkWh'].str.replace(\",\", \".\").astype(float)\n",
    "df.index = df['HourDK']\n",
    "\n",
    "# format data here\n",
    "df.drop(columns=['HourUTC', 'HourDK', 'MunicipalityNo', 'Branche'], inplace=True)"
   ]
  },
  {
   "cell_type": "markdown",
   "metadata": {},
   "source": [
    "Functions"
   ]
  },
  {
   "cell_type": "code",
   "execution_count": 9,
   "metadata": {},
   "outputs": [],
   "source": [
    "def sample_data(df, start_date, train_window_size):\n",
    "  start_date = datetime.strptime(start_date, '%Y-%m-%d') - timedelta(hours=train_window_size)\n",
    "  end_date = df.index[-1]\n",
    "  return df[(df.index >= start_date) & (df.index <= end_date)]\n",
    "\n",
    "def get_next_window(data, train_window_size, forecast_horizon):\n",
    "  return data[:train_window_size], data[train_window_size:train_window_size + forecast_horizon]\n",
    "\n",
    "def forecast_whitebox_model(model, forecast_horizon, model_name):\n",
    "  model_res = model.fit(disp=0)\n",
    "\n",
    "  if \"SARIMA\" in model_name:\n",
    "    return model_res.get_forecast(steps=forecast_horizon).predicted_mean\n",
    "  else:\n",
    "    return model_res.forecast(steps=forecast_horizon)\n"
   ]
  },
  {
   "cell_type": "markdown",
   "metadata": {},
   "source": [
    "White-box run"
   ]
  },
  {
   "cell_type": "code",
   "execution_count": 10,
   "metadata": {},
   "outputs": [],
   "source": [
    "model_name = 'Dynamic_model'\n",
    "date_start = '2023-11-01'\n",
    "window_train_size = 24*7*2 #hours\n",
    "forecast_horizon = 24 #hours\n",
    "\n",
    "data = sample_data(df, date_start, window_train_size) # start: date_start - window_train_size, end: last date in df\n",
    "results = np.array([])\n",
    "iterations = 0\n",
    "\n",
    "warnings.filterwarnings(\"ignore\")\n",
    "\n",
    "while len(data) > window_train_size + forecast_horizon:\n",
    "  data_train, data_test = get_next_window(data, window_train_size, forecast_horizon)\n",
    "  model = DynamicFactorMQ(endog=data_train)\n",
    "  predictions = forecast_whitebox_model(model, forecast_horizon, model_name)\n",
    "  \n",
    "  results = np.append(results, predictions.values)\n",
    "  iterations += 1\n",
    "  data = data.iloc[forecast_horizon:] # move window by forecast_horizon\n",
    "\n",
    "warnings.filterwarnings(\"default\")\n",
    "\n",
    "result_table = pd.DataFrame(results)\n",
    "result_table.index = pd.date_range(start=date_start, periods=forecast_horizon*iterations, freq='H')\n",
    "result_table.to_csv(f'../Results/{window_train_size}_{forecast_horizon}_{model_name}.csv', header=False)"
   ]
  },
  {
   "cell_type": "markdown",
   "metadata": {},
   "source": [
    "Models and predictions"
   ]
  },
  {
   "cell_type": "code",
   "execution_count": 5,
   "metadata": {},
   "outputs": [],
   "source": [
    "# model = SARIMAX(endog = data_train, order = (1, 1, 4), seasonal_order = (1, 1, 1, 12))\n",
    "# model_res = model.fit(disp=0)\n",
    "\n",
    "# predictions_statsmodels = model_res.get_forecast(steps=len(data_test)).predicted_mean\n",
    "# predictions_statsmodels.name = 'predictions_statsmodels(1,1,1)'\n",
    "# # display(predictions_statsmodels.head(4))"
   ]
  },
  {
   "cell_type": "code",
   "execution_count": 6,
   "metadata": {},
   "outputs": [],
   "source": [
    "# model = SARIMAX(endog = data_train, order = (1, 1, 4), seasonal_order = (1, 1, 1, 12))\n",
    "# model_res = model.fit(disp=0)\n",
    "\n",
    "# predictions_statsmodels2 = model_res.get_forecast(steps=len(data_test)).predicted_mean\n",
    "# predictions_statsmodels2.name = 'predictions_statsmodels(1,1,4)'"
   ]
  },
  {
   "cell_type": "code",
   "execution_count": 7,
   "metadata": {},
   "outputs": [],
   "source": [
    "# stlf = STLForecast(data_train, SARIMAX, model_kwargs=dict(order=(1, 1, 1), seasonal_order = (1, 1, 1, 12)), period=24)\n",
    "# model_res = stlf.fit()\n",
    "# predictions_stlf = model_res.forecast(len(data_test))"
   ]
  },
  {
   "cell_type": "code",
   "execution_count": 8,
   "metadata": {},
   "outputs": [],
   "source": [
    "# model = ThetaModel(data_train, period=24, method=\"additive\")\n",
    "# model_res = model.fit()\n",
    "# predictions_theta = model_res.forecast(len(data_test))\n",
    "# predictions_theta.index = data_test.index\n",
    "\n",
    "# model2 = ThetaModel(data_train, period=24, method=\"multiplicative\")\n",
    "# model2_res = model2.fit()\n",
    "# predictions_theta2 = model2_res.forecast(len(data_test))\n",
    "# predictions_theta2.index = data_test.index"
   ]
  },
  {
   "cell_type": "code",
   "execution_count": 9,
   "metadata": {},
   "outputs": [],
   "source": [
    "# model = DynamicFactorMQ(endog=data_train)\n",
    "# model_res = model.fit()\n",
    "# predictions_dynamicFactorMQ = model_res.forecast(len(data_test))"
   ]
  },
  {
   "cell_type": "markdown",
   "metadata": {},
   "source": [
    "Plot of forecasts"
   ]
  },
  {
   "cell_type": "code",
   "execution_count": 10,
   "metadata": {},
   "outputs": [],
   "source": [
    "# predictions_statsmodels.index = data_test.index\n",
    "# predictions_statsmodels2.index = data_test.index\n",
    "# predictions_stlf.index = data_test.index\n",
    "# predictions_theta.index = data_test.index\n",
    "# predictions_theta2.index = data_test.index\n",
    "# predictions_dynamicFactorMQ.index = data_test.index"
   ]
  },
  {
   "cell_type": "code",
   "execution_count": 11,
   "metadata": {},
   "outputs": [],
   "source": [
    "# fig, ax = plt.subplots(figsize=(8, 3))\n",
    "# data_train.plot(ax=ax, label='train')\n",
    "# data_test.plot(ax=ax, label='test')\n",
    "# predictions_statsmodels.plot(ax=ax, label='arima_statsmodels(1,1,6)x(1,1,1)_12')\n",
    "# # predictions_statsmodels2.plot(ax=ax, label='arima_statsmodels(1,1,4)x(1,1,1)_12')\n",
    "# # predictions_dynamicFactorMQ.plot(ax=ax, label='dynamicFactorMQ')\n",
    "# # predictions_stlf.plot(ax=ax, label='stlf')\n",
    "# # predictions_theta.plot(ax=ax, label='theta')\n",
    "# # predictions_theta2.plot(ax=ax, label='theta2')\n",
    "# ax.set_title('Predictions')\n",
    "# ax.legend()"
   ]
  },
  {
   "cell_type": "markdown",
   "metadata": {},
   "source": [
    "Evaluate algorithm performance"
   ]
  },
  {
   "cell_type": "code",
   "execution_count": 13,
   "metadata": {},
   "outputs": [],
   "source": [
    "# def evaluate(prediction, name):\n",
    "#     print(f\"-- {name} --\")\n",
    "#     print(f\"mse: {mean_squared_error(data_test, prediction)}\") #penalizes larger errors more\n",
    "#     print(f\"rmse: {mean_squared_error(data_test, prediction, squared=False)}\")\n",
    "\n",
    "# evaluate(predictions_statsmodels, \"statsmodels(1,1,6)x(1,1,1)_12\")\n",
    "# evaluate(predictions_statsmodels2, \"statsmodels(1,1,4)x(1,1,1)_12\")\n",
    "# evaluate(predictions_stlf, \"stlf\")\n",
    "# evaluate(predictions_theta, \"theta\")\n",
    "# evaluate(predictions_theta2, \"theta2\")\n",
    "# evaluate(predictions_dynamicFactorMQ, \"dynamicFactorMQ\")"
   ]
  }
 ],
 "metadata": {
  "kernelspec": {
   "display_name": "Python 3",
   "language": "python",
   "name": "python3"
  },
  "language_info": {
   "codemirror_mode": {
    "name": "ipython",
    "version": 3
   },
   "file_extension": ".py",
   "mimetype": "text/x-python",
   "name": "python",
   "nbconvert_exporter": "python",
   "pygments_lexer": "ipython3",
   "version": "3.12.0"
  }
 },
 "nbformat": 4,
 "nbformat_minor": 2
}
