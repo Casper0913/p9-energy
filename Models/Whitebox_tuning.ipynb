{
 "cells": [
  {
   "cell_type": "code",
   "execution_count": 1,
   "metadata": {},
   "outputs": [
    {
     "name": "stderr",
     "output_type": "stream",
     "text": [
      "c:\\Users\\sebas\\AppData\\Local\\Programs\\Python\\Python312\\Lib\\site-packages\\tqdm\\auto.py:21: TqdmWarning: IProgress not found. Please update jupyter and ipywidgets. See https://ipywidgets.readthedocs.io/en/stable/user_install.html\n",
      "  from .autonotebook import tqdm as notebook_tqdm\n",
      "Importing plotly failed. Interactive plots will not work.\n"
     ]
    }
   ],
   "source": [
    "import numpy as np\n",
    "import pandas as pd\n",
    "import matplotlib.pyplot as plt\n",
    "import itertools\n",
    "import optuna\n",
    "\n",
    "from statsmodels.tsa.statespace.sarimax import SARIMAX\n",
    "from statsmodels.tsa.statespace.dynamic_factor_mq import DynamicFactorMQ\n",
    "from statsmodels.tsa.forecasting.theta import ThetaModel\n",
    "from datetime import datetime, timedelta\n",
    "\n",
    "from sklearn.metrics import root_mean_squared_error\n",
    "from sklearn.preprocessing import MinMaxScaler\n",
    "\n",
    "import warnings\n",
    "warnings.filterwarnings('once')"
   ]
  },
  {
   "cell_type": "markdown",
   "metadata": {},
   "source": [
    "Initialize time series"
   ]
  },
  {
   "cell_type": "code",
   "execution_count": 2,
   "metadata": {},
   "outputs": [],
   "source": [
    "# Consumption data\n",
    "df = pd.read_csv('../Dataset/ConsumptionIndustry.csv', sep=';')\n",
    "df['HourDK'] = pd.to_datetime(df['HourDK'])\n",
    "df['ConsumptionkWh'] = df['ConsumptionkWh'].str.replace(\",\", \".\").astype(float)\n",
    "df.index = df['HourDK']\n",
    "df.drop(columns=['HourUTC', 'HourDK', 'MunicipalityNo', 'Branche'], inplace=True)"
   ]
  },
  {
   "cell_type": "code",
   "execution_count": 3,
   "metadata": {},
   "outputs": [],
   "source": [
    "# El-spot prices\n",
    "df2 = pd.read_csv('../Dataset/ELSpotPrices.csv', sep=';')\n",
    "df2['HourDK'] = pd.to_datetime(df2['HourDK'])\n",
    "df2['SpotPriceDKK'] = df2['SpotPriceDKK'].str.replace(\",\", \".\").astype(float)\n",
    "df2.index = df2['HourDK']\n",
    "df2 = df2.iloc[1:] # remove first row, since the measurement at that time is not present in other dataset\n",
    "df2.drop(columns=['HourUTC', 'HourDK', 'PriceArea', 'SpotPriceEUR'], inplace=True)"
   ]
  },
  {
   "cell_type": "markdown",
   "metadata": {},
   "source": [
    "Functions"
   ]
  },
  {
   "cell_type": "code",
   "execution_count": 5,
   "metadata": {},
   "outputs": [],
   "source": [
    "def sample_data_with_train_window(df, start_date, train_window_size):\n",
    "  start_date = datetime.strptime(start_date, '%Y-%m-%d') - timedelta(hours=train_window_size)\n",
    "  end_date = df.index[-1]\n",
    "  return df[(df.index >= start_date) & (df.index <= end_date)]\n",
    "\n",
    "def get_next_window(data, train_window_size, forecast_horizon):\n",
    "  return data[:train_window_size], data[train_window_size:train_window_size + forecast_horizon]\n",
    "\n",
    "def forecast_whitebox_model(model, forecast_horizon, model_name, exog_data_test=None):\n",
    "  model_res = model.fit()\n",
    "\n",
    "  if \"SARIMA\" in model_name and \"STL\" not in model_name:\n",
    "    return model_res.get_forecast(steps=forecast_horizon, exog=exog_data_test).predicted_mean\n",
    "  else:\n",
    "    return model_res.forecast(steps=forecast_horizon)"
   ]
  },
  {
   "cell_type": "markdown",
   "metadata": {},
   "source": [
    "Objective functions"
   ]
  },
  {
   "cell_type": "code",
   "execution_count": 16,
   "metadata": {},
   "outputs": [],
   "source": [
    "def objective_SARIMAX(trial, data_train, data_test, forecast_horizon, exog_data_train, exog_data_test, scaler):\n",
    "  data_train_scaled = scaler.fit_transform(data_train[['ConsumptionkWh']])\n",
    "  data_train = pd.DataFrame(data_train_scaled, columns=['ConsumptionkWh'], index=data_train.index)\n",
    "  p = d = q = range(0, 3)\n",
    "  pdq = list(itertools.product(p, d, q))\n",
    "  pdqs = [(x[0], x[1], x[2], 12) for x in list(itertools.product(p, d, q))]\n",
    "  order = trial.suggest_categorical('order', pdq)\n",
    "  seasonal_order = trial.suggest_categorical('seasonal_order', pdqs)\n",
    "  model = SARIMAX(data_train, order=order, seasonal_order=seasonal_order, exog=exog_data_train)\n",
    "  mdl = model.fit(disp=0)\n",
    "  predictions_scaled = mdl.forecast(steps=forecast_horizon, exog=exog_data_test)\n",
    "  predictions = scaler.inverse_transform(predictions_scaled.values.reshape(-1, 1))\n",
    "  predictions = pd.Series(predictions.flatten(), index=data_test.index)\n",
    "  return root_mean_squared_error(data_test, predictions)\n",
    "\n",
    "def objective_SARIMA(trial, data_train, data_test, forecast_horizon, scaler):\n",
    "  data_train_scaled = scaler.fit_transform(data_train[['ConsumptionkWh']])\n",
    "  data_train = pd.DataFrame(data_train_scaled, columns=['ConsumptionkWh'], index=data_train.index)\n",
    "  p = d = q = range(0, 3)\n",
    "  pdq = list(itertools.product(p, d, q))\n",
    "  pdqs = [(x[0], x[1], x[2], 12) for x in list(itertools.product(p, d, q))]\n",
    "  order = trial.suggest_categorical('order', pdq)\n",
    "  seasonal_order = trial.suggest_categorical('seasonal_order', pdqs)\n",
    "  model = SARIMAX(data_train, order=order, seasonal_order=seasonal_order)\n",
    "  mdl = model.fit(disp=0)\n",
    "  predictions_scaled = mdl.forecast(steps=forecast_horizon)\n",
    "  predictions = scaler.inverse_transform(predictions_scaled.values.reshape(-1, 1))\n",
    "  predictions = pd.Series(predictions.flatten(), index=data_test.index)\n",
    "  return root_mean_squared_error(data_test, predictions)\n"
   ]
  },
  {
   "cell_type": "markdown",
   "metadata": {},
   "source": [
    "Optimizing through whole dataset"
   ]
  },
  {
   "cell_type": "code",
   "execution_count": 17,
   "metadata": {},
   "outputs": [
    {
     "name": "stderr",
     "output_type": "stream",
     "text": [
      "[I 2024-12-26 16:31:30,832] A new study created in memory with name: no-name-3e22c28e-18ec-4c66-b218-78d8eab5b406\n",
      "[I 2024-12-26 16:31:30,859] Trial 0 finished with value: inf and parameters: {}. Best is trial 0 with value: inf.\n",
      "[I 2024-12-26 16:31:30,862] Trial 1 finished with value: inf and parameters: {}. Best is trial 0 with value: inf.\n",
      "[I 2024-12-26 16:31:30,864] Trial 2 finished with value: inf and parameters: {}. Best is trial 0 with value: inf.\n",
      "[I 2024-12-26 16:31:30,868] Trial 3 finished with value: inf and parameters: {}. Best is trial 0 with value: inf.\n",
      "[I 2024-12-26 16:31:30,870] Trial 4 finished with value: inf and parameters: {}. Best is trial 0 with value: inf.\n",
      "[I 2024-12-26 16:31:30,873] Trial 5 finished with value: inf and parameters: {}. Best is trial 0 with value: inf.\n",
      "[I 2024-12-26 16:31:30,876] Trial 6 finished with value: inf and parameters: {}. Best is trial 0 with value: inf.\n",
      "[I 2024-12-26 16:31:30,879] Trial 7 finished with value: inf and parameters: {}. Best is trial 0 with value: inf.\n"
     ]
    },
    {
     "name": "stderr",
     "output_type": "stream",
     "text": [
      "[I 2024-12-26 16:31:30,881] Trial 8 finished with value: inf and parameters: {}. Best is trial 0 with value: inf.\n"
     ]
    },
    {
     "name": "stdout",
     "output_type": "stream",
     "text": [
      "Failed trial: \"None of [Index(['ConsumptionkWh'], dtype='object')] are in the [columns]\". Skipped this trial.\n",
      "Failed trial: \"None of [Index(['ConsumptionkWh'], dtype='object')] are in the [columns]\". Skipped this trial.\n",
      "Failed trial: \"None of [Index(['ConsumptionkWh'], dtype='object')] are in the [columns]\". Skipped this trial.\n",
      "Failed trial: \"None of [Index(['ConsumptionkWh'], dtype='object')] are in the [columns]\". Skipped this trial.\n",
      "Failed trial: \"None of [Index(['ConsumptionkWh'], dtype='object')] are in the [columns]\". Skipped this trial.\n",
      "Failed trial: \"None of [Index(['ConsumptionkWh'], dtype='object')] are in the [columns]\". Skipped this trial.\n",
      "Failed trial: \"None of [Index(['ConsumptionkWh'], dtype='object')] are in the [columns]\". Skipped this trial.\n",
      "Failed trial: \"None of [Index(['ConsumptionkWh'], dtype='object')] are in the [columns]\". Skipped this trial.\n",
      "Failed trial: \"None of [Index(['ConsumptionkWh'], dtype='object')] are in the [columns]\". Skipped this trial.\n"
     ]
    },
    {
     "name": "stderr",
     "output_type": "stream",
     "text": [
      "[I 2024-12-26 16:31:30,884] Trial 9 finished with value: inf and parameters: {}. Best is trial 0 with value: inf.\n",
      "[I 2024-12-26 16:31:30,887] Trial 10 finished with value: inf and parameters: {}. Best is trial 0 with value: inf.\n",
      "[I 2024-12-26 16:31:30,889] Trial 11 finished with value: inf and parameters: {}. Best is trial 0 with value: inf.\n",
      "[I 2024-12-26 16:31:30,892] Trial 12 finished with value: inf and parameters: {}. Best is trial 0 with value: inf.\n",
      "[I 2024-12-26 16:31:30,895] Trial 13 finished with value: inf and parameters: {}. Best is trial 0 with value: inf.\n",
      "[I 2024-12-26 16:31:30,899] Trial 14 finished with value: inf and parameters: {}. Best is trial 0 with value: inf.\n",
      "[I 2024-12-26 16:31:30,902] Trial 15 finished with value: inf and parameters: {}. Best is trial 0 with value: inf.\n",
      "[I 2024-12-26 16:31:30,905] Trial 16 finished with value: inf and parameters: {}. Best is trial 0 with value: inf.\n",
      "[I 2024-12-26 16:31:30,910] Trial 17 finished with value: inf and parameters: {}. Best is trial 0 with value: inf.\n",
      "[I 2024-12-26 16:31:30,913] Trial 18 finished with value: inf and parameters: {}. Best is trial 0 with value: inf.\n",
      "[I 2024-12-26 16:31:30,917] Trial 19 finished with value: inf and parameters: {}. Best is trial 0 with value: inf.\n",
      "[I 2024-12-26 16:31:30,922] Trial 20 finished with value: inf and parameters: {}. Best is trial 0 with value: inf.\n",
      "[I 2024-12-26 16:31:30,925] Trial 21 finished with value: inf and parameters: {}. Best is trial 0 with value: inf.\n",
      "[I 2024-12-26 16:31:30,930] Trial 22 finished with value: inf and parameters: {}. Best is trial 0 with value: inf.\n",
      "[I 2024-12-26 16:31:30,935] Trial 23 finished with value: inf and parameters: {}. Best is trial 0 with value: inf.\n",
      "[I 2024-12-26 16:31:30,939] Trial 24 finished with value: inf and parameters: {}. Best is trial 0 with value: inf.\n",
      "[I 2024-12-26 16:31:30,942] Trial 25 finished with value: inf and parameters: {}. Best is trial 0 with value: inf.\n",
      "[I 2024-12-26 16:31:30,944] Trial 26 finished with value: inf and parameters: {}. Best is trial 0 with value: inf.\n",
      "[I 2024-12-26 16:31:30,949] Trial 27 finished with value: inf and parameters: {}. Best is trial 0 with value: inf.\n",
      "[I 2024-12-26 16:31:30,952] Trial 28 finished with value: inf and parameters: {}. Best is trial 0 with value: inf.\n",
      "[I 2024-12-26 16:31:30,956] Trial 29 finished with value: inf and parameters: {}. Best is trial 0 with value: inf.\n",
      "[I 2024-12-26 16:31:30,959] Trial 30 finished with value: inf and parameters: {}. Best is trial 0 with value: inf.\n",
      "[I 2024-12-26 16:31:30,962] Trial 31 finished with value: inf and parameters: {}. Best is trial 0 with value: inf.\n",
      "[I 2024-12-26 16:31:30,965] Trial 32 finished with value: inf and parameters: {}. Best is trial 0 with value: inf.\n",
      "[I 2024-12-26 16:31:30,967] Trial 33 finished with value: inf and parameters: {}. Best is trial 0 with value: inf.\n",
      "[I 2024-12-26 16:31:30,969] Trial 34 finished with value: inf and parameters: {}. Best is trial 0 with value: inf.\n",
      "[I 2024-12-26 16:31:30,972] Trial 35 finished with value: inf and parameters: {}. Best is trial 0 with value: inf.\n",
      "[I 2024-12-26 16:31:30,975] Trial 36 finished with value: inf and parameters: {}. Best is trial 0 with value: inf.\n",
      "[I 2024-12-26 16:31:30,978] Trial 37 finished with value: inf and parameters: {}. Best is trial 0 with value: inf.\n",
      "[I 2024-12-26 16:31:30,981] Trial 38 finished with value: inf and parameters: {}. Best is trial 0 with value: inf.\n",
      "[I 2024-12-26 16:31:30,983] Trial 39 finished with value: inf and parameters: {}. Best is trial 0 with value: inf.\n",
      "[I 2024-12-26 16:31:30,986] Trial 40 finished with value: inf and parameters: {}. Best is trial 0 with value: inf.\n",
      "[I 2024-12-26 16:31:30,988] Trial 41 finished with value: inf and parameters: {}. Best is trial 0 with value: inf.\n",
      "[I 2024-12-26 16:31:30,990] Trial 42 finished with value: inf and parameters: {}. Best is trial 0 with value: inf.\n",
      "[I 2024-12-26 16:31:30,992] Trial 43 finished with value: inf and parameters: {}. Best is trial 0 with value: inf.\n",
      "[I 2024-12-26 16:31:30,995] Trial 44 finished with value: inf and parameters: {}. Best is trial 0 with value: inf.\n",
      "[I 2024-12-26 16:31:30,998] Trial 45 finished with value: inf and parameters: {}. Best is trial 0 with value: inf.\n",
      "[I 2024-12-26 16:31:31,001] Trial 46 finished with value: inf and parameters: {}. Best is trial 0 with value: inf.\n",
      "[I 2024-12-26 16:31:31,005] Trial 47 finished with value: inf and parameters: {}. Best is trial 0 with value: inf.\n",
      "[I 2024-12-26 16:31:31,006] Trial 48 finished with value: inf and parameters: {}. Best is trial 0 with value: inf.\n",
      "[I 2024-12-26 16:31:31,010] Trial 49 finished with value: inf and parameters: {}. Best is trial 0 with value: inf.\n",
      "[I 2024-12-26 16:31:31,012] Trial 50 finished with value: inf and parameters: {}. Best is trial 0 with value: inf.\n",
      "[I 2024-12-26 16:31:31,014] Trial 51 finished with value: inf and parameters: {}. Best is trial 0 with value: inf.\n",
      "[I 2024-12-26 16:31:31,017] Trial 52 finished with value: inf and parameters: {}. Best is trial 0 with value: inf.\n",
      "[I 2024-12-26 16:31:31,019] Trial 53 finished with value: inf and parameters: {}. Best is trial 0 with value: inf.\n",
      "[I 2024-12-26 16:31:31,021] Trial 54 finished with value: inf and parameters: {}. Best is trial 0 with value: inf.\n",
      "[I 2024-12-26 16:31:31,025] Trial 55 finished with value: inf and parameters: {}. Best is trial 0 with value: inf.\n",
      "[I 2024-12-26 16:31:31,028] Trial 56 finished with value: inf and parameters: {}. Best is trial 0 with value: inf.\n",
      "[I 2024-12-26 16:31:31,030] Trial 57 finished with value: inf and parameters: {}. Best is trial 0 with value: inf.\n",
      "[I 2024-12-26 16:31:31,035] Trial 58 finished with value: inf and parameters: {}. Best is trial 0 with value: inf.\n",
      "[I 2024-12-26 16:31:31,037] Trial 59 finished with value: inf and parameters: {}. Best is trial 0 with value: inf.\n"
     ]
    },
    {
     "name": "stdout",
     "output_type": "stream",
     "text": [
      "Failed trial: \"None of [Index(['ConsumptionkWh'], dtype='object')] are in the [columns]\". Skipped this trial.\n",
      "Failed trial: \"None of [Index(['ConsumptionkWh'], dtype='object')] are in the [columns]\". Skipped this trial.\n",
      "Failed trial: \"None of [Index(['ConsumptionkWh'], dtype='object')] are in the [columns]\". Skipped this trial.\n",
      "Failed trial: \"None of [Index(['ConsumptionkWh'], dtype='object')] are in the [columns]\". Skipped this trial.\n",
      "Failed trial: \"None of [Index(['ConsumptionkWh'], dtype='object')] are in the [columns]\". Skipped this trial.\n",
      "Failed trial: \"None of [Index(['ConsumptionkWh'], dtype='object')] are in the [columns]\". Skipped this trial.\n",
      "Failed trial: \"None of [Index(['ConsumptionkWh'], dtype='object')] are in the [columns]\". Skipped this trial.\n",
      "Failed trial: \"None of [Index(['ConsumptionkWh'], dtype='object')] are in the [columns]\". Skipped this trial.\n",
      "Failed trial: \"None of [Index(['ConsumptionkWh'], dtype='object')] are in the [columns]\". Skipped this trial.\n",
      "Failed trial: \"None of [Index(['ConsumptionkWh'], dtype='object')] are in the [columns]\". Skipped this trial.\n",
      "Failed trial: \"None of [Index(['ConsumptionkWh'], dtype='object')] are in the [columns]\". Skipped this trial.\n",
      "Failed trial: \"None of [Index(['ConsumptionkWh'], dtype='object')] are in the [columns]\". Skipped this trial.\n",
      "Failed trial: \"None of [Index(['ConsumptionkWh'], dtype='object')] are in the [columns]\". Skipped this trial.\n",
      "Failed trial: \"None of [Index(['ConsumptionkWh'], dtype='object')] are in the [columns]\". Skipped this trial.\n",
      "Failed trial: \"None of [Index(['ConsumptionkWh'], dtype='object')] are in the [columns]\". Skipped this trial.\n",
      "Failed trial: \"None of [Index(['ConsumptionkWh'], dtype='object')] are in the [columns]\". Skipped this trial.\n",
      "Failed trial: \"None of [Index(['ConsumptionkWh'], dtype='object')] are in the [columns]\". Skipped this trial.\n",
      "Failed trial: \"None of [Index(['ConsumptionkWh'], dtype='object')] are in the [columns]\". Skipped this trial.\n",
      "Failed trial: \"None of [Index(['ConsumptionkWh'], dtype='object')] are in the [columns]\". Skipped this trial.\n",
      "Failed trial: \"None of [Index(['ConsumptionkWh'], dtype='object')] are in the [columns]\". Skipped this trial.\n",
      "Failed trial: \"None of [Index(['ConsumptionkWh'], dtype='object')] are in the [columns]\". Skipped this trial.\n",
      "Failed trial: \"None of [Index(['ConsumptionkWh'], dtype='object')] are in the [columns]\". Skipped this trial.\n",
      "Failed trial: \"None of [Index(['ConsumptionkWh'], dtype='object')] are in the [columns]\". Skipped this trial.\n",
      "Failed trial: \"None of [Index(['ConsumptionkWh'], dtype='object')] are in the [columns]\". Skipped this trial.\n",
      "Failed trial: \"None of [Index(['ConsumptionkWh'], dtype='object')] are in the [columns]\". Skipped this trial.\n",
      "Failed trial: \"None of [Index(['ConsumptionkWh'], dtype='object')] are in the [columns]\". Skipped this trial.\n",
      "Failed trial: \"None of [Index(['ConsumptionkWh'], dtype='object')] are in the [columns]\". Skipped this trial.\n",
      "Failed trial: \"None of [Index(['ConsumptionkWh'], dtype='object')] are in the [columns]\". Skipped this trial.\n",
      "Failed trial: \"None of [Index(['ConsumptionkWh'], dtype='object')] are in the [columns]\". Skipped this trial.\n",
      "Failed trial: \"None of [Index(['ConsumptionkWh'], dtype='object')] are in the [columns]\". Skipped this trial.\n",
      "Failed trial: \"None of [Index(['ConsumptionkWh'], dtype='object')] are in the [columns]\". Skipped this trial.\n",
      "Failed trial: \"None of [Index(['ConsumptionkWh'], dtype='object')] are in the [columns]\". Skipped this trial.\n",
      "Failed trial: \"None of [Index(['ConsumptionkWh'], dtype='object')] are in the [columns]\". Skipped this trial.\n",
      "Failed trial: \"None of [Index(['ConsumptionkWh'], dtype='object')] are in the [columns]\". Skipped this trial.\n",
      "Failed trial: \"None of [Index(['ConsumptionkWh'], dtype='object')] are in the [columns]\". Skipped this trial.\n",
      "Failed trial: \"None of [Index(['ConsumptionkWh'], dtype='object')] are in the [columns]\". Skipped this trial.\n",
      "Failed trial: \"None of [Index(['ConsumptionkWh'], dtype='object')] are in the [columns]\". Skipped this trial.\n",
      "Failed trial: \"None of [Index(['ConsumptionkWh'], dtype='object')] are in the [columns]\". Skipped this trial.\n",
      "Failed trial: \"None of [Index(['ConsumptionkWh'], dtype='object')] are in the [columns]\". Skipped this trial.\n",
      "Failed trial: \"None of [Index(['ConsumptionkWh'], dtype='object')] are in the [columns]\". Skipped this trial.\n",
      "Failed trial: \"None of [Index(['ConsumptionkWh'], dtype='object')] are in the [columns]\". Skipped this trial.\n",
      "Failed trial: \"None of [Index(['ConsumptionkWh'], dtype='object')] are in the [columns]\". Skipped this trial.\n",
      "Failed trial: \"None of [Index(['ConsumptionkWh'], dtype='object')] are in the [columns]\". Skipped this trial.\n",
      "Failed trial: \"None of [Index(['ConsumptionkWh'], dtype='object')] are in the [columns]\". Skipped this trial.\n",
      "Failed trial: \"None of [Index(['ConsumptionkWh'], dtype='object')] are in the [columns]\". Skipped this trial.\n",
      "Failed trial: \"None of [Index(['ConsumptionkWh'], dtype='object')] are in the [columns]\". Skipped this trial.\n",
      "Failed trial: \"None of [Index(['ConsumptionkWh'], dtype='object')] are in the [columns]\". Skipped this trial.\n",
      "Failed trial: \"None of [Index(['ConsumptionkWh'], dtype='object')] are in the [columns]\". Skipped this trial.\n",
      "Failed trial: \"None of [Index(['ConsumptionkWh'], dtype='object')] are in the [columns]\". Skipped this trial.\n",
      "Failed trial: \"None of [Index(['ConsumptionkWh'], dtype='object')] are in the [columns]\". Skipped this trial.\n",
      "Failed trial: \"None of [Index(['ConsumptionkWh'], dtype='object')] are in the [columns]\". Skipped this trial.\n"
     ]
    },
    {
     "name": "stderr",
     "output_type": "stream",
     "text": [
      "[I 2024-12-26 16:31:31,039] Trial 60 finished with value: inf and parameters: {}. Best is trial 0 with value: inf.\n",
      "[I 2024-12-26 16:31:31,042] Trial 61 finished with value: inf and parameters: {}. Best is trial 0 with value: inf.\n",
      "[I 2024-12-26 16:31:31,044] Trial 62 finished with value: inf and parameters: {}. Best is trial 0 with value: inf.\n",
      "[I 2024-12-26 16:31:31,047] Trial 63 finished with value: inf and parameters: {}. Best is trial 0 with value: inf.\n",
      "[I 2024-12-26 16:31:31,050] Trial 64 finished with value: inf and parameters: {}. Best is trial 0 with value: inf.\n",
      "[I 2024-12-26 16:31:31,052] Trial 65 finished with value: inf and parameters: {}. Best is trial 0 with value: inf.\n",
      "[I 2024-12-26 16:31:31,055] Trial 66 finished with value: inf and parameters: {}. Best is trial 0 with value: inf.\n",
      "[I 2024-12-26 16:31:31,057] Trial 67 finished with value: inf and parameters: {}. Best is trial 0 with value: inf.\n",
      "[I 2024-12-26 16:31:31,061] Trial 68 finished with value: inf and parameters: {}. Best is trial 0 with value: inf.\n",
      "[I 2024-12-26 16:31:31,064] Trial 69 finished with value: inf and parameters: {}. Best is trial 0 with value: inf.\n",
      "[I 2024-12-26 16:31:31,066] Trial 70 finished with value: inf and parameters: {}. Best is trial 0 with value: inf.\n",
      "[I 2024-12-26 16:31:31,069] Trial 71 finished with value: inf and parameters: {}. Best is trial 0 with value: inf.\n"
     ]
    },
    {
     "name": "stdout",
     "output_type": "stream",
     "text": [
      "Failed trial: \"None of [Index(['ConsumptionkWh'], dtype='object')] are in the [columns]\". Skipped this trial.\n",
      "Failed trial: \"None of [Index(['ConsumptionkWh'], dtype='object')] are in the [columns]\". Skipped this trial.\n",
      "Failed trial: \"None of [Index(['ConsumptionkWh'], dtype='object')] are in the [columns]\". Skipped this trial.\n",
      "Failed trial: \"None of [Index(['ConsumptionkWh'], dtype='object')] are in the [columns]\". Skipped this trial.\n",
      "Failed trial: \"None of [Index(['ConsumptionkWh'], dtype='object')] are in the [columns]\". Skipped this trial.\n",
      "Failed trial: \"None of [Index(['ConsumptionkWh'], dtype='object')] are in the [columns]\". Skipped this trial.\n",
      "Failed trial: \"None of [Index(['ConsumptionkWh'], dtype='object')] are in the [columns]\". Skipped this trial.\n",
      "Failed trial: \"None of [Index(['ConsumptionkWh'], dtype='object')] are in the [columns]\". Skipped this trial.\n",
      "Failed trial: \"None of [Index(['ConsumptionkWh'], dtype='object')] are in the [columns]\". Skipped this trial.\n",
      "Failed trial: \"None of [Index(['ConsumptionkWh'], dtype='object')] are in the [columns]\". Skipped this trial.\n",
      "Failed trial: \"None of [Index(['ConsumptionkWh'], dtype='object')] are in the [columns]\". Skipped this trial.\n",
      "Failed trial: \"None of [Index(['ConsumptionkWh'], dtype='object')] are in the [columns]\". Skipped this trial.\n"
     ]
    },
    {
     "name": "stderr",
     "output_type": "stream",
     "text": [
      "[I 2024-12-26 16:31:31,072] Trial 72 finished with value: inf and parameters: {}. Best is trial 0 with value: inf.\n",
      "[I 2024-12-26 16:31:31,074] Trial 73 finished with value: inf and parameters: {}. Best is trial 0 with value: inf.\n",
      "[I 2024-12-26 16:31:31,077] Trial 74 finished with value: inf and parameters: {}. Best is trial 0 with value: inf.\n",
      "[I 2024-12-26 16:31:31,079] Trial 75 finished with value: inf and parameters: {}. Best is trial 0 with value: inf.\n",
      "[I 2024-12-26 16:31:31,082] Trial 76 finished with value: inf and parameters: {}. Best is trial 0 with value: inf.\n",
      "[I 2024-12-26 16:31:31,085] Trial 77 finished with value: inf and parameters: {}. Best is trial 0 with value: inf.\n",
      "[I 2024-12-26 16:31:31,087] Trial 78 finished with value: inf and parameters: {}. Best is trial 0 with value: inf.\n",
      "[I 2024-12-26 16:31:31,094] Trial 79 finished with value: inf and parameters: {}. Best is trial 0 with value: inf.\n",
      "[I 2024-12-26 16:31:31,098] Trial 80 finished with value: inf and parameters: {}. Best is trial 0 with value: inf.\n",
      "[I 2024-12-26 16:31:31,103] Trial 81 finished with value: inf and parameters: {}. Best is trial 0 with value: inf.\n",
      "[I 2024-12-26 16:31:31,106] Trial 82 finished with value: inf and parameters: {}. Best is trial 0 with value: inf.\n",
      "[I 2024-12-26 16:31:31,110] Trial 83 finished with value: inf and parameters: {}. Best is trial 0 with value: inf.\n",
      "[I 2024-12-26 16:31:31,113] Trial 84 finished with value: inf and parameters: {}. Best is trial 0 with value: inf.\n",
      "[I 2024-12-26 16:31:31,115] Trial 85 finished with value: inf and parameters: {}. Best is trial 0 with value: inf.\n",
      "[I 2024-12-26 16:31:31,120] Trial 86 finished with value: inf and parameters: {}. Best is trial 0 with value: inf.\n",
      "[I 2024-12-26 16:31:31,123] Trial 87 finished with value: inf and parameters: {}. Best is trial 0 with value: inf.\n",
      "[I 2024-12-26 16:31:31,127] Trial 88 finished with value: inf and parameters: {}. Best is trial 0 with value: inf.\n",
      "[I 2024-12-26 16:31:31,129] Trial 89 finished with value: inf and parameters: {}. Best is trial 0 with value: inf.\n",
      "[I 2024-12-26 16:31:31,132] Trial 90 finished with value: inf and parameters: {}. Best is trial 0 with value: inf.\n",
      "[I 2024-12-26 16:31:31,135] Trial 91 finished with value: inf and parameters: {}. Best is trial 0 with value: inf.\n",
      "[I 2024-12-26 16:31:31,138] Trial 92 finished with value: inf and parameters: {}. Best is trial 0 with value: inf.\n",
      "[I 2024-12-26 16:31:31,140] Trial 93 finished with value: inf and parameters: {}. Best is trial 0 with value: inf.\n",
      "[I 2024-12-26 16:31:31,144] Trial 94 finished with value: inf and parameters: {}. Best is trial 0 with value: inf.\n",
      "[I 2024-12-26 16:31:31,147] Trial 95 finished with value: inf and parameters: {}. Best is trial 0 with value: inf.\n",
      "[I 2024-12-26 16:31:31,149] Trial 96 finished with value: inf and parameters: {}. Best is trial 0 with value: inf.\n",
      "[I 2024-12-26 16:31:31,152] Trial 97 finished with value: inf and parameters: {}. Best is trial 0 with value: inf.\n",
      "[I 2024-12-26 16:31:31,154] Trial 98 finished with value: inf and parameters: {}. Best is trial 0 with value: inf.\n",
      "[I 2024-12-26 16:31:31,158] Trial 99 finished with value: inf and parameters: {}. Best is trial 0 with value: inf.\n"
     ]
    },
    {
     "name": "stdout",
     "output_type": "stream",
     "text": [
      "Failed trial: \"None of [Index(['ConsumptionkWh'], dtype='object')] are in the [columns]\". Skipped this trial.\n",
      "Failed trial: \"None of [Index(['ConsumptionkWh'], dtype='object')] are in the [columns]\". Skipped this trial.\n",
      "Failed trial: \"None of [Index(['ConsumptionkWh'], dtype='object')] are in the [columns]\". Skipped this trial.\n",
      "Failed trial: \"None of [Index(['ConsumptionkWh'], dtype='object')] are in the [columns]\". Skipped this trial.\n",
      "Failed trial: \"None of [Index(['ConsumptionkWh'], dtype='object')] are in the [columns]\". Skipped this trial.\n",
      "Failed trial: \"None of [Index(['ConsumptionkWh'], dtype='object')] are in the [columns]\". Skipped this trial.\n",
      "Failed trial: \"None of [Index(['ConsumptionkWh'], dtype='object')] are in the [columns]\". Skipped this trial.\n",
      "Failed trial: \"None of [Index(['ConsumptionkWh'], dtype='object')] are in the [columns]\". Skipped this trial.\n",
      "Failed trial: \"None of [Index(['ConsumptionkWh'], dtype='object')] are in the [columns]\". Skipped this trial.\n",
      "Failed trial: \"None of [Index(['ConsumptionkWh'], dtype='object')] are in the [columns]\". Skipped this trial.\n",
      "Failed trial: \"None of [Index(['ConsumptionkWh'], dtype='object')] are in the [columns]\". Skipped this trial.\n",
      "Failed trial: \"None of [Index(['ConsumptionkWh'], dtype='object')] are in the [columns]\". Skipped this trial.\n",
      "Failed trial: \"None of [Index(['ConsumptionkWh'], dtype='object')] are in the [columns]\". Skipped this trial.\n",
      "Failed trial: \"None of [Index(['ConsumptionkWh'], dtype='object')] are in the [columns]\". Skipped this trial.\n",
      "Failed trial: \"None of [Index(['ConsumptionkWh'], dtype='object')] are in the [columns]\". Skipped this trial.\n",
      "Failed trial: \"None of [Index(['ConsumptionkWh'], dtype='object')] are in the [columns]\". Skipped this trial.\n",
      "Failed trial: \"None of [Index(['ConsumptionkWh'], dtype='object')] are in the [columns]\". Skipped this trial.\n",
      "Failed trial: \"None of [Index(['ConsumptionkWh'], dtype='object')] are in the [columns]\". Skipped this trial.\n",
      "Failed trial: \"None of [Index(['ConsumptionkWh'], dtype='object')] are in the [columns]\". Skipped this trial.\n",
      "Failed trial: \"None of [Index(['ConsumptionkWh'], dtype='object')] are in the [columns]\". Skipped this trial.\n",
      "Failed trial: \"None of [Index(['ConsumptionkWh'], dtype='object')] are in the [columns]\". Skipped this trial.\n",
      "Failed trial: \"None of [Index(['ConsumptionkWh'], dtype='object')] are in the [columns]\". Skipped this trial.\n",
      "Failed trial: \"None of [Index(['ConsumptionkWh'], dtype='object')] are in the [columns]\". Skipped this trial.\n",
      "Failed trial: \"None of [Index(['ConsumptionkWh'], dtype='object')] are in the [columns]\". Skipped this trial.\n",
      "Failed trial: \"None of [Index(['ConsumptionkWh'], dtype='object')] are in the [columns]\". Skipped this trial.\n",
      "Failed trial: \"None of [Index(['ConsumptionkWh'], dtype='object')] are in the [columns]\". Skipped this trial.\n",
      "Failed trial: \"None of [Index(['ConsumptionkWh'], dtype='object')] are in the [columns]\". Skipped this trial.\n",
      "Failed trial: \"None of [Index(['ConsumptionkWh'], dtype='object')] are in the [columns]\". Skipped this trial.\n",
      "Accuracy: inf\n",
      "best params for SARIMAX_1440_336_minmax: {}\n"
     ]
    }
   ],
   "source": [
    "date_start = '2023-11-01'\n",
    "window_train_size = 1440 #hours\n",
    "forecast_horizon = 336 #hours\n",
    "# 336_24, 1440_336, 17520_8760\n",
    "trials = 100\n",
    "model_name = f'SARIMAX_{window_train_size}_{forecast_horizon}'\n",
    "scaler = MinMaxScaler()\n",
    "\n",
    "data = sample_data_with_train_window(df, date_start, window_train_size)\n",
    "exog_data = sample_data_with_train_window(df2, date_start, window_train_size)\n",
    "\n",
    "data_train, data_test = get_next_window(data, window_train_size, forecast_horizon)\n",
    "exog_data_train, exog_data_test = get_next_window(exog_data, window_train_size, forecast_horizon)\n",
    "\n",
    "def safe_objective(trial):\n",
    "  try:\n",
    "    return objective_SARIMAX(trial, data_train, data_test, forecast_horizon, exog_data_train, exog_data_test, scaler)\n",
    "  except Exception as e:\n",
    "    print(f\"Failed trial: {e}. Skipped this trial.\")\n",
    "    return float('inf')\n",
    "\n",
    "warnings.filterwarnings(\"ignore\")\n",
    "study1 = optuna.create_study(direction='minimize')\n",
    "study1.optimize(safe_objective, n_trials=trials)\n",
    "\n",
    "trial=study1.best_trial\n",
    "print(f\"Accuracy: {trial.value}\")\n",
    "print(f\"best params for {model_name}: {trial.params}\")\n",
    "\n",
    "warnings.filterwarnings(\"default\")\n",
    "\n",
    "# Save the results in CSV\n",
    "try:\n",
    "  df_tuning = pd.read_csv('../Results/Whitebox/whitebox_tuning.csv')\n",
    "except:\n",
    "  df_tuning = pd.DataFrame(columns=['model', 'accuracy', 'params'])\n",
    "\n",
    "new_row = {'model': model_name, 'accuracy': trial.value, 'params': str(trial.params)}\n",
    "df_tuning = pd.concat([df_tuning, pd.DataFrame([new_row])], ignore_index=True)\n",
    "df_tuning = df_tuning.sort_values(by=['model', 'accuracy', 'params'], ascending=True).reset_index(drop=True)\n",
    "df_tuning.to_csv('../Results/Whitebox/whitebox_tuning.csv', index=False)"
   ]
  }
 ],
 "metadata": {
  "kernelspec": {
   "display_name": "Python 3",
   "language": "python",
   "name": "python3"
  },
  "language_info": {
   "codemirror_mode": {
    "name": "ipython",
    "version": 3
   },
   "file_extension": ".py",
   "mimetype": "text/x-python",
   "name": "python",
   "nbconvert_exporter": "python",
   "pygments_lexer": "ipython3",
   "version": "3.12.0"
  }
 },
 "nbformat": 4,
 "nbformat_minor": 2
}
