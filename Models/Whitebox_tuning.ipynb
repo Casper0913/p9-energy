{
 "cells": [
  {
   "cell_type": "code",
   "execution_count": 1,
   "metadata": {},
   "outputs": [],
   "source": [
    "import numpy as np\n",
    "import pandas as pd\n",
    "import matplotlib.pyplot as plt\n",
    "import itertools\n",
    "import optuna\n",
    "\n",
    "from statsmodels.tsa.statespace.sarimax import SARIMAX\n",
    "from statsmodels.tsa.forecasting.theta import ThetaModel\n",
    "from statsmodels.tsa.holtwinters import ExponentialSmoothing\n",
    "from statsmodels.regression.linear_model import OLS\n",
    "\n",
    "from datetime import datetime, timedelta\n",
    "\n",
    "from sklearn.metrics import root_mean_squared_error\n",
    "from sklearn.preprocessing import MinMaxScaler\n",
    "\n",
    "import warnings\n",
    "warnings.filterwarnings('once')"
   ]
  },
  {
   "cell_type": "markdown",
   "metadata": {},
   "source": [
    "Initialize time series"
   ]
  },
  {
   "cell_type": "code",
   "execution_count": 2,
   "metadata": {},
   "outputs": [
    {
     "name": "stdout",
     "output_type": "stream",
     "text": [
      "                     ConsumptionkWh\n",
      "HourDK                             \n",
      "2021-01-01 00:00:00       37842.849\n",
      "2021-01-01 01:00:00       35086.772\n",
      "2021-01-01 02:00:00       31777.762\n",
      "2021-01-01 03:00:00       28423.659\n",
      "2021-01-01 04:00:00       25675.926\n",
      "...                             ...\n",
      "2024-12-01 19:00:00       52799.179\n",
      "2024-12-01 20:00:00       48321.570\n",
      "2024-12-01 21:00:00       44818.234\n",
      "2024-12-01 22:00:00       40716.144\n",
      "2024-12-01 23:00:00       36954.822\n",
      "\n",
      "[34344 rows x 1 columns]\n"
     ]
    }
   ],
   "source": [
    "# Consumption data\n",
    "df = pd.read_csv('../Dataset/ConsumptionIndustry.csv', sep=';')\n",
    "df['HourDK'] = pd.to_datetime(df['HourDK'])\n",
    "df['ConsumptionkWh'] = df['ConsumptionkWh'].str.replace(\",\", \".\").astype(float)\n",
    "df.index = df['HourDK']\n",
    "df.drop(columns=['HourUTC', 'HourDK', 'MunicipalityNo', 'Branche'], inplace=True)\n",
    "print(df)"
   ]
  },
  {
   "cell_type": "code",
   "execution_count": 3,
   "metadata": {},
   "outputs": [
    {
     "name": "stdout",
     "output_type": "stream",
     "text": [
      "                     SpotPriceDKK\n",
      "HourDK                           \n",
      "2021-01-01 01:00:00    358.579987\n",
      "2021-01-01 02:00:00    332.459991\n",
      "2021-01-01 03:00:00    319.369995\n",
      "2021-01-01 04:00:00    300.540009\n",
      "2021-01-01 05:00:00    299.130005\n",
      "...                           ...\n",
      "2024-12-01 19:00:00    622.979980\n",
      "2024-12-01 20:00:00    501.920013\n",
      "2024-12-01 21:00:00    438.660004\n",
      "2024-12-01 22:00:00    374.140015\n",
      "2024-12-01 23:00:00    338.559998\n",
      "\n",
      "[34343 rows x 1 columns]\n"
     ]
    }
   ],
   "source": [
    "# El-spot prices\n",
    "df2 = pd.read_csv('../Dataset/ELSpotPrices.csv', sep=';')\n",
    "df2['HourDK'] = pd.to_datetime(df2['HourDK'])\n",
    "df2['SpotPriceDKK'] = df2['SpotPriceDKK'].str.replace(\",\", \".\").astype(float)\n",
    "df2.index = df2['HourDK']\n",
    "df2 = df2.iloc[1:] # remove first row, since the measurement at that time is not present in other dataset\n",
    "df2.drop(columns=['HourUTC', 'HourDK', 'PriceArea', 'SpotPriceEUR'], inplace=True)\n",
    "print(df2)"
   ]
  },
  {
   "cell_type": "markdown",
   "metadata": {},
   "source": [
    "Functions"
   ]
  },
  {
   "cell_type": "code",
   "execution_count": 11,
   "metadata": {},
   "outputs": [],
   "source": [
    "def sample_data_with_train_window(df, start_date, end_date, train_window_size):\n",
    "  start_date = datetime.strptime(start_date, '%Y-%m-%d') - timedelta(hours=train_window_size) + timedelta(hours=24)\n",
    "  end_date = datetime.strptime(end_date, '%Y-%m-%d') + timedelta(hours=24)\n",
    "  return df[(df.index >= start_date) & (df.index <= end_date)]\n",
    "\n",
    "def get_next_window(data, train_window_size, forecast_horizon):\n",
    "  return data[:train_window_size], data[train_window_size:train_window_size + forecast_horizon]"
   ]
  },
  {
   "cell_type": "markdown",
   "metadata": {},
   "source": [
    "Objective functions"
   ]
  },
  {
   "cell_type": "code",
   "execution_count": 12,
   "metadata": {},
   "outputs": [],
   "source": [
    "def objective_SARIMAX(trial, data_train, data_test, forecast_horizon, exog_data_train, exog_data_test, scaler):\n",
    "  data_train_scaled = scaler.fit_transform(data_train[['ConsumptionkWh']])\n",
    "  data_train = pd.DataFrame(data_train_scaled, columns=['ConsumptionkWh'], index=data_train.index)\n",
    "  p = d = q = range(0, 3)\n",
    "  pdq = list(itertools.product(p, d, q))\n",
    "  pdqs = [(x[0], x[1], x[2], 12) for x in list(itertools.product(p, d, q))]\n",
    "  order = trial.suggest_categorical('order', pdq)\n",
    "  seasonal_order = trial.suggest_categorical('seasonal_order', pdqs)\n",
    "  model = SARIMAX(data_train, order=order, seasonal_order=seasonal_order, exog=exog_data_train)\n",
    "  mdl = model.fit(disp=0)\n",
    "  predictions_scaled = mdl.forecast(steps=forecast_horizon, exog=exog_data_test)\n",
    "  predictions = scaler.inverse_transform(predictions_scaled.values.reshape(-1, 1))\n",
    "  predictions = pd.Series(predictions.flatten(), index=data_test.index)\n",
    "  return root_mean_squared_error(data_test, predictions)\n",
    "\n",
    "def objective_SARIMA(trial, data_train, data_test, forecast_horizon, scaler):\n",
    "  data_train_scaled = scaler.fit_transform(data_train[['ConsumptionkWh']])\n",
    "  data_train = pd.DataFrame(data_train_scaled, columns=['ConsumptionkWh'], index=data_train.index)\n",
    "  p = d = q = range(0, 3)\n",
    "  pdq = list(itertools.product(p, d, q))\n",
    "  pdqs = [(x[0], x[1], x[2], 12) for x in list(itertools.product(p, d, q))]\n",
    "  order = trial.suggest_categorical('order', pdq)\n",
    "  seasonal_order = trial.suggest_categorical('seasonal_order', pdqs)\n",
    "  model = SARIMAX(data_train, order=order, seasonal_order=seasonal_order)\n",
    "  mdl = model.fit(disp=0)\n",
    "  predictions_scaled = mdl.forecast(steps=forecast_horizon)\n",
    "  predictions = scaler.inverse_transform(predictions_scaled.values.reshape(-1, 1))\n",
    "  predictions = pd.Series(predictions.flatten(), index=data_test.index)\n",
    "  return root_mean_squared_error(data_test, predictions)"
   ]
  },
  {
   "cell_type": "markdown",
   "metadata": {},
   "source": [
    "Optimizing through first time series window"
   ]
  },
  {
   "cell_type": "code",
   "execution_count": 13,
   "metadata": {},
   "outputs": [
    {
     "name": "stderr",
     "output_type": "stream",
     "text": [
      "[I 2025-01-08 12:50:13,130] A new study created in memory with name: no-name-a6f3c6d4-b336-413c-bec9-640970133b71\n",
      "[I 2025-01-08 12:50:24,226] Trial 0 finished with value: 517168.38781283156 and parameters: {'order': (1, 2, 0), 'seasonal_order': (0, 2, 2, 12)}. Best is trial 0 with value: 517168.38781283156.\n",
      "[I 2025-01-08 12:50:31,624] Trial 1 finished with value: 26779.070814572045 and parameters: {'order': (0, 2, 0), 'seasonal_order': (2, 1, 1, 12)}. Best is trial 1 with value: 26779.070814572045.\n",
      "[I 2025-01-08 12:50:35,674] Trial 2 finished with value: 8738.124172877233 and parameters: {'order': (2, 1, 1), 'seasonal_order': (1, 0, 2, 12)}. Best is trial 2 with value: 8738.124172877233.\n",
      "[I 2025-01-08 12:50:43,160] Trial 3 finished with value: 12709.389662271855 and parameters: {'order': (0, 1, 0), 'seasonal_order': (2, 2, 1, 12)}. Best is trial 2 with value: 8738.124172877233.\n",
      "[I 2025-01-08 12:50:48,339] Trial 4 finished with value: 386557.10181466764 and parameters: {'order': (0, 1, 0), 'seasonal_order': (0, 2, 2, 12)}. Best is trial 2 with value: 8738.124172877233.\n",
      "[I 2025-01-08 12:50:48,780] Trial 5 finished with value: 9836.256135665686 and parameters: {'order': (0, 2, 2), 'seasonal_order': (0, 0, 0, 12)}. Best is trial 2 with value: 8738.124172877233.\n",
      "[I 2025-01-08 12:50:53,673] Trial 6 finished with value: 21441.38944099002 and parameters: {'order': (2, 2, 1), 'seasonal_order': (2, 1, 0, 12)}. Best is trial 2 with value: 8738.124172877233.\n",
      "[I 2025-01-08 12:50:59,852] Trial 7 finished with value: 11981.6998710189 and parameters: {'order': (1, 2, 2), 'seasonal_order': (0, 1, 2, 12)}. Best is trial 2 with value: 8738.124172877233.\n",
      "[I 2025-01-08 12:51:03,079] Trial 8 finished with value: 5502.765664221557 and parameters: {'order': (0, 1, 0), 'seasonal_order': (2, 0, 2, 12)}. Best is trial 8 with value: 5502.765664221557.\n",
      "[I 2025-01-08 12:51:04,063] Trial 9 finished with value: 10238.849658468574 and parameters: {'order': (1, 0, 0), 'seasonal_order': (1, 0, 1, 12)}. Best is trial 8 with value: 5502.765664221557.\n",
      "[I 2025-01-08 12:51:06,910] Trial 10 finished with value: 87342.14703217814 and parameters: {'order': (2, 2, 0), 'seasonal_order': (2, 0, 2, 12)}. Best is trial 8 with value: 5502.765664221557.\n",
      "[I 2025-01-08 12:51:10,295] Trial 11 finished with value: 6319.215255756805 and parameters: {'order': (2, 1, 1), 'seasonal_order': (2, 0, 2, 12)}. Best is trial 8 with value: 5502.765664221557.\n",
      "[I 2025-01-08 12:51:13,537] Trial 12 finished with value: 4802.3017528437595 and parameters: {'order': (2, 0, 0), 'seasonal_order': (2, 0, 2, 12)}. Best is trial 12 with value: 4802.3017528437595.\n",
      "[I 2025-01-08 12:51:20,877] Trial 13 finished with value: 4725.467625766024 and parameters: {'order': (2, 0, 0), 'seasonal_order': (1, 2, 1, 12)}. Best is trial 13 with value: 4725.467625766024.\n",
      "[I 2025-01-08 12:51:28,565] Trial 14 finished with value: 16244.452919786234 and parameters: {'order': (1, 1, 2), 'seasonal_order': (1, 2, 1, 12)}. Best is trial 13 with value: 4725.467625766024.\n",
      "[I 2025-01-08 12:51:49,458] Trial 15 finished with value: 4231.289349359965 and parameters: {'order': (2, 0, 0), 'seasonal_order': (2, 2, 2, 12)}. Best is trial 15 with value: 4231.289349359965.\n",
      "[I 2025-01-08 12:52:10,333] Trial 16 finished with value: 4231.289349359965 and parameters: {'order': (2, 0, 0), 'seasonal_order': (2, 2, 2, 12)}. Best is trial 15 with value: 4231.289349359965.\n",
      "[I 2025-01-08 12:52:31,216] Trial 17 finished with value: 23908.144136131683 and parameters: {'order': (0, 1, 2), 'seasonal_order': (2, 2, 2, 12)}. Best is trial 15 with value: 4231.289349359965.\n",
      "[I 2025-01-08 12:52:49,504] Trial 18 finished with value: 5092.539598197794 and parameters: {'order': (2, 0, 1), 'seasonal_order': (1, 2, 2, 12)}. Best is trial 15 with value: 4231.289349359965.\n",
      "[I 2025-01-08 12:53:15,107] Trial 19 finished with value: 31709.51717138314 and parameters: {'order': (1, 2, 1), 'seasonal_order': (2, 2, 2, 12)}. Best is trial 15 with value: 4231.289349359965.\n",
      "[I 2025-01-08 12:53:16,371] Trial 20 finished with value: 39516.88491509143 and parameters: {'order': (2, 2, 2), 'seasonal_order': (0, 1, 0, 12)}. Best is trial 15 with value: 4231.289349359965.\n",
      "[I 2025-01-08 12:53:16,602] Trial 21 finished with value: 229046.57763419085 and parameters: {'order': (2, 0, 0), 'seasonal_order': (0, 2, 0, 12)}. Best is trial 15 with value: 4231.289349359965.\n",
      "[I 2025-01-08 12:53:17,487] Trial 22 finished with value: 5053.6169482959485 and parameters: {'order': (2, 0, 0), 'seasonal_order': (1, 1, 1, 12)}. Best is trial 15 with value: 4231.289349359965.\n",
      "[I 2025-01-08 12:53:43,206] Trial 23 finished with value: 5671.341728497321 and parameters: {'order': (2, 0, 2), 'seasonal_order': (2, 2, 2, 12)}. Best is trial 15 with value: 4231.289349359965.\n",
      "[I 2025-01-08 12:53:43,489] Trial 24 finished with value: 761998.0922735917 and parameters: {'order': (0, 2, 1), 'seasonal_order': (1, 0, 0, 12)}. Best is trial 15 with value: 4231.289349359965.\n",
      "[I 2025-01-08 12:53:43,890] Trial 25 finished with value: 10096.826372472806 and parameters: {'order': (0, 1, 1), 'seasonal_order': (0, 0, 1, 12)}. Best is trial 15 with value: 4231.289349359965.\n",
      "[I 2025-01-08 12:53:50,773] Trial 26 finished with value: 5340.139045642402 and parameters: {'order': (0, 0, 0), 'seasonal_order': (1, 2, 1, 12)}. Best is trial 15 with value: 4231.289349359965.\n",
      "[I 2025-01-08 12:53:52,340] Trial 27 finished with value: 5410.622187119394 and parameters: {'order': (2, 0, 0), 'seasonal_order': (1, 1, 0, 12)}. Best is trial 15 with value: 4231.289349359965.\n",
      "[I 2025-01-08 12:53:57,522] Trial 28 finished with value: 52150.36720095841 and parameters: {'order': (1, 1, 0), 'seasonal_order': (2, 2, 0, 12)}. Best is trial 15 with value: 4231.289349359965.\n",
      "[I 2025-01-08 12:54:00,724] Trial 29 finished with value: 9621.172620914895 and parameters: {'order': (2, 1, 2), 'seasonal_order': (0, 0, 2, 12)}. Best is trial 15 with value: 4231.289349359965.\n",
      "[I 2025-01-08 12:54:02,726] Trial 30 finished with value: 7958.313305037404 and parameters: {'order': (1, 0, 1), 'seasonal_order': (2, 0, 1, 12)}. Best is trial 15 with value: 4231.289349359965.\n",
      "[I 2025-01-08 12:54:04,977] Trial 31 finished with value: 9637.514805953624 and parameters: {'order': (2, 0, 0), 'seasonal_order': (0, 1, 1, 12)}. Best is trial 15 with value: 4231.289349359965.\n",
      "[I 2025-01-08 12:54:08,191] Trial 32 finished with value: 16493.53794796435 and parameters: {'order': (0, 0, 1), 'seasonal_order': (1, 2, 0, 12)}. Best is trial 15 with value: 4231.289349359965.\n",
      "[I 2025-01-08 12:54:09,656] Trial 33 finished with value: 6443.581903472777 and parameters: {'order': (0, 0, 2), 'seasonal_order': (2, 0, 0, 12)}. Best is trial 15 with value: 4231.289349359965.\n",
      "[I 2025-01-08 12:54:19,277] Trial 34 finished with value: 15857.810812332664 and parameters: {'order': (1, 0, 2), 'seasonal_order': (0, 2, 1, 12)}. Best is trial 15 with value: 4231.289349359965.\n",
      "[I 2025-01-08 12:54:23,696] Trial 35 finished with value: 6614.181968788093 and parameters: {'order': (2, 1, 0), 'seasonal_order': (1, 1, 2, 12)}. Best is trial 15 with value: 4231.289349359965.\n",
      "[I 2025-01-08 12:54:32,408] Trial 36 finished with value: 4415.873544731711 and parameters: {'order': (1, 1, 1), 'seasonal_order': (2, 1, 2, 12)}. Best is trial 15 with value: 4231.289349359965.\n",
      "[I 2025-01-08 12:54:54,065] Trial 37 finished with value: 26287.530790023236 and parameters: {'order': (1, 1, 1), 'seasonal_order': (2, 2, 2, 12)}. Best is trial 15 with value: 4231.289349359965.\n",
      "[I 2025-01-08 12:55:02,765] Trial 38 finished with value: 4415.873544731711 and parameters: {'order': (1, 1, 1), 'seasonal_order': (2, 1, 2, 12)}. Best is trial 15 with value: 4231.289349359965.\n",
      "[I 2025-01-08 12:55:08,615] Trial 39 finished with value: 6504.751765934627 and parameters: {'order': (1, 1, 1), 'seasonal_order': (2, 1, 1, 12)}. Best is trial 15 with value: 4231.289349359965.\n",
      "[I 2025-01-08 12:55:17,456] Trial 40 finished with value: 4415.873544731711 and parameters: {'order': (1, 1, 1), 'seasonal_order': (2, 1, 2, 12)}. Best is trial 15 with value: 4231.289349359965.\n",
      "[I 2025-01-08 12:55:26,277] Trial 41 finished with value: 4415.873544731711 and parameters: {'order': (1, 1, 1), 'seasonal_order': (2, 1, 2, 12)}. Best is trial 15 with value: 4231.289349359965.\n",
      "[I 2025-01-08 12:55:36,012] Trial 42 finished with value: 11148.914449774526 and parameters: {'order': (1, 2, 0), 'seasonal_order': (2, 1, 2, 12)}. Best is trial 15 with value: 4231.289349359965.\n",
      "[I 2025-01-08 12:55:44,934] Trial 43 finished with value: 4415.873544731711 and parameters: {'order': (1, 1, 1), 'seasonal_order': (2, 1, 2, 12)}. Best is trial 15 with value: 4231.289349359965.\n",
      "[I 2025-01-08 12:55:51,903] Trial 44 finished with value: 29352.899337780145 and parameters: {'order': (0, 2, 0), 'seasonal_order': (2, 1, 2, 12)}. Best is trial 15 with value: 4231.289349359965.\n",
      "[I 2025-01-08 12:56:09,118] Trial 45 finished with value: 16168.52277066562 and parameters: {'order': (0, 2, 2), 'seasonal_order': (2, 2, 1, 12)}. Best is trial 15 with value: 4231.289349359965.\n",
      "[I 2025-01-08 12:56:22,352] Trial 46 finished with value: 9317.604149120489 and parameters: {'order': (1, 1, 1), 'seasonal_order': (0, 2, 2, 12)}. Best is trial 15 with value: 4231.289349359965.\n",
      "[I 2025-01-08 12:56:22,966] Trial 47 finished with value: 10098.137786509933 and parameters: {'order': (1, 2, 2), 'seasonal_order': (0, 0, 0, 12)}. Best is trial 15 with value: 4231.289349359965.\n",
      "[I 2025-01-08 12:56:25,330] Trial 48 finished with value: 19118.81295143339 and parameters: {'order': (1, 0, 0), 'seasonal_order': (1, 0, 2, 12)}. Best is trial 15 with value: 4231.289349359965.\n",
      "[I 2025-01-08 12:56:30,048] Trial 49 finished with value: 9288.623923848876 and parameters: {'order': (1, 1, 1), 'seasonal_order': (0, 1, 2, 12)}. Best is trial 15 with value: 4231.289349359965.\n",
      "[I 2025-01-08 12:56:41,792] Trial 50 finished with value: 4625.218302439798 and parameters: {'order': (2, 2, 1), 'seasonal_order': (2, 1, 2, 12)}. Best is trial 15 with value: 4231.289349359965.\n",
      "[I 2025-01-08 12:56:50,398] Trial 51 finished with value: 4415.873544731711 and parameters: {'order': (1, 1, 1), 'seasonal_order': (2, 1, 2, 12)}. Best is trial 15 with value: 4231.289349359965.\n",
      "[I 2025-01-08 12:56:52,898] Trial 52 finished with value: 89256.4334811128 and parameters: {'order': (2, 2, 0), 'seasonal_order': (2, 1, 0, 12)}. Best is trial 15 with value: 4231.289349359965.\n",
      "[I 2025-01-08 12:57:01,585] Trial 53 finished with value: 4415.873544731711 and parameters: {'order': (1, 1, 1), 'seasonal_order': (2, 1, 2, 12)}. Best is trial 15 with value: 4231.289349359965.\n",
      "[I 2025-01-08 12:57:12,041] Trial 54 finished with value: 4308.254019375259 and parameters: {'order': (1, 1, 2), 'seasonal_order': (2, 1, 2, 12)}. Best is trial 15 with value: 4231.289349359965.\n",
      "[I 2025-01-08 12:57:13,421] Trial 55 finished with value: 5101.442525423249 and parameters: {'order': (1, 1, 2), 'seasonal_order': (1, 0, 1, 12)}. Best is trial 15 with value: 4231.289349359965.\n",
      "[I 2025-01-08 12:57:34,452] Trial 56 finished with value: 20079.71485244974 and parameters: {'order': (1, 1, 2), 'seasonal_order': (2, 2, 2, 12)}. Best is trial 15 with value: 4231.289349359965.\n",
      "[I 2025-01-08 12:57:53,042] Trial 57 finished with value: 17879.83184434314 and parameters: {'order': (0, 1, 2), 'seasonal_order': (1, 2, 2, 12)}. Best is trial 15 with value: 4231.289349359965.\n",
      "[I 2025-01-08 12:57:56,308] Trial 58 finished with value: 1383840.8757205522 and parameters: {'order': (2, 1, 1), 'seasonal_order': (0, 2, 0, 12)}. Best is trial 15 with value: 4231.289349359965.\n",
      "[I 2025-01-08 12:57:56,408] Trial 59 finished with value: 104016.71045900308 and parameters: {'order': (0, 1, 0), 'seasonal_order': (0, 1, 0, 12)}. Best is trial 15 with value: 4231.289349359965.\n",
      "[I 2025-01-08 12:58:02,456] Trial 60 finished with value: 4283.139588561165 and parameters: {'order': (2, 0, 1), 'seasonal_order': (2, 1, 2, 12)}. Best is trial 15 with value: 4231.289349359965.\n",
      "[I 2025-01-08 12:58:12,557] Trial 61 finished with value: 4628.80640612658 and parameters: {'order': (1, 2, 1), 'seasonal_order': (2, 1, 2, 12)}. Best is trial 15 with value: 4231.289349359965.\n",
      "[I 2025-01-08 12:58:21,745] Trial 62 finished with value: 4583.518204591535 and parameters: {'order': (0, 2, 1), 'seasonal_order': (2, 1, 2, 12)}. Best is trial 15 with value: 4231.289349359965.\n",
      "[I 2025-01-08 12:58:47,213] Trial 63 finished with value: 5671.341728497321 and parameters: {'order': (2, 0, 2), 'seasonal_order': (2, 2, 2, 12)}. Best is trial 15 with value: 4231.289349359965.\n",
      "[I 2025-01-08 12:58:48,980] Trial 64 finished with value: 6188.878067751904 and parameters: {'order': (2, 0, 1), 'seasonal_order': (1, 1, 0, 12)}. Best is trial 15 with value: 4231.289349359965.\n",
      "[I 2025-01-08 12:58:51,978] Trial 65 finished with value: 22973.219570445843 and parameters: {'order': (2, 2, 2), 'seasonal_order': (1, 1, 1, 12)}. Best is trial 15 with value: 4231.289349359965.\n",
      "[I 2025-01-08 12:58:52,850] Trial 66 finished with value: 20834.647697657612 and parameters: {'order': (2, 0, 1), 'seasonal_order': (1, 0, 0, 12)}. Best is trial 15 with value: 4231.289349359965.\n",
      "[I 2025-01-08 12:58:54,055] Trial 67 finished with value: 7181.796412485429 and parameters: {'order': (0, 1, 1), 'seasonal_order': (2, 0, 1, 12)}. Best is trial 15 with value: 4231.289349359965.\n",
      "[I 2025-01-08 12:58:58,961] Trial 68 finished with value: 19271.882291828795 and parameters: {'order': (2, 0, 0), 'seasonal_order': (2, 2, 0, 12)}. Best is trial 15 with value: 4231.289349359965.\n",
      "[I 2025-01-08 12:58:59,795] Trial 69 finished with value: 16285.358058568383 and parameters: {'order': (0, 0, 0), 'seasonal_order': (1, 2, 0, 12)}. Best is trial 15 with value: 4231.289349359965.\n",
      "[I 2025-01-08 12:59:02,939] Trial 70 finished with value: 9621.172620914895 and parameters: {'order': (2, 1, 2), 'seasonal_order': (0, 0, 2, 12)}. Best is trial 15 with value: 4231.289349359965.\n",
      "[I 2025-01-08 12:59:10,531] Trial 71 finished with value: 4101.370838076437 and parameters: {'order': (1, 0, 1), 'seasonal_order': (2, 1, 2, 12)}. Best is trial 71 with value: 4101.370838076437.\n",
      "[I 2025-01-08 12:59:18,050] Trial 72 finished with value: 4101.370838076437 and parameters: {'order': (1, 0, 1), 'seasonal_order': (2, 1, 2, 12)}. Best is trial 71 with value: 4101.370838076437.\n",
      "[I 2025-01-08 12:59:20,877] Trial 73 finished with value: 9933.334932544967 and parameters: {'order': (1, 0, 1), 'seasonal_order': (0, 1, 1, 12)}. Best is trial 71 with value: 4101.370838076437.\n",
      "[I 2025-01-08 12:59:26,745] Trial 74 finished with value: 14975.781688640254 and parameters: {'order': (1, 0, 1), 'seasonal_order': (0, 2, 1, 12)}. Best is trial 71 with value: 4101.370838076437.\n",
      "[I 2025-01-08 12:59:28,479] Trial 75 finished with value: 12075.501388828105 and parameters: {'order': (1, 0, 1), 'seasonal_order': (2, 0, 0, 12)}. Best is trial 71 with value: 4101.370838076437.\n",
      "[I 2025-01-08 12:59:28,783] Trial 76 finished with value: 10903.492849024084 and parameters: {'order': (1, 1, 0), 'seasonal_order': (0, 0, 1, 12)}. Best is trial 71 with value: 4101.370838076437.\n",
      "[I 2025-01-08 12:59:37,367] Trial 77 finished with value: 4093.8992251829745 and parameters: {'order': (1, 0, 2), 'seasonal_order': (2, 1, 2, 12)}. Best is trial 77 with value: 4093.8992251829745.\n",
      "[I 2025-01-08 12:59:54,620] Trial 78 finished with value: 4624.813151575553 and parameters: {'order': (0, 0, 1), 'seasonal_order': (2, 2, 2, 12)}. Best is trial 77 with value: 4093.8992251829745.\n",
      "[I 2025-01-08 13:00:02,556] Trial 79 finished with value: 6567.696830571939 and parameters: {'order': (2, 1, 0), 'seasonal_order': (2, 1, 1, 12)}. Best is trial 77 with value: 4093.8992251829745.\n",
      "[I 2025-01-08 13:00:11,165] Trial 80 finished with value: 4093.8992251829745 and parameters: {'order': (1, 0, 2), 'seasonal_order': (2, 1, 2, 12)}. Best is trial 77 with value: 4093.8992251829745.\n",
      "[I 2025-01-08 13:00:19,849] Trial 81 finished with value: 4093.8992251829745 and parameters: {'order': (1, 0, 2), 'seasonal_order': (2, 1, 2, 12)}. Best is trial 77 with value: 4093.8992251829745.\n",
      "[I 2025-01-08 13:00:25,856] Trial 82 finished with value: 4753.005089068687 and parameters: {'order': (1, 0, 2), 'seasonal_order': (1, 1, 2, 12)}. Best is trial 77 with value: 4093.8992251829745.\n",
      "[I 2025-01-08 13:00:34,473] Trial 83 finished with value: 4093.8992251829745 and parameters: {'order': (1, 0, 2), 'seasonal_order': (2, 1, 2, 12)}. Best is trial 77 with value: 4093.8992251829745.\n",
      "[I 2025-01-08 13:00:43,068] Trial 84 finished with value: 4093.8992251829745 and parameters: {'order': (1, 0, 2), 'seasonal_order': (2, 1, 2, 12)}. Best is trial 77 with value: 4093.8992251829745.\n",
      "[I 2025-01-08 13:00:46,909] Trial 85 finished with value: 4958.105103294824 and parameters: {'order': (1, 0, 2), 'seasonal_order': (2, 0, 2, 12)}. Best is trial 77 with value: 4093.8992251829745.\n",
      "[I 2025-01-08 13:00:55,419] Trial 86 finished with value: 4093.8992251829745 and parameters: {'order': (1, 0, 2), 'seasonal_order': (2, 1, 2, 12)}. Best is trial 77 with value: 4093.8992251829745.\n",
      "[I 2025-01-08 13:01:04,159] Trial 87 finished with value: 4093.8992251829745 and parameters: {'order': (1, 0, 2), 'seasonal_order': (2, 1, 2, 12)}. Best is trial 77 with value: 4093.8992251829745.\n",
      "[I 2025-01-08 13:01:12,659] Trial 88 finished with value: 4093.8992251829745 and parameters: {'order': (1, 0, 2), 'seasonal_order': (2, 1, 2, 12)}. Best is trial 77 with value: 4093.8992251829745.\n",
      "[I 2025-01-08 13:01:21,239] Trial 89 finished with value: 4093.8992251829745 and parameters: {'order': (1, 0, 2), 'seasonal_order': (2, 1, 2, 12)}. Best is trial 77 with value: 4093.8992251829745.\n",
      "[I 2025-01-08 13:01:29,943] Trial 90 finished with value: 4093.8992251829745 and parameters: {'order': (1, 0, 2), 'seasonal_order': (2, 1, 2, 12)}. Best is trial 77 with value: 4093.8992251829745.\n",
      "[I 2025-01-08 13:01:38,492] Trial 91 finished with value: 4093.8992251829745 and parameters: {'order': (1, 0, 2), 'seasonal_order': (2, 1, 2, 12)}. Best is trial 77 with value: 4093.8992251829745.\n",
      "[I 2025-01-08 13:01:47,078] Trial 92 finished with value: 4093.8992251829745 and parameters: {'order': (1, 0, 2), 'seasonal_order': (2, 1, 2, 12)}. Best is trial 77 with value: 4093.8992251829745.\n",
      "[I 2025-01-08 13:01:55,645] Trial 93 finished with value: 4093.8992251829745 and parameters: {'order': (1, 0, 2), 'seasonal_order': (2, 1, 2, 12)}. Best is trial 77 with value: 4093.8992251829745.\n",
      "[I 2025-01-08 13:02:09,909] Trial 94 finished with value: 4690.669316244328 and parameters: {'order': (1, 0, 2), 'seasonal_order': (2, 2, 1, 12)}. Best is trial 77 with value: 4093.8992251829745.\n",
      "[I 2025-01-08 13:02:18,447] Trial 95 finished with value: 4093.8992251829745 and parameters: {'order': (1, 0, 2), 'seasonal_order': (2, 1, 2, 12)}. Best is trial 77 with value: 4093.8992251829745.\n",
      "[I 2025-01-08 13:02:18,747] Trial 96 finished with value: 20966.88623767294 and parameters: {'order': (1, 0, 2), 'seasonal_order': (0, 0, 0, 12)}. Best is trial 77 with value: 4093.8992251829745.\n",
      "[I 2025-01-08 13:02:34,910] Trial 97 finished with value: 11783.057834717727 and parameters: {'order': (1, 0, 2), 'seasonal_order': (0, 2, 2, 12)}. Best is trial 77 with value: 4093.8992251829745.\n",
      "[I 2025-01-08 13:02:45,432] Trial 98 finished with value: 4865.840231744388 and parameters: {'order': (1, 0, 2), 'seasonal_order': (1, 2, 1, 12)}. Best is trial 77 with value: 4093.8992251829745.\n",
      "[I 2025-01-08 13:02:49,075] Trial 99 finished with value: 6386.622042910531 and parameters: {'order': (1, 0, 2), 'seasonal_order': (2, 1, 0, 12)}. Best is trial 77 with value: 4093.8992251829745.\n"
     ]
    },
    {
     "name": "stdout",
     "output_type": "stream",
     "text": [
      "Accuracy: 4093.8992251829745\n",
      "best params for SARIMA_1440_336: {'order': (1, 0, 2), 'seasonal_order': (2, 1, 2, 12)}\n"
     ]
    }
   ],
   "source": [
    "date_start = '2023-11-01'\n",
    "date_end = '2024-11-01'\n",
    "window_train_size = 1440 #hours\n",
    "forecast_horizon = 336 #hours\n",
    "# 336_24, 1440_336, 17520_8760\n",
    "trials = 100\n",
    "model_name = f'SARIMAX_{window_train_size}_{forecast_horizon}'\n",
    "scaler = MinMaxScaler()\n",
    "\n",
    "data = sample_data_with_train_window(df, date_start, date_end, window_train_size)\n",
    "exog_data = sample_data_with_train_window(df2, date_start, date_end, window_train_size)\n",
    "\n",
    "data_train, data_test = get_next_window(data, window_train_size, forecast_horizon)\n",
    "exog_data_train, exog_data_test = get_next_window(exog_data, window_train_size, forecast_horizon)\n",
    "\n",
    "def safe_objective(trial):\n",
    "  try:\n",
    "    return objective_SARIMAX(trial, data_train, data_test, forecast_horizon, exog_data_train, exog_data_test, scaler)\n",
    "  except Exception as e:\n",
    "    print(f\"Failed trial: {e}. Skipped this trial.\")\n",
    "    return float('inf')\n",
    "\n",
    "warnings.filterwarnings(\"ignore\")\n",
    "study1 = optuna.create_study(direction='minimize')\n",
    "study1.optimize(safe_objective, n_trials=trials)\n",
    "\n",
    "trial=study1.best_trial\n",
    "print(f\"Accuracy: {trial.value}\")\n",
    "print(f\"best params for {model_name}: {trial.params}\")\n",
    "\n",
    "warnings.filterwarnings(\"default\")\n",
    "\n",
    "# Save the results in CSV\n",
    "if trial.value != float('inf'):\n",
    "  try:\n",
    "    df_tuning = pd.read_csv('../Results/whitebox_tuning.csv')\n",
    "  except:\n",
    "    df_tuning = pd.DataFrame(columns=['model', 'accuracy', 'params'])\n",
    "\n",
    "  new_row = {'model': model_name, 'accuracy': trial.value, 'params': str(trial.params)}\n",
    "  new_row_df = pd.DataFrame([new_row]).dropna(axis=1, how='all')\n",
    "  df_tuning = pd.concat([df_tuning, new_row_df], ignore_index=True)\n",
    "  df_tuning = df_tuning.sort_values(by=['model', 'accuracy', 'params'], ascending=True).reset_index(drop=True)\n",
    "  df_tuning.to_csv('../Results/whitebox_tuning.csv', index=False)"
   ]
  }
 ],
 "metadata": {
  "kernelspec": {
   "display_name": "Python 3",
   "language": "python",
   "name": "python3"
  },
  "language_info": {
   "codemirror_mode": {
    "name": "ipython",
    "version": 3
   },
   "file_extension": ".py",
   "mimetype": "text/x-python",
   "name": "python",
   "nbconvert_exporter": "python",
   "pygments_lexer": "ipython3",
   "version": "3.12.0"
  }
 },
 "nbformat": 4,
 "nbformat_minor": 2
}
