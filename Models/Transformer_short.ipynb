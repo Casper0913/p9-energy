{
 "cells": [
  {
   "cell_type": "markdown",
   "metadata": {},
   "source": [
    "# Transformer (Short forecasting)\n",
    "#### Sliding Window Forecasting - 2 week in, 1 day out"
   ]
  },
  {
   "cell_type": "markdown",
   "metadata": {},
   "source": [
    "### Need to run in Google CoLab"
   ]
  },
  {
   "cell_type": "code",
   "execution_count": null,
   "metadata": {},
   "outputs": [],
   "source": [
    "#!pip install torch torchvision torchaudio pandas numpy scikit-learn\n",
    "\n",
    "from google.colab import drive# type: ignore\n",
    "from google.colab import files # type: ignore\n",
    "\n",
    "# Upload files to Google Colab\n",
    "uploaded = files.upload()\n",
    "\n",
    "# Mount Google Drive\n",
    "# drive.mount('/content/drive')"
   ]
  },
  {
   "cell_type": "markdown",
   "metadata": {},
   "source": [
    "## Importing data"
   ]
  },
  {
   "cell_type": "code",
   "execution_count": 6,
   "metadata": {},
   "outputs": [
    {
     "name": "stdout",
     "output_type": "stream",
     "text": [
      "            HourUTC              HourDK  MunicipalityNo Branche  \\\n",
      "0  2021-01-01 00:00 2021-01-01 01:00:00             851  Privat   \n",
      "1  2021-01-01 01:00 2021-01-01 02:00:00             851  Privat   \n",
      "2  2021-01-01 02:00 2021-01-01 03:00:00             851  Privat   \n",
      "3  2021-01-01 03:00 2021-01-01 04:00:00             851  Privat   \n",
      "4  2021-01-01 04:00 2021-01-01 05:00:00             851  Privat   \n",
      "\n",
      "   ConsumptionkWh  \n",
      "0       35086.772  \n",
      "1       31777.762  \n",
      "2       28423.659  \n",
      "3       25675.926  \n",
      "4       24283.909  \n",
      "\n",
      "\n",
      "                HourUTC              HourDK  MunicipalityNo Branche  \\\n",
      "33834  2024-11-10 18:00 2024-11-10 19:00:00             851  Privat   \n",
      "33835  2024-11-10 19:00 2024-11-10 20:00:00             851  Privat   \n",
      "33836  2024-11-10 20:00 2024-11-10 21:00:00             851  Privat   \n",
      "33837  2024-11-10 21:00 2024-11-10 22:00:00             851  Privat   \n",
      "33838  2024-11-10 22:00 2024-11-10 23:00:00             851  Privat   \n",
      "\n",
      "       ConsumptionkWh  \n",
      "33834       48584.696  \n",
      "33835       44105.371  \n",
      "33836       41492.172  \n",
      "33837       37148.073  \n",
      "33838       33307.696  \n",
      "\n",
      "\n",
      "<class 'pandas.core.frame.DataFrame'>\n",
      "RangeIndex: 33839 entries, 0 to 33838\n",
      "Data columns (total 5 columns):\n",
      " #   Column          Non-Null Count  Dtype         \n",
      "---  ------          --------------  -----         \n",
      " 0   HourUTC         33839 non-null  object        \n",
      " 1   HourDK          33839 non-null  datetime64[ns]\n",
      " 2   MunicipalityNo  33839 non-null  int64         \n",
      " 3   Branche         33839 non-null  object        \n",
      " 4   ConsumptionkWh  33839 non-null  float64       \n",
      "dtypes: datetime64[ns](1), float64(1), int64(1), object(2)\n",
      "memory usage: 1.3+ MB\n",
      "None\n",
      "\n",
      "\n"
     ]
    }
   ],
   "source": [
    "import pandas as pd\n",
    "\n",
    "# Correct the file path to the actual location of the CSV file\n",
    "df = pd.read_csv('/Users/casper/Documents/GitHub/p9-energy/Dataset/ConsumptionIndustry.csv', sep=';')\n",
    "\n",
    "# Load the dataset for colab\n",
    "#df = pd.read_csv('ConsumptionIndustry.csv', sep=';')\n",
    "\n",
    "# Convert HourDK to datetime\n",
    "df['HourDK'] = pd.to_datetime(df['HourDK'])\n",
    "\n",
    "# Convert ConsumptionkWh to numeric\n",
    "df['ConsumptionkWh'] = df['ConsumptionkWh'].str.replace(\",\", \".\").astype(float)\n",
    "\n",
    "print(df.head())\n",
    "print('\\n')\n",
    "print(df.tail())\n",
    "print('\\n')\n",
    "print(df.info())\n",
    "print('\\n')"
   ]
  },
  {
   "cell_type": "markdown",
   "metadata": {},
   "source": [
    "## Data preperation + Feature Engineering"
   ]
  },
  {
   "cell_type": "code",
   "execution_count": 8,
   "metadata": {},
   "outputs": [
    {
     "name": "stdout",
     "output_type": "stream",
     "text": [
      "            HourUTC              HourDK  MunicipalityNo Branche  \\\n",
      "0  2021-01-01 00:00 2021-01-01 01:00:00             851  Privat   \n",
      "1  2021-01-01 01:00 2021-01-01 02:00:00             851  Privat   \n",
      "2  2021-01-01 02:00 2021-01-01 03:00:00             851  Privat   \n",
      "3  2021-01-01 03:00 2021-01-01 04:00:00             851  Privat   \n",
      "4  2021-01-01 04:00 2021-01-01 05:00:00             851  Privat   \n",
      "\n",
      "   ConsumptionkWh  Month  Weekday  Hour  isWeekend  NormalizedConsumption  \n",
      "0        0.120207      1        4     1      False               0.120207  \n",
      "1        0.100206      1        4     2      False               0.100206  \n",
      "2        0.079932      1        4     3      False               0.079932  \n",
      "3        0.063323      1        4     4      False               0.063323  \n",
      "4        0.054909      1        4     5      False               0.054909  \n"
     ]
    }
   ],
   "source": [
    "# Featues \n",
    "from sklearn.preprocessing import MinMaxScaler\n",
    "\n",
    "df['Month'] = df['HourDK'].dt.month\n",
    "df['Weekday'] = df['HourDK'].dt.weekday\n",
    "df['Hour'] = df['HourDK'].dt.hour\n",
    "df['isWeekend'] = df['Weekday'] >= 5\n",
    "\n",
    "# Skale for strøm \n",
    "scaler = MinMaxScaler()\n",
    "df['ConsumptionkWh'] = scaler.fit_transform(df[['ConsumptionkWh']])\n",
    "\n",
    "print(df.head())"
   ]
  },
  {
   "cell_type": "markdown",
   "metadata": {},
   "source": [
    "## Define Dataset and Dataloader"
   ]
  },
  {
   "cell_type": "code",
   "execution_count": null,
   "metadata": {},
   "outputs": [],
   "source": [
    "import torch\n",
    "from torch.utils.data import Dataset\n",
    "\n",
    "class EnergyDataset(Dataset): \n",
    "    def __init__self(self, data, window_size=336, forecast_horizon=24):\n",
    "        self.data = data\n",
    "        self.window_size = window_size\n",
    "        self.forecast_horizon = forecast_horizon\n",
    "\n",
    "    def __len__(self):\n",
    "        return len(self.data) - self.window_size - self.forecast_horizon\n",
    "    \n",
    "    def __getitem__(self, idx):\n",
    "        x = self.data[idx:idx+self.window_size].values\n",
    "        y = self.data[idx+self.window_size:idx+self.window_size+self.forecast_horizon].values\n",
    "        return torch.tensor(x, dtype=torch.float32), torch.tensor(y, dtype=torch.float32)\n",
    "\n",
    "# Prepare the data for the sliding window\n",
    "data = df['ConsumptionkWh'].values\n",
    "dataset = EnergyDataset(data)\n",
    "\n",
    "# Create DataLoader\n",
    "train_loader = torch.utils.data.DataLoader(dataset, batch_size=32, shuffle=True)\n",
    "  "
   ]
  },
  {
   "cell_type": "markdown",
   "metadata": {},
   "source": [
    "## Transformer model"
   ]
  },
  {
   "cell_type": "code",
   "execution_count": null,
   "metadata": {},
   "outputs": [],
   "source": [
    "import torch.nn as nn\n",
    "\n",
    "class EnergyTransformer(torch.nn.Module):\n",
    "    def __init__(self, input_size, output_size, num_layers, heads, hidden_dim, dim_feedforward, dropout):\n",
    "        super(EnergyTransformer, self).__init__()\n",
    "        self.input_size = input_size\n",
    "        self.output_size = output_size\n",
    "        self.num_layers = num_layers\n",
    "        self.heads = heads\n",
    "        self.hidden_dim = hidden_dim\n",
    "        self.dim_feedforward = dim_feedforward\n",
    "        self.dropout = dropout\n",
    "\n",
    "        self.encoder = nn.Linear(input_size, dim_feedforward)\n",
    "        self.transformer = nn.Transformer(d_model=dim_feedforward, nhead=heads, num_encoder_layers=num_layers, num_decoder_layers=num_layers, dim_feedforward=hidden_dim, dropout=dropout)\n",
    "        self.decoder = nn.Linear(dim_feedforward, output_size)\n",
    "    \n",
    "    def forward(self, x):\n",
    "        x = x.permute(1, 0, 2)\n",
    "        x = self.encoder(x)\n",
    "        x = self.transformer(x, x)\n",
    "        x = x[-1, :, :]\n",
    "        x = self.decoder(x)\n",
    "        return x\n",
    "\n",
    "# Initialize the model\n",
    "model = EnergyTransformer(input_size=1, output_size=24, num_layers=2, heads=4, hidden_dim=32, dim_feedforward=512, dropout=0.1)"
   ]
  },
  {
   "cell_type": "markdown",
   "metadata": {},
   "source": [
    "### Define Loss Function and Optimizer"
   ]
  },
  {
   "cell_type": "code",
   "execution_count": null,
   "metadata": {},
   "outputs": [],
   "source": [
    "# Define the loss function and optimizer\n",
    "\n",
    "# Mean Squared Error Loss (L2 Loss)\n",
    "criterion = nn.MSELoss()\n",
    "\n",
    "# Adam Optimizer\n",
    "optimizer = torch.optim.Adam(model.parameters(), lr=0.0001)"
   ]
  },
  {
   "cell_type": "markdown",
   "metadata": {},
   "source": [
    "## Traning the model"
   ]
  },
  {
   "cell_type": "code",
   "execution_count": null,
   "metadata": {},
   "outputs": [],
   "source": [
    "epochs = 50 \n",
    "for epoch in range(epochs): \n",
    "  model.train()\n",
    "  epoch_loss = 0\n",
    "\n",
    "  for x_batch, y_batch in train_loader:\n",
    "    # Step 1 - Zero the gradients\n",
    "    optimizer.zero_grad()\n",
    "\n",
    "    # Step 2 - Forward pass\n",
    "    output = model(x_batch.unsqueeze(-1))\n",
    "\n",
    "    # Step 3 - Compute the loss\n",
    "    loss = criterion(output, y_batch)\n",
    "\n",
    "    # Step 4 - Backward pass\n",
    "    loss.backward()\n",
    "\n",
    "    # Step 5 - Update the weights\n",
    "    optimizer.step()\n",
    "\n",
    "    # Add the loss to the epoch loss\n",
    "    epoch_loss += loss.item()\n",
    "\n",
    "  print(f'Epoch {epoch+1}/{epochs}, Loss: {epoch_loss/len(train_loader)}')\n",
    " "
   ]
  },
  {
   "cell_type": "markdown",
   "metadata": {},
   "source": [
    "## Evaluate Model"
   ]
  },
  {
   "cell_type": "code",
   "execution_count": null,
   "metadata": {},
   "outputs": [],
   "source": [
    "\n",
    "model.eval()\n",
    "forecast_results = []\n",
    "forecast_start_date = pd.to_datetime('2021-11-01')\n",
    "\n",
    "for i in range(365): \n",
    "  # Extract the last two weeks of data\n",
    "  end_idx = df[df['HourDK'] == forecast_start_date].index[0]\n",
    "  window_data = df['ConsumptionkWh'].iloc[end_idx-336:end_idx].values\n",
    "  X_input = torch.tensor(window_data, dtype=torch.float32).unsqueeze(0).unsqueeze(-1)\n",
    "\n",
    "  # Predict the next 24 hours\n",
    "  with torch.no_grad():\n",
    "    predicted = model(X_input).squeeze().numpy()\n",
    "\n",
    "  # Append the results to the forecast_results list\n",
    "  predicted  = scaler.inverse_transform(predicted.reshape(-1, 1)).flatten()\n",
    "\n",
    "  "
   ]
  },
  {
   "cell_type": "markdown",
   "metadata": {},
   "source": [
    "### Common Evaluation Metrics for Regression\n"
   ]
  },
  {
   "cell_type": "code",
   "execution_count": null,
   "metadata": {},
   "outputs": [],
   "source": []
  },
  {
   "cell_type": "markdown",
   "metadata": {},
   "source": [
    "### Visualize Model Performance"
   ]
  },
  {
   "cell_type": "code",
   "execution_count": null,
   "metadata": {},
   "outputs": [],
   "source": []
  },
  {
   "cell_type": "markdown",
   "metadata": {},
   "source": [
    "## Load Tensorboard"
   ]
  },
  {
   "cell_type": "code",
   "execution_count": null,
   "metadata": {},
   "outputs": [],
   "source": [
    "%reload_ext tensorboard "
   ]
  },
  {
   "cell_type": "markdown",
   "metadata": {},
   "source": [
    "## Save data from traning om Google Colab as zip file\n",
    "Makes a zip file from traning data"
   ]
  },
  {
   "cell_type": "code",
   "execution_count": null,
   "metadata": {},
   "outputs": [],
   "source": [
    "!zip -r Training.zip Training_data/"
   ]
  }
 ],
 "metadata": {
  "kernelspec": {
   "display_name": "testing_env",
   "language": "python",
   "name": "python3"
  },
  "language_info": {
   "codemirror_mode": {
    "name": "ipython",
    "version": 3
   },
   "file_extension": ".py",
   "mimetype": "text/x-python",
   "name": "python",
   "nbconvert_exporter": "python",
   "pygments_lexer": "ipython3",
   "version": "3.9.20"
  }
 },
 "nbformat": 4,
 "nbformat_minor": 2
}
