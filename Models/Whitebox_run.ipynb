{
  "cells": [
    {
      "cell_type": "code",
      "execution_count": 12,
      "metadata": {
        "colab": {
          "base_uri": "https://localhost:8080/"
        },
        "id": "l19CMLuKokL0",
        "outputId": "598be781-2a9e-4618-9954-32348cf3cb37"
      },
      "outputs": [
        {
          "name": "stdout",
          "output_type": "stream",
          "text": [
            "Requirement already satisfied: numpy in c:\\users\\sebas\\appdata\\local\\programs\\python\\python312\\lib\\site-packages (1.26.2)\n",
            "Requirement already satisfied: pandas in c:\\users\\sebas\\appdata\\local\\programs\\python\\python312\\lib\\site-packages (2.1.3)\n",
            "Requirement already satisfied: statsmodels in c:\\users\\sebas\\appdata\\local\\programs\\python\\python312\\lib\\site-packages (0.14.4)\n",
            "Requirement already satisfied: matplotlib in c:\\users\\sebas\\appdata\\local\\programs\\python\\python312\\lib\\site-packages (3.8.2)\n",
            "Requirement already satisfied: seaborn in c:\\users\\sebas\\appdata\\local\\programs\\python\\python312\\lib\\site-packages (0.13.2)\n",
            "Requirement already satisfied: prophet in c:\\users\\sebas\\appdata\\local\\programs\\python\\python312\\lib\\site-packages (1.1.6)\n",
            "Collecting sklearn\n",
            "  Using cached sklearn-0.0.post12.tar.gz (2.6 kB)\n",
            "  Preparing metadata (setup.py): started\n",
            "  Preparing metadata (setup.py): finished with status 'error'\n"
          ]
        },
        {
          "name": "stderr",
          "output_type": "stream",
          "text": [
            "  error: subprocess-exited-with-error\n",
            "  \n",
            "  × python setup.py egg_info did not run successfully.\n",
            "  │ exit code: 1\n",
            "  ╰─> [15 lines of output]\n",
            "      The 'sklearn' PyPI package is deprecated, use 'scikit-learn'\n",
            "      rather than 'sklearn' for pip commands.\n",
            "      \n",
            "      Here is how to fix this error in the main use cases:\n",
            "      - use 'pip install scikit-learn' rather than 'pip install sklearn'\n",
            "      - replace 'sklearn' by 'scikit-learn' in your pip requirements files\n",
            "        (requirements.txt, setup.py, setup.cfg, Pipfile, etc ...)\n",
            "      - if the 'sklearn' package is used by one of your dependencies,\n",
            "        it would be great if you take some time to track which package uses\n",
            "        'sklearn' instead of 'scikit-learn' and report it to their issue tracker\n",
            "      - as a last resort, set the environment variable\n",
            "        SKLEARN_ALLOW_DEPRECATED_SKLEARN_PACKAGE_INSTALL=True to avoid this error\n",
            "      \n",
            "      More information is available at\n",
            "      https://github.com/scikit-learn/sklearn-pypi-package\n",
            "      [end of output]\n",
            "  \n",
            "  note: This error originates from a subprocess, and is likely not a problem with pip.\n",
            "error: metadata-generation-failed\n",
            "\n",
            "× Encountered error while generating package metadata.\n",
            "╰─> See above for output.\n",
            "\n",
            "note: This is an issue with the package mentioned above, not pip.\n",
            "hint: See above for details.\n"
          ]
        }
      ],
      "source": [
        "!pip install numpy pandas statsmodels matplotlib seaborn prophet sklearn"
      ]
    },
    {
      "cell_type": "code",
      "execution_count": 13,
      "metadata": {
        "colab": {
          "base_uri": "https://localhost:8080/",
          "height": 108
        },
        "id": "dwxyytKFokL5",
        "outputId": "7017c9ec-8b73-4960-ddc9-5f016434625c"
      },
      "outputs": [],
      "source": [
        "import numpy as np\n",
        "import pandas as pd\n",
        "import matplotlib.pyplot as plt\n",
        "import time\n",
        "\n",
        "from statsmodels.tsa.statespace.sarimax import SARIMAX\n",
        "from statsmodels.tsa.statespace.dynamic_factor_mq import DynamicFactorMQ\n",
        "from statsmodels.tsa.forecasting.theta import ThetaModel\n",
        "from datetime import datetime, timedelta\n",
        "\n",
        "from sklearn.metrics import mean_squared_error\n",
        "from sklearn.metrics import root_mean_squared_error\n",
        "from sklearn.metrics import mean_absolute_error\n",
        "from sklearn.preprocessing import MinMaxScaler\n",
        "\n",
        "import warnings\n",
        "warnings.filterwarnings('once')"
      ]
    },
    {
      "cell_type": "markdown",
      "metadata": {
        "id": "0YgucsbRokL7"
      },
      "source": [
        "Functions"
      ]
    },
    {
      "cell_type": "code",
      "execution_count": 14,
      "metadata": {
        "colab": {
          "base_uri": "https://localhost:8080/"
        },
        "id": "wu3IjrtfokL8",
        "outputId": "4481607a-b0a9-4e57-cbde-7b4c792c2ebd"
      },
      "outputs": [],
      "source": [
        "def sample_data(df, start_date):\n",
        "  start_date = datetime.strptime(start_date, '%Y-%m-%d')\n",
        "  end_date = df.index[-1]\n",
        "  return df[(df.index >= start_date) & (df.index <= end_date)]\n",
        "\n",
        "def sample_data_with_train_window(df, start_date, train_window_size):\n",
        "  start_date = datetime.strptime(start_date, '%Y-%m-%d') - timedelta(hours=train_window_size)\n",
        "  end_date = df.index[-1]\n",
        "  return df[(df.index >= start_date) & (df.index <= end_date)]\n",
        "\n",
        "def get_next_window(data, train_window_size, forecast_horizon):\n",
        "  return data[:train_window_size], data[train_window_size:train_window_size + forecast_horizon]\n",
        "\n",
        "def forecast_whitebox_model(model, forecast_horizon, model_name, exog_data_test=None):\n",
        "  model_res = model.fit(disp=0)\n",
        "\n",
        "  if \"SARIMA\" in model_name:\n",
        "    return model_res.get_forecast(steps=forecast_horizon, exog=exog_data_test).predicted_mean\n",
        "  else:\n",
        "    return model_res.forecast(steps=forecast_horizon)\n",
        "\n",
        "def save_results(results, config_name, date_start, forecast_horizon, iterations):\n",
        "  df_predictions = pd.DataFrame(results)\n",
        "  df_predictions.index = pd.date_range(start=date_start, periods=forecast_horizon*iterations, freq='h')\n",
        "\n",
        "  df_predictions.to_csv(f'../Results/Whitebox/Forecasting/{config_name}.csv', header=False)\n",
        "\n",
        "def save_runtime(runtime, config_name):\n",
        "  try:\n",
        "    df_runtime = pd.read_csv('../Results/Whitebox/Forecasting/whitebox_runtime.csv')\n",
        "  except:\n",
        "    df_runtime = pd.DataFrame(columns=['model', 'runtime'])\n",
        "\n",
        "  new_row = {'model': config_name, 'runtime': runtime}\n",
        "  df_runtime = pd.concat([df_runtime, pd.DataFrame([new_row])], ignore_index=True)\n",
        "  df_runtime = df_runtime.sort_values(by=['model', 'runtime'], ascending=True).reset_index(drop=True)\n",
        "  df_runtime.to_csv('../Results/Whitebox/Forecasting/whitebox_runtime.csv', index=False)"
      ]
    },
    {
      "cell_type": "markdown",
      "metadata": {
        "id": "qpBeKoKIokL9"
      },
      "source": [
        "Initializing time series"
      ]
    },
    {
      "cell_type": "code",
      "execution_count": 15,
      "metadata": {
        "id": "qLzqsqWzokL9"
      },
      "outputs": [],
      "source": [
        "# Consumption data\n",
        "df = pd.read_csv('../Dataset/ConsumptionIndustry.csv', sep=';')\n",
        "df['HourDK'] = pd.to_datetime(df['HourDK'])\n",
        "df['ConsumptionkWh'] = df['ConsumptionkWh'].str.replace(\",\", \".\").astype(float)\n",
        "df.index = df['HourDK']\n",
        "\n",
        "# format data here\n",
        "df.drop(columns=['HourUTC', 'HourDK', 'MunicipalityNo', 'Branche'], inplace=True)"
      ]
    },
    {
      "cell_type": "code",
      "execution_count": 16,
      "metadata": {
        "colab": {
          "base_uri": "https://localhost:8080/"
        },
        "id": "RCMdTWhEokL-",
        "outputId": "a5762d2b-cf0a-44d2-ecf1-1ae3da72ecfe"
      },
      "outputs": [],
      "source": [
        "# El-spot prices\n",
        "df2 = pd.read_csv('../Dataset/ELSpotPrices.csv', sep=';')\n",
        "df2['HourDK'] = pd.to_datetime(df2['HourDK'])\n",
        "df2['SpotPriceDKK'] = df2['SpotPriceDKK'].str.replace(\",\", \".\").astype(float)\n",
        "df2.index = df2['HourDK']\n",
        "df2 = df2.iloc[1:] # remove first row, since the measurement at that time is not present in other dataset\n",
        "df2.drop(columns=['HourUTC', 'HourDK', 'PriceArea', 'SpotPriceEUR'], inplace=True)"
      ]
    },
    {
      "cell_type": "code",
      "execution_count": 17,
      "metadata": {},
      "outputs": [],
      "source": [
        "# at 196\n",
        "date_start = '2023-11-01'\n",
        "window_train_size = 336 #hours\n",
        "forecast_horizon = 24 #hours\n",
        "pos = 196\n",
        "\n",
        "data = sample_data_with_train_window(df, date_start, window_train_size) # start: date_start - window_train_size, end: last date in df\n",
        "iterations = 0\n",
        "max_iterations = 366\n",
        "\n",
        "while len(data) > window_train_size + forecast_horizon:\n",
        "  data_train, data_test = get_next_window(data, window_train_size, forecast_horizon)\n",
        "  data = data.iloc[forecast_horizon:]\n",
        "  if iterations == 194:\n",
        "    # print(data_train)\n",
        "    # print(data_test)\n",
        "    # data_train.to_csv('data_train2.csv')\n",
        "    break\n",
        "  iterations += 1\n",
        "  # print(f'Iteration {iterations}/{max_iterations}')\n",
        "\n",
        "  "
      ]
    },
    {
      "cell_type": "markdown",
      "metadata": {
        "id": "Gltp-UsjokL-"
      },
      "source": [
        "Runs a model in Sliding Window forecasting style"
      ]
    },
    {
      "cell_type": "code",
      "execution_count": 21,
      "metadata": {
        "colab": {
          "base_uri": "https://localhost:8080/"
        },
        "id": "8r7Dyq4TokL_",
        "outputId": "29a74ab2-cfcf-4c72-c6fd-51172664247a"
      },
      "outputs": [
        {
          "name": "stdout",
          "output_type": "stream",
          "text": [
            "Iteration 1\n"
          ]
        }
      ],
      "source": [
        "model_name = 'SARIMAX'\n",
        "date_start = '2023-11-01'\n",
        "window_train_size = 17520 #hours\n",
        "forecast_horizon = 8760 #hours\n",
        "# 336_24, 1440_336, 17520_8760\n",
        "\n",
        "config_name = f'{model_name}_{window_train_size}_{forecast_horizon}'\n",
        "\n",
        "warnings.filterwarnings(\"ignore\")\n",
        "\n",
        "start_time = time.time()\n",
        "\n",
        "data = sample_data_with_train_window(df, date_start, window_train_size) # start: date_start - window_train_size, end: last date in df\n",
        "exog_data = sample_data_with_train_window(df2, date_start, window_train_size)\n",
        "results = np.array([])\n",
        "iterations = 0\n",
        "\n",
        "scaler = MinMaxScaler()\n",
        "\n",
        "while len(data) > window_train_size + forecast_horizon:\n",
        "  data_train, data_test = get_next_window(data, window_train_size, forecast_horizon)\n",
        "  exog_data_train, exog_data_test = get_next_window(exog_data, window_train_size, forecast_horizon)\n",
        "\n",
        "  data_train_scaled = scaler.fit_transform(data_train[['ConsumptionkWh']])\n",
        "  data_train = pd.DataFrame(data_train_scaled, columns=['ConsumptionkWh'], index=data_train.index)\n",
        "  model = SARIMAX(data_train, order=(0, 1, 0), seasonal_order=(2, 1, 2, 12), exog=exog_data_train)\n",
        "  # model = SARIMAX(data_train, order=(0, 0, 0), seasonal_order=(1, 1, 2, 12))\n",
        "\n",
        "  for attempt in range(5):\n",
        "    try:\n",
        "      predictions_scaled = forecast_whitebox_model(model, forecast_horizon, model_name, exog_data_test)\n",
        "      # predictions_scaled = forecast_whitebox_model(model, forecast_horizon, model_name)\n",
        "      predictions = scaler.inverse_transform(predictions_scaled.values.reshape(-1, 1))\n",
        "      predictions = pd.Series(predictions.flatten(), index=data_test.index)\n",
        "      break\n",
        "    except Exception as e:\n",
        "      print(f'Attempt {attempt+1} failed: {e}')\n",
        "      if attempt == 4:\n",
        "        raise RuntimeError(f'Model failed to fit and forecast after 5 attempts at iteration {iterations}')\n",
        "\n",
        "  results = np.append(results, predictions.values)\n",
        "  data = data.iloc[forecast_horizon:] # move window by forecast_horizon\n",
        "  # exog_data = exog_data.iloc[forecast_horizon:]\n",
        "  \n",
        "  iterations += 1\n",
        "  print(f'Iteration {iterations}')\n",
        "\n",
        "end_time = time.time()\n",
        "\n",
        "warnings.filterwarnings(\"default\")\n",
        "\n",
        "save_results(results, config_name, date_start, forecast_horizon, iterations)\n",
        "save_runtime(runtime=end_time - start_time, config_name=config_name)"
      ]
    },
    {
      "cell_type": "markdown",
      "metadata": {
        "id": "dmTHHLULokMB"
      },
      "source": [
        "Plot of forecasts"
      ]
    },
    {
      "cell_type": "code",
      "execution_count": 19,
      "metadata": {
        "colab": {
          "base_uri": "https://localhost:8080/",
          "height": 405
        },
        "id": "Mnxfd2ATokMB",
        "outputId": "64249795-59e9-4fba-9ebd-a3c77cb20175"
      },
      "outputs": [
        {
          "name": "stdout",
          "output_type": "stream",
          "text": [
            "-- SARIMA --\n",
            "mae: 4300.401658450579\n",
            "mse: 32538872.417222656\n",
            "rmse: 5704.28544317539\n"
          ]
        },
        {
          "data": {
            "text/plain": [
              "<matplotlib.legend.Legend at 0x1f2ec3609e0>"
            ]
          },
          "execution_count": 19,
          "metadata": {},
          "output_type": "execute_result"
        },
        {
          "data": {
            "image/png": "[encoded data removed]",
            "text/plain": [
              "<Figure size 800x300 with 1 Axes>"
            ]
          },
          "metadata": {},
          "output_type": "display_data"
        }
      ],
      "source": [
        "def evaluate(prediction, data, name):\n",
        "    print(f\"-- {name} --\")\n",
        "    print(f\"mae: {mean_absolute_error(data, prediction)}\")\n",
        "    print(f\"mse: {mean_squared_error(data, prediction)}\")\n",
        "    print(f\"rmse: {root_mean_squared_error(data, prediction)}\")\n",
        "\n",
        "prediction = pd.read_csv('../Results/Whitebox/Forecasting/SARIMA_336_24.csv', header=None, index_col=0, names=['Prediction'])\n",
        "prediction.index = pd.to_datetime(prediction.index)\n",
        "\n",
        "data = df.tail(len(prediction))\n",
        "difference = data['ConsumptionkWh'] - prediction['Prediction']\n",
        "\n",
        "evaluate(prediction['Prediction'], data, 'SARIMA')\n",
        "\n",
        "fig, ax = plt.subplots(figsize=(8, 3))\n",
        "difference.plot(ax=ax, label='Difference', color='red')\n",
        "ax.set_title('Difference between true and predicted values')\n",
        "ax.legend()"
      ]
    },
    {
      "cell_type": "markdown",
      "metadata": {
        "id": "2kpUOEeCokMB"
      },
      "source": [
        "Evaluate algorithm performance"
      ]
    }
  ],
  "metadata": {
    "colab": {
      "provenance": []
    },
    "kernelspec": {
      "display_name": "Python 3",
      "language": "python",
      "name": "python3"
    },
    "language_info": {
      "codemirror_mode": {
        "name": "ipython",
        "version": 3
      },
      "file_extension": ".py",
      "mimetype": "text/x-python",
      "name": "python",
      "nbconvert_exporter": "python",
      "pygments_lexer": "ipython3",
      "version": "3.12.0"
    }
  },
  "nbformat": 4,
  "nbformat_minor": 0
}
